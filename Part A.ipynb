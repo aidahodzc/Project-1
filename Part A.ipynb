{
 "cells": [
  {
   "cell_type": "markdown",
   "metadata": {},
   "source": [
    "# **Project Assignment - Part A**\n",
    "<p align=\"center\"><strong>Financial Econometrics II </strong> </p>  \n",
    "<p align=\"center\">Nicolás Rivera & Aida Hodzic</p>"
   ]
  },
  {
   "cell_type": "markdown",
   "metadata": {},
   "source": [
    "**1. & 2. Creating the environment and loading necessary packages**"
   ]
  },
  {
   "cell_type": "code",
   "execution_count": 8,
   "metadata": {},
   "outputs": [
    {
     "name": "stderr",
     "output_type": "stream",
     "text": [
      "\u001b[32m\u001b[1m  Activating\u001b[22m\u001b[39m project at `c:\\Users\\Korisnik\\Documents\\GitHub\\Project-1`\n"
     ]
    }
   ],
   "source": [
    "import Pkg\n",
    "Pkg.activate(\".)\n",
    "#include(Project.jl)"
   ]
  },
  {
   "cell_type": "code",
   "execution_count": 21,
   "metadata": {},
   "outputs": [
    {
     "name": "stderr",
     "output_type": "stream",
     "text": [
      "\u001b[32m\u001b[1m   Resolving\u001b[22m\u001b[39m package versions...\n",
      "\u001b[32m\u001b[1m  No Changes\u001b[22m\u001b[39m to `C:\\Users\\Korisnik\\Documents\\GitHub\\Project-1\\Project.toml`\n",
      "\u001b[32m\u001b[1m  No Changes\u001b[22m\u001b[39m to `C:\\Users\\Korisnik\\Documents\\GitHub\\Project-1\\Manifest.toml`\n"
     ]
    }
   ],
   "source": [
    "#Pkg.add([\"MarketData\",\"Statistics\",\"Plots\",\"Dates\",\"DataFrames\",\"StatsBase\",\"StatsPlots\", \"Images\", \"PrettyTables\"])"
   ]
  },
  {
   "cell_type": "code",
   "execution_count": 24,
   "metadata": {},
   "outputs": [
    {
     "name": "stderr",
     "output_type": "stream",
     "text": [
      "\u001b[32m\u001b[1m   Resolving\u001b[22m\u001b[39m package versions...\n",
      "\u001b[32m\u001b[1m  No Changes\u001b[22m\u001b[39m to `C:\\Users\\Korisnik\\Documents\\GitHub\\Project-1\\Project.toml`\n",
      "\u001b[32m\u001b[1m  No Changes\u001b[22m\u001b[39m to `C:\\Users\\Korisnik\\Documents\\GitHub\\Project-1\\Manifest.toml`\n",
      "\u001b[32m\u001b[1mPrecompiling\u001b[22m\u001b[39m project...\n",
      "\u001b[91m  ✗ \u001b[39m\u001b[90mZipFile\u001b[39m\n",
      "\u001b[91m  ✗ \u001b[39m\u001b[90mDualNumbers\u001b[39m\n",
      "\u001b[91m  ✗ \u001b[39m\u001b[90mForwardDiff\u001b[39m\n",
      "\u001b[91m  ✗ \u001b[39m\u001b[90mPNGFiles\u001b[39m\n",
      "\u001b[91m  ✗ \u001b[39m\u001b[90mColorVectorSpace\u001b[39m\n",
      "\u001b[91m  ✗ \u001b[39m\u001b[90mStatsModels\u001b[39m\n",
      "\u001b[91m  ✗ \u001b[39m\u001b[90mQuaternions\u001b[39m\n",
      "\u001b[91m  ✗ \u001b[39mFlux\n",
      "\u001b[91m  ✗ \u001b[39m\u001b[90mNLSolversBase\u001b[39m\n",
      "\u001b[91m  ✗ \u001b[39m\u001b[90mRoots → RootsForwardDiffExt\u001b[39m\n",
      "\u001b[91m  ✗ \u001b[39m\u001b[90mImageMorphology\u001b[39m\n",
      "\u001b[91m  ✗ \u001b[39m\u001b[90mImageMetadata\u001b[39m\n",
      "\u001b[91m  ✗ \u001b[39m\u001b[90mNetpbm\u001b[39m\n",
      "\u001b[91m  ✗ \u001b[39m\u001b[90mImageFiltering\u001b[39m\n",
      "\u001b[91m  ✗ \u001b[39m\u001b[90mMathOptInterface\u001b[39m\n",
      "\u001b[91m  ✗ \u001b[39mGLM\n",
      "\u001b[91m  ✗ \u001b[39m\u001b[90mRotations\u001b[39m\n",
      "\u001b[91m  ✗ \u001b[39m\u001b[90mLineSearches\u001b[39m\n",
      "\u001b[91m  ✗ \u001b[39m\u001b[90mHypothesisTests\u001b[39m\n",
      "\u001b[91m  ✗ \u001b[39m\u001b[90mImageDistances\u001b[39m\n",
      "\u001b[91m  ✗ \u001b[39mOptim\n",
      "\u001b[91m  ✗ \u001b[39m\u001b[90mImageTransformations\u001b[39m\n",
      "\u001b[91m  ✗ \u001b[39m\u001b[90mImageQualityIndexes\u001b[39m\n",
      "\u001b[91m  ✗ \u001b[39m\u001b[90mOptim → OptimMOIExt\u001b[39m\n",
      "\u001b[91m  ✗ \u001b[39m\u001b[90mImageContrastAdjustment\u001b[39m\n",
      "\u001b[91m  ✗ \u001b[39mARCHModels\n",
      "\u001b[91m  ✗ \u001b[39mImages\n",
      "\u001b[91m  ✗ \u001b[39m\u001b[90mNLopt\u001b[39m\n",
      "\u001b[91m  ✗ \u001b[39mGARCH\n",
      "  0 dependencies successfully precompiled in 338 seconds. 226 already precompiled. 6 skipped during auto due to previous errors.\n",
      "  \u001b[91m29\u001b[39m dependencies errored.\n",
      "  For a report of the errors see `julia> err`. To retry use `pkg> precompile`\n"
     ]
    }
   ],
   "source": [
    "#Pkg.add([\"Distributions\", \"CSV\"])"
   ]
  },
  {
   "cell_type": "code",
   "execution_count": 25,
   "metadata": {},
   "outputs": [
    {
     "name": "stderr",
     "output_type": "stream",
     "text": [
      "\u001b[32m\u001b[1m   Resolving\u001b[22m\u001b[39m package versions...\n",
      "\u001b[32m\u001b[1m  No Changes\u001b[22m\u001b[39m to `C:\\Users\\Korisnik\\Documents\\GitHub\\Project-1\\Project.toml`\n",
      "\u001b[32m\u001b[1m  No Changes\u001b[22m\u001b[39m to `C:\\Users\\Korisnik\\Documents\\GitHub\\Project-1\\Manifest.toml`\n"
     ]
    }
   ],
   "source": [
    "#Pkg.add([\"LinearAlgebra\",\"BSON\", \"Optim\",\"GARCH\", \"ARCHModels\",\"Flux\",\"GLM\"])"
   ]
  },
  {
   "cell_type": "code",
   "execution_count": 101,
   "metadata": {},
   "outputs": [
    {
     "name": "stderr",
     "output_type": "stream",
     "text": [
      "\u001b[32m\u001b[1mPrecompiling\u001b[22m\u001b[39m StatsPlots\n",
      "\u001b[91m  ✗ \u001b[39m\u001b[90mBinaryProvider\u001b[39m\n",
      "\u001b[91m  ✗ \u001b[39m\u001b[90mSpecialFunctions\u001b[39m\n",
      "\u001b[91m  ✗ \u001b[39m\u001b[90mStatsFuns\u001b[39m\n",
      "\u001b[91m  ✗ \u001b[39mDistributions\n",
      "\u001b[91m  ✗ \u001b[39m\u001b[90mKernelDensity\u001b[39m\n",
      "\u001b[36m\u001b[1m        Info\u001b[22m\u001b[39m Given StatsPlots was explicitly requested, output will be shown live \u001b[0K\n",
      "\u001b[0K\u001b[91m\u001b[1mERROR: \u001b[22m\u001b[39mLoadError: SpecialFunctions is not installed properly, run `Pkg.build(\"SpecialFunctions\")`,restart Julia and try again\n",
      "\u001b[0KStacktrace:\n",
      "\u001b[0K [1] \u001b[0m\u001b[1merror\u001b[22m\u001b[0m\u001b[1m(\u001b[22m\u001b[90ms\u001b[39m::\u001b[0mString\u001b[0m\u001b[1m)\u001b[22m\n",
      "\u001b[0K\u001b[90m   @\u001b[39m \u001b[90mBase\u001b[39m \u001b[90m.\\\u001b[39m\u001b[90m\u001b[4merror.jl:35\u001b[24m\u001b[39m\n",
      "\u001b[0K [2] top-level scope\n",
      "\u001b[0K\u001b[90m   @\u001b[39m \u001b[90mC:\\Users\\Korisnik\\.julia\\packages\\SpecialFunctions\\ne2iw\\src\\\u001b[39m\u001b[90m\u001b[4mSpecialFunctions.jl:6\u001b[24m\u001b[39m\n",
      "\u001b[0K [3] \u001b[0m\u001b[1minclude\u001b[22m\n",
      "\u001b[0K\u001b[90m   @\u001b[39m \u001b[90m.\\\u001b[39m\u001b[90m\u001b[4mBase.jl:495\u001b[24m\u001b[39m\u001b[90m [inlined]\u001b[39m\n",
      "\u001b[0K [4] \u001b[0m\u001b[1minclude_package_for_output\u001b[22m\u001b[0m\u001b[1m(\u001b[22m\u001b[90mpkg\u001b[39m::\u001b[0mBase.PkgId, \u001b[90minput\u001b[39m::\u001b[0mString, \u001b[90mdepot_path\u001b[39m::\u001b[0mVector\u001b[90m{String}\u001b[39m, \u001b[90mdl_load_path\u001b[39m::\u001b[0mVector\u001b[90m{String}\u001b[39m, \u001b[90mload_path\u001b[39m::\u001b[0mVector\u001b[90m{String}\u001b[39m, \u001b[90mconcrete_deps\u001b[39m::\u001b[0mVector\u001b[90m{Pair{Base.PkgId, UInt128}}\u001b[39m, \u001b[90msource\u001b[39m::\u001b[0mString\u001b[0m\u001b[1m)\u001b[22m\n",
      "\u001b[0K\u001b[90m   @\u001b[39m \u001b[90mBase\u001b[39m \u001b[90m.\\\u001b[39m\u001b[90m\u001b[4mloading.jl:2222\u001b[24m\u001b[39m\n",
      "\u001b[0K [5] top-level scope\n",
      "\u001b[0K\u001b[90m   @\u001b[39m \u001b[90m\u001b[4mstdin:3\u001b[24m\u001b[39m\n",
      "\u001b[0Kin expression starting at C:\\Users\\Korisnik\\.julia\\packages\\SpecialFunctions\\ne2iw\\src\\SpecialFunctions.jl:1\n",
      "\u001b[0Kin expression starting at stdin:3\n",
      "\u001b[0K\u001b[91m\u001b[1mERROR: \u001b[22m\u001b[39mLoadError: Failed to precompile SpecialFunctions [276daf66-3868-5448-9aa4-cd146d93841b] to \"C:\\\\Users\\\\Korisnik\\\\.julia\\\\compiled\\\\v1.10\\\\SpecialFunctions\\\\jl_F8B8.tmp\".\n",
      "\u001b[0KStacktrace:\n",
      "\u001b[0K  [1] \u001b[0m\u001b[1merror\u001b[22m\u001b[0m\u001b[1m(\u001b[22m\u001b[90ms\u001b[39m::\u001b[0mString\u001b[0m\u001b[1m)\u001b[22m\n",
      "\u001b[0K\u001b[90m    @\u001b[39m \u001b[90mBase\u001b[39m \u001b[90m.\\\u001b[39m\u001b[90m\u001b[4merror.jl:35\u001b[24m\u001b[39m\n",
      "\u001b[0K  [2] \u001b[0m\u001b[1mcompilecache\u001b[22m\u001b[0m\u001b[1m(\u001b[22m\u001b[90mpkg\u001b[39m::\u001b[0mBase.PkgId, \u001b[90mpath\u001b[39m::\u001b[0mString, \u001b[90minternal_stderr\u001b[39m::\u001b[0mIO, \u001b[90minternal_stdout\u001b[39m::\u001b[0mIO, \u001b[90mkeep_loaded_modules\u001b[39m::\u001b[0mBool\u001b[0m\u001b[1m)\u001b[22m\n",
      "\u001b[0K\u001b[90m    @\u001b[39m \u001b[90mBase\u001b[39m \u001b[90m.\\\u001b[39m\u001b[90m\u001b[4mloading.jl:2468\u001b[24m\u001b[39m\n",
      "\u001b[0K  [3] \u001b[0m\u001b[1mcompilecache\u001b[22m\n",
      "\u001b[0K\u001b[90m    @\u001b[39m \u001b[90m.\\\u001b[39m\u001b[90m\u001b[4mloading.jl:2340\u001b[24m\u001b[39m\u001b[90m [inlined]\u001b[39m\n",
      "\u001b[0K  [4] \u001b[0m\u001b[1m(::Base.var\"#968#969\"{Base.PkgId})\u001b[22m\u001b[0m\u001b[1m(\u001b[22m\u001b[0m\u001b[1m)\u001b[22m\n",
      "\u001b[0K\u001b[90m    @\u001b[39m \u001b[90mBase\u001b[39m \u001b[90m.\\\u001b[39m\u001b[90m\u001b[4mloading.jl:1974\u001b[24m\u001b[39m\n",
      "\u001b[0K  [5] \u001b[0m\u001b[1mmkpidlock\u001b[22m\u001b[0m\u001b[1m(\u001b[22m\u001b[90mf\u001b[39m::\u001b[0mBase.var\"#968#969\"\u001b[90m{Base.PkgId}\u001b[39m, \u001b[90mat\u001b[39m::\u001b[0mString, \u001b[90mpid\u001b[39m::\u001b[0mInt32; \u001b[90mkwopts\u001b[39m::\u001b[0m@Kwargs\u001b[90m{stale_age::Int64, wait::Bool}\u001b[39m\u001b[0m\u001b[1m)\u001b[22m\n",
      "\u001b[0K\u001b[90m    @\u001b[39m \u001b[35mFileWatching.Pidfile\u001b[39m \u001b[90mC:\\Users\\Korisnik\\.julia\\juliaup\\julia-1.10.5+0.x64.w64.mingw32\\share\\julia\\stdlib\\v1.10\\FileWatching\\src\\\u001b[39m\u001b[90m\u001b[4mpidfile.jl:93\u001b[24m\u001b[39m\n",
      "\u001b[0K  [6] \u001b[0m\u001b[1m#mkpidlock#6\u001b[22m\n",
      "\u001b[0K\u001b[90m    @\u001b[39m \u001b[90mC:\\Users\\Korisnik\\.julia\\juliaup\\julia-1.10.5+0.x64.w64.mingw32\\share\\julia\\stdlib\\v1.10\\FileWatching\\src\\\u001b[39m\u001b[90m\u001b[4mpidfile.jl:88\u001b[24m\u001b[39m\u001b[90m [inlined]\u001b[39m\n",
      "\u001b[0K  [7] \u001b[0m\u001b[1mtrymkpidlock\u001b[22m\u001b[0m\u001b[1m(\u001b[22m::\u001b[0mFunction, ::\u001b[0mVararg\u001b[90m{Any}\u001b[39m; \u001b[90mkwargs\u001b[39m::\u001b[0m@Kwargs\u001b[90m{stale_age::Int64}\u001b[39m\u001b[0m\u001b[1m)\u001b[22m\n",
      "\u001b[0K\u001b[90m    @\u001b[39m \u001b[35mFileWatching.Pidfile\u001b[39m \u001b[90mC:\\Users\\Korisnik\\.julia\\juliaup\\julia-1.10.5+0.x64.w64.mingw32\\share\\julia\\stdlib\\v1.10\\FileWatching\\src\\\u001b[39m\u001b[90m\u001b[4mpidfile.jl:111\u001b[24m\u001b[39m\n",
      "\u001b[0K  [8] \u001b[0m\u001b[1m#invokelatest#2\u001b[22m\n",
      "\u001b[0K\u001b[90m    @\u001b[39m \u001b[90m.\\\u001b[39m\u001b[90m\u001b[4messentials.jl:894\u001b[24m\u001b[39m\u001b[90m [inlined]\u001b[39m\n",
      "\u001b[0K  [9] \u001b[0m\u001b[1minvokelatest\u001b[22m\n",
      "\u001b[0K\u001b[90m    @\u001b[39m \u001b[90m.\\\u001b[39m\u001b[90m\u001b[4messentials.jl:889\u001b[24m\u001b[39m\u001b[90m [inlined]\u001b[39m\n",
      "\u001b[0K [10] \u001b[0m\u001b[1mmaybe_cachefile_lock\u001b[22m\u001b[0m\u001b[1m(\u001b[22m\u001b[90mf\u001b[39m::\u001b[0mBase.var\"#968#969\"\u001b[90m{Base.PkgId}\u001b[39m, \u001b[90mpkg\u001b[39m::\u001b[0mBase.PkgId, \u001b[90msrcpath\u001b[39m::\u001b[0mString; \u001b[90mstale_age\u001b[39m::\u001b[0mInt64\u001b[0m\u001b[1m)\u001b[22m\n",
      "\u001b[0K\u001b[90m    @\u001b[39m \u001b[90mBase\u001b[39m \u001b[90m.\\\u001b[39m\u001b[90m\u001b[4mloading.jl:2983\u001b[24m\u001b[39m\n",
      "\u001b[0K [11] \u001b[0m\u001b[1mmaybe_cachefile_lock\u001b[22m\n",
      "\u001b[0K\u001b[90m    @\u001b[39m \u001b[90m.\\\u001b[39m\u001b[90m\u001b[4mloading.jl:2980\u001b[24m\u001b[39m\u001b[90m [inlined]\u001b[39m\n",
      "\u001b[0K [12] \u001b[0m\u001b[1m_require\u001b[22m\u001b[0m\u001b[1m(\u001b[22m\u001b[90mpkg\u001b[39m::\u001b[0mBase.PkgId, \u001b[90menv\u001b[39m::\u001b[0mString\u001b[0m\u001b[1m)\u001b[22m\n",
      "\u001b[0K\u001b[90m    @\u001b[39m \u001b[90mBase\u001b[39m \u001b[90m.\\\u001b[39m\u001b[90m\u001b[4mloading.jl:1970\u001b[24m\u001b[39m\n",
      "\u001b[0K [13] \u001b[0m\u001b[1m__require_prelocked\u001b[22m\u001b[0m\u001b[1m(\u001b[22m\u001b[90muuidkey\u001b[39m::\u001b[0mBase.PkgId, \u001b[90menv\u001b[39m::\u001b[0mString\u001b[0m\u001b[1m)\u001b[22m\n",
      "\u001b[0K\u001b[90m    @\u001b[39m \u001b[90mBase\u001b[39m \u001b[90m.\\\u001b[39m\u001b[90m\u001b[4mloading.jl:1812\u001b[24m\u001b[39m\n",
      "\u001b[0K [14] \u001b[0m\u001b[1m#invoke_in_world#3\u001b[22m\n",
      "\u001b[0K\u001b[90m    @\u001b[39m \u001b[90m.\\\u001b[39m\u001b[90m\u001b[4messentials.jl:926\u001b[24m\u001b[39m\u001b[90m [inlined]\u001b[39m\n",
      "\u001b[0K [15] \u001b[0m\u001b[1minvoke_in_world\u001b[22m\n",
      "\u001b[0K\u001b[90m    @\u001b[39m \u001b[90m.\\\u001b[39m\u001b[90m\u001b[4messentials.jl:923\u001b[24m\u001b[39m\u001b[90m [inlined]\u001b[39m\n",
      "\u001b[0K [16] \u001b[0m\u001b[1m_require_prelocked\u001b[22m\u001b[0m\u001b[1m(\u001b[22m\u001b[90muuidkey\u001b[39m::\u001b[0mBase.PkgId, \u001b[90menv\u001b[39m::\u001b[0mString\u001b[0m\u001b[1m)\u001b[22m\n",
      "\u001b[0K\u001b[90m    @\u001b[39m \u001b[90mBase\u001b[39m \u001b[90m.\\\u001b[39m\u001b[90m\u001b[4mloading.jl:1803\u001b[24m\u001b[39m\n",
      "\u001b[0K [17] \u001b[0m\u001b[1mmacro expansion\u001b[22m\n",
      "\u001b[0K\u001b[90m    @\u001b[39m \u001b[90m.\\\u001b[39m\u001b[90m\u001b[4mloading.jl:1790\u001b[24m\u001b[39m\u001b[90m [inlined]\u001b[39m\n",
      "\u001b[0K [18] \u001b[0m\u001b[1mmacro expansion\u001b[22m\n",
      "\u001b[0K\u001b[90m    @\u001b[39m \u001b[90m.\\\u001b[39m\u001b[90m\u001b[4mlock.jl:267\u001b[24m\u001b[39m\u001b[90m [inlined]\u001b[39m\n",
      "\u001b[0K [19] \u001b[0m\u001b[1m__require\u001b[22m\u001b[0m\u001b[1m(\u001b[22m\u001b[90minto\u001b[39m::\u001b[0mModule, \u001b[90mmod\u001b[39m::\u001b[0mSymbol\u001b[0m\u001b[1m)\u001b[22m\n",
      "\u001b[0K\u001b[90m    @\u001b[39m \u001b[90mBase\u001b[39m \u001b[90m.\\\u001b[39m\u001b[90m\u001b[4mloading.jl:1753\u001b[24m\u001b[39m\n",
      "\u001b[0K [20] \u001b[0m\u001b[1m#invoke_in_world#3\u001b[22m\n",
      "\u001b[0K\u001b[90m    @\u001b[39m \u001b[90m.\\\u001b[39m\u001b[90m\u001b[4messentials.jl:926\u001b[24m\u001b[39m\u001b[90m [inlined]\u001b[39m\n",
      "\u001b[0K [21] \u001b[0m\u001b[1minvoke_in_world\u001b[22m\n",
      "\u001b[0K\u001b[90m    @\u001b[39m \u001b[90m.\\\u001b[39m\u001b[90m\u001b[4messentials.jl:923\u001b[24m\u001b[39m\u001b[90m [inlined]\u001b[39m\n",
      "\u001b[0K [22] \u001b[0m\u001b[1mrequire\u001b[22m\u001b[0m\u001b[1m(\u001b[22m\u001b[90minto\u001b[39m::\u001b[0mModule, \u001b[90mmod\u001b[39m::\u001b[0mSymbol\u001b[0m\u001b[1m)\u001b[22m\n",
      "\u001b[0K\u001b[90m    @\u001b[39m \u001b[90mBase\u001b[39m \u001b[90m.\\\u001b[39m\u001b[90m\u001b[4mloading.jl:1746\u001b[24m\u001b[39m\n",
      "\u001b[0K [23] \u001b[0m\u001b[1minclude\u001b[22m\n",
      "\u001b[0K\u001b[90m    @\u001b[39m \u001b[90m.\\\u001b[39m\u001b[90m\u001b[4mBase.jl:495\u001b[24m\u001b[39m\u001b[90m [inlined]\u001b[39m\n",
      "\u001b[0K [24] \u001b[0m\u001b[1minclude_package_for_output\u001b[22m\u001b[0m\u001b[1m(\u001b[22m\u001b[90mpkg\u001b[39m::\u001b[0mBase.PkgId, \u001b[90minput\u001b[39m::\u001b[0mString, \u001b[90mdepot_path\u001b[39m::\u001b[0mVector\u001b[90m{String}\u001b[39m, \u001b[90mdl_load_path\u001b[39m::\u001b[0mVector\u001b[90m{String}\u001b[39m, \u001b[90mload_path\u001b[39m::\u001b[0mVector\u001b[90m{String}\u001b[39m, \u001b[90mconcrete_deps\u001b[39m::\u001b[0mVector\u001b[90m{Pair{Base.PkgId, UInt128}}\u001b[39m, \u001b[90msource\u001b[39m::\u001b[0mString\u001b[0m\u001b[1m)\u001b[22m\n",
      "\u001b[0K\u001b[90m    @\u001b[39m \u001b[90mBase\u001b[39m \u001b[90m.\\\u001b[39m\u001b[90m\u001b[4mloading.jl:2222\u001b[24m\u001b[39m\n",
      "\u001b[0K [25] top-level scope\n",
      "\u001b[0K\u001b[90m    @\u001b[39m \u001b[90m\u001b[4mstdin:3\u001b[24m\u001b[39m\n",
      "\u001b[0Kin expression starting at C:\\Users\\Korisnik\\.julia\\packages\\StatsFuns\\P7Mci\\src\\StatsFuns.jl:3\n",
      "\u001b[0Kin expression starting at stdin:3\n",
      "\u001b[0K\u001b[91m\u001b[1mERROR: \u001b[22m\u001b[39mLoadError: Failed to precompile StatsFuns [4c63d2b9-4356-54db-8cca-17b64c39e42c] to \"C:\\\\Users\\\\Korisnik\\\\.julia\\\\compiled\\\\v1.10\\\\StatsFuns\\\\jl_F491.tmp\".\n",
      "\u001b[0KStacktrace:\n",
      "\u001b[0K  [1] \u001b[0m\u001b[1merror\u001b[22m\u001b[0m\u001b[1m(\u001b[22m\u001b[90ms\u001b[39m::\u001b[0mString\u001b[0m\u001b[1m)\u001b[22m\n",
      "\u001b[0K\u001b[90m    @\u001b[39m \u001b[90mBase\u001b[39m \u001b[90m.\\\u001b[39m\u001b[90m\u001b[4merror.jl:35\u001b[24m\u001b[39m\n",
      "\u001b[0K  [2] \u001b[0m\u001b[1mcompilecache\u001b[22m\u001b[0m\u001b[1m(\u001b[22m\u001b[90mpkg\u001b[39m::\u001b[0mBase.PkgId, \u001b[90mpath\u001b[39m::\u001b[0mString, \u001b[90minternal_stderr\u001b[39m::\u001b[0mIO, \u001b[90minternal_stdout\u001b[39m::\u001b[0mIO, \u001b[90mkeep_loaded_modules\u001b[39m::\u001b[0mBool\u001b[0m\u001b[1m)\u001b[22m\n",
      "\u001b[0K\u001b[90m    @\u001b[39m \u001b[90mBase\u001b[39m \u001b[90m.\\\u001b[39m\u001b[90m\u001b[4mloading.jl:2468\u001b[24m\u001b[39m\n",
      "\u001b[0K  [3] \u001b[0m\u001b[1mcompilecache\u001b[22m\n",
      "\u001b[0K\u001b[90m    @\u001b[39m \u001b[90m.\\\u001b[39m\u001b[90m\u001b[4mloading.jl:2340\u001b[24m\u001b[39m\u001b[90m [inlined]\u001b[39m\n",
      "\u001b[0K  [4] \u001b[0m\u001b[1m(::Base.var\"#968#969\"{Base.PkgId})\u001b[22m\u001b[0m\u001b[1m(\u001b[22m\u001b[0m\u001b[1m)\u001b[22m\n",
      "\u001b[0K\u001b[90m    @\u001b[39m \u001b[90mBase\u001b[39m \u001b[90m.\\\u001b[39m\u001b[90m\u001b[4mloading.jl:1974\u001b[24m\u001b[39m\n",
      "\u001b[0K  [5] \u001b[0m\u001b[1mmkpidlock\u001b[22m\u001b[0m\u001b[1m(\u001b[22m\u001b[90mf\u001b[39m::\u001b[0mBase.var\"#968#969\"\u001b[90m{Base.PkgId}\u001b[39m, \u001b[90mat\u001b[39m::\u001b[0mString, \u001b[90mpid\u001b[39m::\u001b[0mInt32; \u001b[90mkwopts\u001b[39m::\u001b[0m@Kwargs\u001b[90m{stale_age::Int64, wait::Bool}\u001b[39m\u001b[0m\u001b[1m)\u001b[22m\n",
      "\u001b[0K\u001b[90m    @\u001b[39m \u001b[35mFileWatching.Pidfile\u001b[39m \u001b[90mC:\\Users\\Korisnik\\.julia\\juliaup\\julia-1.10.5+0.x64.w64.mingw32\\share\\julia\\stdlib\\v1.10\\FileWatching\\src\\\u001b[39m\u001b[90m\u001b[4mpidfile.jl:93\u001b[24m\u001b[39m\n",
      "\u001b[0K  [6] \u001b[0m\u001b[1m#mkpidlock#6\u001b[22m\n",
      "\u001b[0K\u001b[90m    @\u001b[39m \u001b[90mC:\\Users\\Korisnik\\.julia\\juliaup\\julia-1.10.5+0.x64.w64.mingw32\\share\\julia\\stdlib\\v1.10\\FileWatching\\src\\\u001b[39m\u001b[90m\u001b[4mpidfile.jl:88\u001b[24m\u001b[39m\u001b[90m [inlined]\u001b[39m\n",
      "\u001b[0K  [7] \u001b[0m\u001b[1mtrymkpidlock\u001b[22m\u001b[0m\u001b[1m(\u001b[22m::\u001b[0mFunction, ::\u001b[0mVararg\u001b[90m{Any}\u001b[39m; \u001b[90mkwargs\u001b[39m::\u001b[0m@Kwargs\u001b[90m{stale_age::Int64}\u001b[39m\u001b[0m\u001b[1m)\u001b[22m\n",
      "\u001b[0K\u001b[90m    @\u001b[39m \u001b[35mFileWatching.Pidfile\u001b[39m \u001b[90mC:\\Users\\Korisnik\\.julia\\juliaup\\julia-1.10.5+0.x64.w64.mingw32\\share\\julia\\stdlib\\v1.10\\FileWatching\\src\\\u001b[39m\u001b[90m\u001b[4mpidfile.jl:111\u001b[24m\u001b[39m\n",
      "\u001b[0K  [8] \u001b[0m\u001b[1m#invokelatest#2\u001b[22m\n",
      "\u001b[0K\u001b[90m    @\u001b[39m \u001b[90m.\\\u001b[39m\u001b[90m\u001b[4messentials.jl:894\u001b[24m\u001b[39m\u001b[90m [inlined]\u001b[39m\n",
      "\u001b[0K  [9] \u001b[0m\u001b[1minvokelatest\u001b[22m\n",
      "\u001b[0K\u001b[90m    @\u001b[39m \u001b[90m.\\\u001b[39m\u001b[90m\u001b[4messentials.jl:889\u001b[24m\u001b[39m\u001b[90m [inlined]\u001b[39m\n",
      "\u001b[0K [10] \u001b[0m\u001b[1mmaybe_cachefile_lock\u001b[22m\u001b[0m\u001b[1m(\u001b[22m\u001b[90mf\u001b[39m::\u001b[0mBase.var\"#968#969\"\u001b[90m{Base.PkgId}\u001b[39m, \u001b[90mpkg\u001b[39m::\u001b[0mBase.PkgId, \u001b[90msrcpath\u001b[39m::\u001b[0mString; \u001b[90mstale_age\u001b[39m::\u001b[0mInt64\u001b[0m\u001b[1m)\u001b[22m\n",
      "\u001b[0K\u001b[90m    @\u001b[39m \u001b[90mBase\u001b[39m \u001b[90m.\\\u001b[39m\u001b[90m\u001b[4mloading.jl:2983\u001b[24m\u001b[39m\n",
      "\u001b[0K [11] \u001b[0m\u001b[1mmaybe_cachefile_lock\u001b[22m\n",
      "\u001b[0K\u001b[90m    @\u001b[39m \u001b[90m.\\\u001b[39m\u001b[90m\u001b[4mloading.jl:2980\u001b[24m\u001b[39m\u001b[90m [inlined]\u001b[39m\n",
      "\u001b[0K [12] \u001b[0m\u001b[1m_require\u001b[22m\u001b[0m\u001b[1m(\u001b[22m\u001b[90mpkg\u001b[39m::\u001b[0mBase.PkgId, \u001b[90menv\u001b[39m::\u001b[0mString\u001b[0m\u001b[1m)\u001b[22m\n",
      "\u001b[0K\u001b[90m    @\u001b[39m \u001b[90mBase\u001b[39m \u001b[90m.\\\u001b[39m\u001b[90m\u001b[4mloading.jl:1970\u001b[24m\u001b[39m\n",
      "\u001b[0K [13] \u001b[0m\u001b[1m__require_prelocked\u001b[22m\u001b[0m\u001b[1m(\u001b[22m\u001b[90muuidkey\u001b[39m::\u001b[0mBase.PkgId, \u001b[90menv\u001b[39m::\u001b[0mString\u001b[0m\u001b[1m)\u001b[22m\n",
      "\u001b[0K\u001b[90m    @\u001b[39m \u001b[90mBase\u001b[39m \u001b[90m.\\\u001b[39m\u001b[90m\u001b[4mloading.jl:1812\u001b[24m\u001b[39m\n",
      "\u001b[0K [14] \u001b[0m\u001b[1m#invoke_in_world#3\u001b[22m\n",
      "\u001b[0K\u001b[90m    @\u001b[39m \u001b[90m.\\\u001b[39m\u001b[90m\u001b[4messentials.jl:926\u001b[24m\u001b[39m\u001b[90m [inlined]\u001b[39m\n",
      "\u001b[0K [15] \u001b[0m\u001b[1minvoke_in_world\u001b[22m\n",
      "\u001b[0K\u001b[90m    @\u001b[39m \u001b[90m.\\\u001b[39m\u001b[90m\u001b[4messentials.jl:923\u001b[24m\u001b[39m\u001b[90m [inlined]\u001b[39m\n",
      "\u001b[0K [16] \u001b[0m\u001b[1m_require_prelocked\u001b[22m\u001b[0m\u001b[1m(\u001b[22m\u001b[90muuidkey\u001b[39m::\u001b[0mBase.PkgId, \u001b[90menv\u001b[39m::\u001b[0mString\u001b[0m\u001b[1m)\u001b[22m\n",
      "\u001b[0K\u001b[90m    @\u001b[39m \u001b[90mBase\u001b[39m \u001b[90m.\\\u001b[39m\u001b[90m\u001b[4mloading.jl:1803\u001b[24m\u001b[39m\n",
      "\u001b[0K [17] \u001b[0m\u001b[1mmacro expansion\u001b[22m\n",
      "\u001b[0K\u001b[90m    @\u001b[39m \u001b[90m.\\\u001b[39m\u001b[90m\u001b[4mloading.jl:1790\u001b[24m\u001b[39m\u001b[90m [inlined]\u001b[39m\n",
      "\u001b[0K [18] \u001b[0m\u001b[1mmacro expansion\u001b[22m\n",
      "\u001b[0K\u001b[90m    @\u001b[39m \u001b[90m.\\\u001b[39m\u001b[90m\u001b[4mlock.jl:267\u001b[24m\u001b[39m\u001b[90m [inlined]\u001b[39m\n",
      "\u001b[0K [19] \u001b[0m\u001b[1m__require\u001b[22m\u001b[0m\u001b[1m(\u001b[22m\u001b[90minto\u001b[39m::\u001b[0mModule, \u001b[90mmod\u001b[39m::\u001b[0mSymbol\u001b[0m\u001b[1m)\u001b[22m\n",
      "\u001b[0K\u001b[90m    @\u001b[39m \u001b[90mBase\u001b[39m \u001b[90m.\\\u001b[39m\u001b[90m\u001b[4mloading.jl:1753\u001b[24m\u001b[39m\n",
      "\u001b[0K [20] \u001b[0m\u001b[1m#invoke_in_world#3\u001b[22m\n",
      "\u001b[0K\u001b[90m    @\u001b[39m \u001b[90m.\\\u001b[39m\u001b[90m\u001b[4messentials.jl:926\u001b[24m\u001b[39m\u001b[90m [inlined]\u001b[39m\n",
      "\u001b[0K [21] \u001b[0m\u001b[1minvoke_in_world\u001b[22m\n",
      "\u001b[0K\u001b[90m    @\u001b[39m \u001b[90m.\\\u001b[39m\u001b[90m\u001b[4messentials.jl:923\u001b[24m\u001b[39m\u001b[90m [inlined]\u001b[39m\n",
      "\u001b[0K [22] \u001b[0m\u001b[1mrequire\u001b[22m\u001b[0m\u001b[1m(\u001b[22m\u001b[90minto\u001b[39m::\u001b[0mModule, \u001b[90mmod\u001b[39m::\u001b[0mSymbol\u001b[0m\u001b[1m)\u001b[22m\n",
      "\u001b[0K\u001b[90m    @\u001b[39m \u001b[90mBase\u001b[39m \u001b[90m.\\\u001b[39m\u001b[90m\u001b[4mloading.jl:1746\u001b[24m\u001b[39m\n",
      "\u001b[0K [23] \u001b[0m\u001b[1minclude\u001b[22m\n",
      "\u001b[0K\u001b[90m    @\u001b[39m \u001b[90m.\\\u001b[39m\u001b[90m\u001b[4mBase.jl:495\u001b[24m\u001b[39m\u001b[90m [inlined]\u001b[39m\n",
      "\u001b[0K [24] \u001b[0m\u001b[1minclude_package_for_output\u001b[22m\u001b[0m\u001b[1m(\u001b[22m\u001b[90mpkg\u001b[39m::\u001b[0mBase.PkgId, \u001b[90minput\u001b[39m::\u001b[0mString, \u001b[90mdepot_path\u001b[39m::\u001b[0mVector\u001b[90m{String}\u001b[39m, \u001b[90mdl_load_path\u001b[39m::\u001b[0mVector\u001b[90m{String}\u001b[39m, \u001b[90mload_path\u001b[39m::\u001b[0mVector\u001b[90m{String}\u001b[39m, \u001b[90mconcrete_deps\u001b[39m::\u001b[0mVector\u001b[90m{Pair{Base.PkgId, UInt128}}\u001b[39m, \u001b[90msource\u001b[39m::\u001b[0mString\u001b[0m\u001b[1m)\u001b[22m\n",
      "\u001b[0K\u001b[90m    @\u001b[39m \u001b[90mBase\u001b[39m \u001b[90m.\\\u001b[39m\u001b[90m\u001b[4mloading.jl:2222\u001b[24m\u001b[39m\n",
      "\u001b[0K [25] top-level scope\n",
      "\u001b[0K\u001b[90m    @\u001b[39m \u001b[90m\u001b[4mstdin:3\u001b[24m\u001b[39m\n",
      "\u001b[0Kin expression starting at C:\\Users\\Korisnik\\.julia\\packages\\Distributions\\HjzA0\\src\\Distributions.jl:1\n",
      "\u001b[0Kin expression starting at stdin:3\n",
      "\u001b[0K\u001b[91m\u001b[1mERROR: \u001b[22m\u001b[39mLoadError: Failed to precompile Distributions [31c24e10-a181-5473-b8eb-7969acd0382f] to \"C:\\\\Users\\\\Korisnik\\\\.julia\\\\compiled\\\\v1.10\\\\Distributions\\\\jl_ECD1.tmp\".\n",
      "\u001b[0KStacktrace:\n",
      "\u001b[0K  [1] \u001b[0m\u001b[1merror\u001b[22m\u001b[0m\u001b[1m(\u001b[22m\u001b[90ms\u001b[39m::\u001b[0mString\u001b[0m\u001b[1m)\u001b[22m\n",
      "\u001b[0K\u001b[90m    @\u001b[39m \u001b[90mBase\u001b[39m \u001b[90m.\\\u001b[39m\u001b[90m\u001b[4merror.jl:35\u001b[24m\u001b[39m\n",
      "\u001b[0K  [2] \u001b[0m\u001b[1mcompilecache\u001b[22m\u001b[0m\u001b[1m(\u001b[22m\u001b[90mpkg\u001b[39m::\u001b[0mBase.PkgId, \u001b[90mpath\u001b[39m::\u001b[0mString, \u001b[90minternal_stderr\u001b[39m::\u001b[0mIO, \u001b[90minternal_stdout\u001b[39m::\u001b[0mIO, \u001b[90mkeep_loaded_modules\u001b[39m::\u001b[0mBool\u001b[0m\u001b[1m)\u001b[22m\n",
      "\u001b[0K\u001b[90m    @\u001b[39m \u001b[90mBase\u001b[39m \u001b[90m.\\\u001b[39m\u001b[90m\u001b[4mloading.jl:2468\u001b[24m\u001b[39m\n",
      "\u001b[0K  [3] \u001b[0m\u001b[1mcompilecache\u001b[22m\n",
      "\u001b[0K\u001b[90m    @\u001b[39m \u001b[90m.\\\u001b[39m\u001b[90m\u001b[4mloading.jl:2340\u001b[24m\u001b[39m\u001b[90m [inlined]\u001b[39m\n",
      "\u001b[0K  [4] \u001b[0m\u001b[1m(::Base.var\"#968#969\"{Base.PkgId})\u001b[22m\u001b[0m\u001b[1m(\u001b[22m\u001b[0m\u001b[1m)\u001b[22m\n",
      "\u001b[0K\u001b[90m    @\u001b[39m \u001b[90mBase\u001b[39m \u001b[90m.\\\u001b[39m\u001b[90m\u001b[4mloading.jl:1974\u001b[24m\u001b[39m\n",
      "\u001b[0K  [5] \u001b[0m\u001b[1mmkpidlock\u001b[22m\u001b[0m\u001b[1m(\u001b[22m\u001b[90mf\u001b[39m::\u001b[0mBase.var\"#968#969\"\u001b[90m{Base.PkgId}\u001b[39m, \u001b[90mat\u001b[39m::\u001b[0mString, \u001b[90mpid\u001b[39m::\u001b[0mInt32; \u001b[90mkwopts\u001b[39m::\u001b[0m@Kwargs\u001b[90m{stale_age::Int64, wait::Bool}\u001b[39m\u001b[0m\u001b[1m)\u001b[22m\n",
      "\u001b[0K\u001b[90m    @\u001b[39m \u001b[35mFileWatching.Pidfile\u001b[39m \u001b[90mC:\\Users\\Korisnik\\.julia\\juliaup\\julia-1.10.5+0.x64.w64.mingw32\\share\\julia\\stdlib\\v1.10\\FileWatching\\src\\\u001b[39m\u001b[90m\u001b[4mpidfile.jl:93\u001b[24m\u001b[39m\n",
      "\u001b[0K  [6] \u001b[0m\u001b[1m#mkpidlock#6\u001b[22m\n",
      "\u001b[0K\u001b[90m    @\u001b[39m \u001b[90mC:\\Users\\Korisnik\\.julia\\juliaup\\julia-1.10.5+0.x64.w64.mingw32\\share\\julia\\stdlib\\v1.10\\FileWatching\\src\\\u001b[39m\u001b[90m\u001b[4mpidfile.jl:88\u001b[24m\u001b[39m\u001b[90m [inlined]\u001b[39m\n",
      "\u001b[0K  [7] \u001b[0m\u001b[1mtrymkpidlock\u001b[22m\u001b[0m\u001b[1m(\u001b[22m::\u001b[0mFunction, ::\u001b[0mVararg\u001b[90m{Any}\u001b[39m; \u001b[90mkwargs\u001b[39m::\u001b[0m@Kwargs\u001b[90m{stale_age::Int64}\u001b[39m\u001b[0m\u001b[1m)\u001b[22m\n",
      "\u001b[0K\u001b[90m    @\u001b[39m \u001b[35mFileWatching.Pidfile\u001b[39m \u001b[90mC:\\Users\\Korisnik\\.julia\\juliaup\\julia-1.10.5+0.x64.w64.mingw32\\share\\julia\\stdlib\\v1.10\\FileWatching\\src\\\u001b[39m\u001b[90m\u001b[4mpidfile.jl:111\u001b[24m\u001b[39m\n",
      "\u001b[0K  [8] \u001b[0m\u001b[1m#invokelatest#2\u001b[22m\n",
      "\u001b[0K\u001b[90m    @\u001b[39m \u001b[90m.\\\u001b[39m\u001b[90m\u001b[4messentials.jl:894\u001b[24m\u001b[39m\u001b[90m [inlined]\u001b[39m\n",
      "\u001b[0K  [9] \u001b[0m\u001b[1minvokelatest\u001b[22m\n",
      "\u001b[0K\u001b[90m    @\u001b[39m \u001b[90m.\\\u001b[39m\u001b[90m\u001b[4messentials.jl:889\u001b[24m\u001b[39m\u001b[90m [inlined]\u001b[39m\n",
      "\u001b[0K [10] \u001b[0m\u001b[1mmaybe_cachefile_lock\u001b[22m\u001b[0m\u001b[1m(\u001b[22m\u001b[90mf\u001b[39m::\u001b[0mBase.var\"#968#969\"\u001b[90m{Base.PkgId}\u001b[39m, \u001b[90mpkg\u001b[39m::\u001b[0mBase.PkgId, \u001b[90msrcpath\u001b[39m::\u001b[0mString; \u001b[90mstale_age\u001b[39m::\u001b[0mInt64\u001b[0m\u001b[1m)\u001b[22m\n",
      "\u001b[0K\u001b[90m    @\u001b[39m \u001b[90mBase\u001b[39m \u001b[90m.\\\u001b[39m\u001b[90m\u001b[4mloading.jl:2983\u001b[24m\u001b[39m\n",
      "\u001b[0K [11] \u001b[0m\u001b[1mmaybe_cachefile_lock\u001b[22m\n",
      "\u001b[0K\u001b[90m    @\u001b[39m \u001b[90m.\\\u001b[39m\u001b[90m\u001b[4mloading.jl:2980\u001b[24m\u001b[39m\u001b[90m [inlined]\u001b[39m\n",
      "\u001b[0K [12] \u001b[0m\u001b[1m_require\u001b[22m\u001b[0m\u001b[1m(\u001b[22m\u001b[90mpkg\u001b[39m::\u001b[0mBase.PkgId, \u001b[90menv\u001b[39m::\u001b[0mString\u001b[0m\u001b[1m)\u001b[22m\n",
      "\u001b[0K\u001b[90m    @\u001b[39m \u001b[90mBase\u001b[39m \u001b[90m.\\\u001b[39m\u001b[90m\u001b[4mloading.jl:1970\u001b[24m\u001b[39m\n",
      "\u001b[0K [13] \u001b[0m\u001b[1m__require_prelocked\u001b[22m\u001b[0m\u001b[1m(\u001b[22m\u001b[90muuidkey\u001b[39m::\u001b[0mBase.PkgId, \u001b[90menv\u001b[39m::\u001b[0mString\u001b[0m\u001b[1m)\u001b[22m\n",
      "\u001b[0K\u001b[90m    @\u001b[39m \u001b[90mBase\u001b[39m \u001b[90m.\\\u001b[39m\u001b[90m\u001b[4mloading.jl:1812\u001b[24m\u001b[39m\n",
      "\u001b[0K [14] \u001b[0m\u001b[1m#invoke_in_world#3\u001b[22m\n",
      "\u001b[0K\u001b[90m    @\u001b[39m \u001b[90m.\\\u001b[39m\u001b[90m\u001b[4messentials.jl:926\u001b[24m\u001b[39m\u001b[90m [inlined]\u001b[39m\n",
      "\u001b[0K [15] \u001b[0m\u001b[1minvoke_in_world\u001b[22m\n",
      "\u001b[0K\u001b[90m    @\u001b[39m \u001b[90m.\\\u001b[39m\u001b[90m\u001b[4messentials.jl:923\u001b[24m\u001b[39m\u001b[90m [inlined]\u001b[39m\n",
      "\u001b[0K [16] \u001b[0m\u001b[1m_require_prelocked\u001b[22m\u001b[0m\u001b[1m(\u001b[22m\u001b[90muuidkey\u001b[39m::\u001b[0mBase.PkgId, \u001b[90menv\u001b[39m::\u001b[0mString\u001b[0m\u001b[1m)\u001b[22m\n",
      "\u001b[0K\u001b[90m    @\u001b[39m \u001b[90mBase\u001b[39m \u001b[90m.\\\u001b[39m\u001b[90m\u001b[4mloading.jl:1803\u001b[24m\u001b[39m\n",
      "\u001b[0K [17] \u001b[0m\u001b[1mmacro expansion\u001b[22m\n",
      "\u001b[0K\u001b[90m    @\u001b[39m \u001b[90m.\\\u001b[39m\u001b[90m\u001b[4mloading.jl:1790\u001b[24m\u001b[39m\u001b[90m [inlined]\u001b[39m\n",
      "\u001b[0K [18] \u001b[0m\u001b[1mmacro expansion\u001b[22m\n",
      "\u001b[0K\u001b[90m    @\u001b[39m \u001b[90m.\\\u001b[39m\u001b[90m\u001b[4mlock.jl:267\u001b[24m\u001b[39m\u001b[90m [inlined]\u001b[39m\n",
      "\u001b[0K [19] \u001b[0m\u001b[1m__require\u001b[22m\u001b[0m\u001b[1m(\u001b[22m\u001b[90minto\u001b[39m::\u001b[0mModule, \u001b[90mmod\u001b[39m::\u001b[0mSymbol\u001b[0m\u001b[1m)\u001b[22m\n",
      "\u001b[0K\u001b[90m    @\u001b[39m \u001b[90mBase\u001b[39m \u001b[90m.\\\u001b[39m\u001b[90m\u001b[4mloading.jl:1753\u001b[24m\u001b[39m\n",
      "\u001b[0K [20] \u001b[0m\u001b[1m#invoke_in_world#3\u001b[22m\n",
      "\u001b[0K\u001b[90m    @\u001b[39m \u001b[90m.\\\u001b[39m\u001b[90m\u001b[4messentials.jl:926\u001b[24m\u001b[39m\u001b[90m [inlined]\u001b[39m\n",
      "\u001b[0K [21] \u001b[0m\u001b[1minvoke_in_world\u001b[22m\n",
      "\u001b[0K\u001b[90m    @\u001b[39m \u001b[90m.\\\u001b[39m\u001b[90m\u001b[4messentials.jl:923\u001b[24m\u001b[39m\u001b[90m [inlined]\u001b[39m\n",
      "\u001b[0K [22] \u001b[0m\u001b[1mrequire\u001b[22m\u001b[0m\u001b[1m(\u001b[22m\u001b[90minto\u001b[39m::\u001b[0mModule, \u001b[90mmod\u001b[39m::\u001b[0mSymbol\u001b[0m\u001b[1m)\u001b[22m\n",
      "\u001b[0K\u001b[90m    @\u001b[39m \u001b[90mBase\u001b[39m \u001b[90m.\\\u001b[39m\u001b[90m\u001b[4mloading.jl:1746\u001b[24m\u001b[39m\n",
      "\u001b[0K [23] \u001b[0m\u001b[1minclude\u001b[22m\n",
      "\u001b[0K\u001b[90m    @\u001b[39m \u001b[90m.\\\u001b[39m\u001b[90m\u001b[4mBase.jl:495\u001b[24m\u001b[39m\u001b[90m [inlined]\u001b[39m\n",
      "\u001b[0K [24] \u001b[0m\u001b[1minclude_package_for_output\u001b[22m\u001b[0m\u001b[1m(\u001b[22m\u001b[90mpkg\u001b[39m::\u001b[0mBase.PkgId, \u001b[90minput\u001b[39m::\u001b[0mString, \u001b[90mdepot_path\u001b[39m::\u001b[0mVector\u001b[90m{String}\u001b[39m, \u001b[90mdl_load_path\u001b[39m::\u001b[0mVector\u001b[90m{String}\u001b[39m, \u001b[90mload_path\u001b[39m::\u001b[0mVector\u001b[90m{String}\u001b[39m, \u001b[90mconcrete_deps\u001b[39m::\u001b[0mVector\u001b[90m{Pair{Base.PkgId, UInt128}}\u001b[39m, \u001b[90msource\u001b[39m::\u001b[0mNothing\u001b[0m\u001b[1m)\u001b[22m\n",
      "\u001b[0K\u001b[90m    @\u001b[39m \u001b[90mBase\u001b[39m \u001b[90m.\\\u001b[39m\u001b[90m\u001b[4mloading.jl:2222\u001b[24m\u001b[39m\n",
      "\u001b[0K [25] top-level scope\n",
      "\u001b[0K\u001b[90m    @\u001b[39m \u001b[90m\u001b[4mstdin:3\u001b[24m\u001b[39m\n",
      "\u001b[0Kin expression starting at C:\\Users\\Korisnik\\.julia\\packages\\StatsPlots\\CpWiU\\src\\StatsPlots.jl:1\n",
      "\u001b[0Kin expression starting at stdin:3\n",
      "\u001b[91m  ✗ \u001b[39mStatsPlots\n",
      "  0 dependencies successfully precompiled in 77 seconds. 129 already precompiled.\n",
      "\n"
     ]
    },
    {
     "ename": "LoadError",
     "evalue": "The following 2 direct dependencies failed to precompile:\n\nDistributions [31c24e10-a181-5473-b8eb-7969acd0382f]\n\nFailed to precompile Distributions [31c24e10-a181-5473-b8eb-7969acd0382f] to \"C:\\\\Users\\\\Korisnik\\\\.julia\\\\compiled\\\\v1.10\\\\Distributions\\\\jl_5507.tmp\".\n\u001b[91m\u001b[1mERROR: \u001b[22m\u001b[39mLoadError: SpecialFunctions is not installed properly, run `Pkg.build(\"SpecialFunctions\")`,restart Julia and try again\nStacktrace:\n [1] \u001b[0m\u001b[1merror\u001b[22m\u001b[0m\u001b[1m(\u001b[22m\u001b[90ms\u001b[39m::\u001b[0mString\u001b[0m\u001b[1m)\u001b[22m\n\u001b[90m   @\u001b[39m \u001b[90mBase\u001b[39m \u001b[90m.\\\u001b[39m\u001b[90m\u001b[4merror.jl:35\u001b[24m\u001b[39m\n [2] top-level scope\n\u001b[90m   @\u001b[39m \u001b[90mC:\\Users\\Korisnik\\.julia\\packages\\SpecialFunctions\\ne2iw\\src\\\u001b[39m\u001b[90m\u001b[4mSpecialFunctions.jl:6\u001b[24m\u001b[39m\n [3] \u001b[0m\u001b[1minclude\u001b[22m\n\u001b[90m   @\u001b[39m \u001b[90m.\\\u001b[39m\u001b[90m\u001b[4mBase.jl:495\u001b[24m\u001b[39m\u001b[90m [inlined]\u001b[39m\n [4] \u001b[0m\u001b[1minclude_package_for_output\u001b[22m\u001b[0m\u001b[1m(\u001b[22m\u001b[90mpkg\u001b[39m::\u001b[0mBase.PkgId, \u001b[90minput\u001b[39m::\u001b[0mString, \u001b[90mdepot_path\u001b[39m::\u001b[0mVector\u001b[90m{String}\u001b[39m, \u001b[90mdl_load_path\u001b[39m::\u001b[0mVector\u001b[90m{String}\u001b[39m, \u001b[90mload_path\u001b[39m::\u001b[0mVector\u001b[90m{String}\u001b[39m, \u001b[90mconcrete_deps\u001b[39m::\u001b[0mVector\u001b[90m{Pair{Base.PkgId, UInt128}}\u001b[39m, \u001b[90msource\u001b[39m::\u001b[0mString\u001b[0m\u001b[1m)\u001b[22m\n\u001b[90m   @\u001b[39m \u001b[90mBase\u001b[39m \u001b[90m.\\\u001b[39m\u001b[90m\u001b[4mloading.jl:2222\u001b[24m\u001b[39m\n [5] top-level scope\n\u001b[90m   @\u001b[39m \u001b[90m\u001b[4mstdin:3\u001b[24m\u001b[39m\nin expression starting at C:\\Users\\Korisnik\\.julia\\packages\\SpecialFunctions\\ne2iw\\src\\SpecialFunctions.jl:1\nin expression starting at stdin:3\n\u001b[91m\u001b[1mERROR: \u001b[22m\u001b[39mLoadError: Failed to precompile SpecialFunctions [276daf66-3868-5448-9aa4-cd146d93841b] to \"C:\\\\Users\\\\Korisnik\\\\.julia\\\\compiled\\\\v1.10\\\\SpecialFunctions\\\\jl_5CD6.tmp\".\nStacktrace:\n  [1] \u001b[0m\u001b[1merror\u001b[22m\u001b[0m\u001b[1m(\u001b[22m\u001b[90ms\u001b[39m::\u001b[0mString\u001b[0m\u001b[1m)\u001b[22m\n\u001b[90m    @\u001b[39m \u001b[90mBase\u001b[39m \u001b[90m.\\\u001b[39m\u001b[90m\u001b[4merror.jl:35\u001b[24m\u001b[39m\n  [2] \u001b[0m\u001b[1mcompilecache\u001b[22m\u001b[0m\u001b[1m(\u001b[22m\u001b[90mpkg\u001b[39m::\u001b[0mBase.PkgId, \u001b[90mpath\u001b[39m::\u001b[0mString, \u001b[90minternal_stderr\u001b[39m::\u001b[0mIO, \u001b[90minternal_stdout\u001b[39m::\u001b[0mIO, \u001b[90mkeep_loaded_modules\u001b[39m::\u001b[0mBool\u001b[0m\u001b[1m)\u001b[22m\n\u001b[90m    @\u001b[39m \u001b[90mBase\u001b[39m \u001b[90m.\\\u001b[39m\u001b[90m\u001b[4mloading.jl:2468\u001b[24m\u001b[39m\n  [3] \u001b[0m\u001b[1mcompilecache\u001b[22m\n\u001b[90m    @\u001b[39m \u001b[90m.\\\u001b[39m\u001b[90m\u001b[4mloading.jl:2340\u001b[24m\u001b[39m\u001b[90m [inlined]\u001b[39m\n  [4] \u001b[0m\u001b[1m(::Base.var\"#968#969\"{Base.PkgId})\u001b[22m\u001b[0m\u001b[1m(\u001b[22m\u001b[0m\u001b[1m)\u001b[22m\n\u001b[90m    @\u001b[39m \u001b[90mBase\u001b[39m \u001b[90m.\\\u001b[39m\u001b[90m\u001b[4mloading.jl:1974\u001b[24m\u001b[39m\n  [5] \u001b[0m\u001b[1mmkpidlock\u001b[22m\u001b[0m\u001b[1m(\u001b[22m\u001b[90mf\u001b[39m::\u001b[0mBase.var\"#968#969\"\u001b[90m{Base.PkgId}\u001b[39m, \u001b[90mat\u001b[39m::\u001b[0mString, \u001b[90mpid\u001b[39m::\u001b[0mInt32; \u001b[90mkwopts\u001b[39m::\u001b[0m@Kwargs\u001b[90m{stale_age::Int64, wait::Bool}\u001b[39m\u001b[0m\u001b[1m)\u001b[22m\n\u001b[90m    @\u001b[39m \u001b[35mFileWatching.Pidfile\u001b[39m \u001b[90mC:\\Users\\Korisnik\\.julia\\juliaup\\julia-1.10.5+0.x64.w64.mingw32\\share\\julia\\stdlib\\v1.10\\FileWatching\\src\\\u001b[39m\u001b[90m\u001b[4mpidfile.jl:93\u001b[24m\u001b[39m\n  [6] \u001b[0m\u001b[1m#mkpidlock#6\u001b[22m\n\u001b[90m    @\u001b[39m \u001b[90mC:\\Users\\Korisnik\\.julia\\juliaup\\julia-1.10.5+0.x64.w64.mingw32\\share\\julia\\stdlib\\v1.10\\FileWatching\\src\\\u001b[39m\u001b[90m\u001b[4mpidfile.jl:88\u001b[24m\u001b[39m\u001b[90m [inlined]\u001b[39m\n  [7] \u001b[0m\u001b[1mtrymkpidlock\u001b[22m\u001b[0m\u001b[1m(\u001b[22m::\u001b[0mFunction, ::\u001b[0mVararg\u001b[90m{Any}\u001b[39m; \u001b[90mkwargs\u001b[39m::\u001b[0m@Kwargs\u001b[90m{stale_age::Int64}\u001b[39m\u001b[0m\u001b[1m)\u001b[22m\n\u001b[90m    @\u001b[39m \u001b[35mFileWatching.Pidfile\u001b[39m \u001b[90mC:\\Users\\Korisnik\\.julia\\juliaup\\julia-1.10.5+0.x64.w64.mingw32\\share\\julia\\stdlib\\v1.10\\FileWatching\\src\\\u001b[39m\u001b[90m\u001b[4mpidfile.jl:111\u001b[24m\u001b[39m\n  [8] \u001b[0m\u001b[1m#invokelatest#2\u001b[22m\n\u001b[90m    @\u001b[39m \u001b[90m.\\\u001b[39m\u001b[90m\u001b[4messentials.jl:894\u001b[24m\u001b[39m\u001b[90m [inlined]\u001b[39m\n  [9] \u001b[0m\u001b[1minvokelatest\u001b[22m\n\u001b[90m    @\u001b[39m \u001b[90m.\\\u001b[39m\u001b[90m\u001b[4messentials.jl:889\u001b[24m\u001b[39m\u001b[90m [inlined]\u001b[39m\n [10] \u001b[0m\u001b[1mmaybe_cachefile_lock\u001b[22m\u001b[0m\u001b[1m(\u001b[22m\u001b[90mf\u001b[39m::\u001b[0mBase.var\"#968#969\"\u001b[90m{Base.PkgId}\u001b[39m, \u001b[90mpkg\u001b[39m::\u001b[0mBase.PkgId, \u001b[90msrcpath\u001b[39m::\u001b[0mString; \u001b[90mstale_age\u001b[39m::\u001b[0mInt64\u001b[0m\u001b[1m)\u001b[22m\n\u001b[90m    @\u001b[39m \u001b[90mBase\u001b[39m \u001b[90m.\\\u001b[39m\u001b[90m\u001b[4mloading.jl:2983\u001b[24m\u001b[39m\n [11] \u001b[0m\u001b[1mmaybe_cachefile_lock\u001b[22m\n\u001b[90m    @\u001b[39m \u001b[90m.\\\u001b[39m\u001b[90m\u001b[4mloading.jl:2980\u001b[24m\u001b[39m\u001b[90m [inlined]\u001b[39m\n [12] \u001b[0m\u001b[1m_require\u001b[22m\u001b[0m\u001b[1m(\u001b[22m\u001b[90mpkg\u001b[39m::\u001b[0mBase.PkgId, \u001b[90menv\u001b[39m::\u001b[0mString\u001b[0m\u001b[1m)\u001b[22m\n\u001b[90m    @\u001b[39m \u001b[90mBase\u001b[39m \u001b[90m.\\\u001b[39m\u001b[90m\u001b[4mloading.jl:1970\u001b[24m\u001b[39m\n [13] \u001b[0m\u001b[1m__require_prelocked\u001b[22m\u001b[0m\u001b[1m(\u001b[22m\u001b[90muuidkey\u001b[39m::\u001b[0mBase.PkgId, \u001b[90menv\u001b[39m::\u001b[0mString\u001b[0m\u001b[1m)\u001b[22m\n\u001b[90m    @\u001b[39m \u001b[90mBase\u001b[39m \u001b[90m.\\\u001b[39m\u001b[90m\u001b[4mloading.jl:1812\u001b[24m\u001b[39m\n [14] \u001b[0m\u001b[1m#invoke_in_world#3\u001b[22m\n\u001b[90m    @\u001b[39m \u001b[90m.\\\u001b[39m\u001b[90m\u001b[4messentials.jl:926\u001b[24m\u001b[39m\u001b[90m [inlined]\u001b[39m\n [15] \u001b[0m\u001b[1minvoke_in_world\u001b[22m\n\u001b[90m    @\u001b[39m \u001b[90m.\\\u001b[39m\u001b[90m\u001b[4messentials.jl:923\u001b[24m\u001b[39m\u001b[90m [inlined]\u001b[39m\n [16] \u001b[0m\u001b[1m_require_prelocked\u001b[22m\u001b[0m\u001b[1m(\u001b[22m\u001b[90muuidkey\u001b[39m::\u001b[0mBase.PkgId, \u001b[90menv\u001b[39m::\u001b[0mString\u001b[0m\u001b[1m)\u001b[22m\n\u001b[90m    @\u001b[39m \u001b[90mBase\u001b[39m \u001b[90m.\\\u001b[39m\u001b[90m\u001b[4mloading.jl:1803\u001b[24m\u001b[39m\n [17] \u001b[0m\u001b[1mmacro expansion\u001b[22m\n\u001b[90m    @\u001b[39m \u001b[90m.\\\u001b[39m\u001b[90m\u001b[4mloading.jl:1790\u001b[24m\u001b[39m\u001b[90m [inlined]\u001b[39m\n [18] \u001b[0m\u001b[1mmacro expansion\u001b[22m\n\u001b[90m    @\u001b[39m \u001b[90m.\\\u001b[39m\u001b[90m\u001b[4mlock.jl:267\u001b[24m\u001b[39m\u001b[90m [inlined]\u001b[39m\n [19] \u001b[0m\u001b[1m__require\u001b[22m\u001b[0m\u001b[1m(\u001b[22m\u001b[90minto\u001b[39m::\u001b[0mModule, \u001b[90mmod\u001b[39m::\u001b[0mSymbol\u001b[0m\u001b[1m)\u001b[22m\n\u001b[90m    @\u001b[39m \u001b[90mBase\u001b[39m \u001b[90m.\\\u001b[39m\u001b[90m\u001b[4mloading.jl:1753\u001b[24m\u001b[39m\n [20] \u001b[0m\u001b[1m#invoke_in_world#3\u001b[22m\n\u001b[90m    @\u001b[39m \u001b[90m.\\\u001b[39m\u001b[90m\u001b[4messentials.jl:926\u001b[24m\u001b[39m\u001b[90m [inlined]\u001b[39m\n [21] \u001b[0m\u001b[1minvoke_in_world\u001b[22m\n\u001b[90m    @\u001b[39m \u001b[90m.\\\u001b[39m\u001b[90m\u001b[4messentials.jl:923\u001b[24m\u001b[39m\u001b[90m [inlined]\u001b[39m\n [22] \u001b[0m\u001b[1mrequire\u001b[22m\u001b[0m\u001b[1m(\u001b[22m\u001b[90minto\u001b[39m::\u001b[0mModule, \u001b[90mmod\u001b[39m::\u001b[0mSymbol\u001b[0m\u001b[1m)\u001b[22m\n\u001b[90m    @\u001b[39m \u001b[90mBase\u001b[39m \u001b[90m.\\\u001b[39m\u001b[90m\u001b[4mloading.jl:1746\u001b[24m\u001b[39m\n [23] \u001b[0m\u001b[1minclude\u001b[22m\n\u001b[90m    @\u001b[39m \u001b[90m.\\\u001b[39m\u001b[90m\u001b[4mBase.jl:495\u001b[24m\u001b[39m\u001b[90m [inlined]\u001b[39m\n [24] \u001b[0m\u001b[1minclude_package_for_output\u001b[22m\u001b[0m\u001b[1m(\u001b[22m\u001b[90mpkg\u001b[39m::\u001b[0mBase.PkgId, \u001b[90minput\u001b[39m::\u001b[0mString, \u001b[90mdepot_path\u001b[39m::\u001b[0mVector\u001b[90m{String}\u001b[39m, \u001b[90mdl_load_path\u001b[39m::\u001b[0mVector\u001b[90m{String}\u001b[39m, \u001b[90mload_path\u001b[39m::\u001b[0mVector\u001b[90m{String}\u001b[39m, \u001b[90mconcrete_deps\u001b[39m::\u001b[0mVector\u001b[90m{Pair{Base.PkgId, UInt128}}\u001b[39m, \u001b[90msource\u001b[39m::\u001b[0mString\u001b[0m\u001b[1m)\u001b[22m\n\u001b[90m    @\u001b[39m \u001b[90mBase\u001b[39m \u001b[90m.\\\u001b[39m\u001b[90m\u001b[4mloading.jl:2222\u001b[24m\u001b[39m\n [25] top-level scope\n\u001b[90m    @\u001b[39m \u001b[90m\u001b[4mstdin:3\u001b[24m\u001b[39m\nin expression starting at C:\\Users\\Korisnik\\.julia\\packages\\StatsFuns\\P7Mci\\src\\StatsFuns.jl:3\nin expression starting at stdin:3\n\u001b[91m\u001b[1mERROR: \u001b[22m\u001b[39mLoadError: Failed to precompile StatsFuns [4c63d2b9-4356-54db-8cca-17b64c39e42c] to \"C:\\\\Users\\\\Korisnik\\\\.julia\\\\compiled\\\\v1.10\\\\StatsFuns\\\\jl_59D8.tmp\".\nStacktrace:\n  [1] \u001b[0m\u001b[1merror\u001b[22m\u001b[0m\u001b[1m(\u001b[22m\u001b[90ms\u001b[39m::\u001b[0mString\u001b[0m\u001b[1m)\u001b[22m\n\u001b[90m    @\u001b[39m \u001b[90mBase\u001b[39m \u001b[90m.\\\u001b[39m\u001b[90m\u001b[4merror.jl:35\u001b[24m\u001b[39m\n  [2] \u001b[0m\u001b[1mcompilecache\u001b[22m\u001b[0m\u001b[1m(\u001b[22m\u001b[90mpkg\u001b[39m::\u001b[0mBase.PkgId, \u001b[90mpath\u001b[39m::\u001b[0mString, \u001b[90minternal_stderr\u001b[39m::\u001b[0mIO, \u001b[90minternal_stdout\u001b[39m::\u001b[0mIO, \u001b[90mkeep_loaded_modules\u001b[39m::\u001b[0mBool\u001b[0m\u001b[1m)\u001b[22m\n\u001b[90m    @\u001b[39m \u001b[90mBase\u001b[39m \u001b[90m.\\\u001b[39m\u001b[90m\u001b[4mloading.jl:2468\u001b[24m\u001b[39m\n  [3] \u001b[0m\u001b[1mcompilecache\u001b[22m\n\u001b[90m    @\u001b[39m \u001b[90m.\\\u001b[39m\u001b[90m\u001b[4mloading.jl:2340\u001b[24m\u001b[39m\u001b[90m [inlined]\u001b[39m\n  [4] \u001b[0m\u001b[1m(::Base.var\"#968#969\"{Base.PkgId})\u001b[22m\u001b[0m\u001b[1m(\u001b[22m\u001b[0m\u001b[1m)\u001b[22m\n\u001b[90m    @\u001b[39m \u001b[90mBase\u001b[39m \u001b[90m.\\\u001b[39m\u001b[90m\u001b[4mloading.jl:1974\u001b[24m\u001b[39m\n  [5] \u001b[0m\u001b[1mmkpidlock\u001b[22m\u001b[0m\u001b[1m(\u001b[22m\u001b[90mf\u001b[39m::\u001b[0mBase.var\"#968#969\"\u001b[90m{Base.PkgId}\u001b[39m, \u001b[90mat\u001b[39m::\u001b[0mString, \u001b[90mpid\u001b[39m::\u001b[0mInt32; \u001b[90mkwopts\u001b[39m::\u001b[0m@Kwargs\u001b[90m{stale_age::Int64, wait::Bool}\u001b[39m\u001b[0m\u001b[1m)\u001b[22m\n\u001b[90m    @\u001b[39m \u001b[35mFileWatching.Pidfile\u001b[39m \u001b[90mC:\\Users\\Korisnik\\.julia\\juliaup\\julia-1.10.5+0.x64.w64.mingw32\\share\\julia\\stdlib\\v1.10\\FileWatching\\src\\\u001b[39m\u001b[90m\u001b[4mpidfile.jl:93\u001b[24m\u001b[39m\n  [6] \u001b[0m\u001b[1m#mkpidlock#6\u001b[22m\n\u001b[90m    @\u001b[39m \u001b[90mC:\\Users\\Korisnik\\.julia\\juliaup\\julia-1.10.5+0.x64.w64.mingw32\\share\\julia\\stdlib\\v1.10\\FileWatching\\src\\\u001b[39m\u001b[90m\u001b[4mpidfile.jl:88\u001b[24m\u001b[39m\u001b[90m [inlined]\u001b[39m\n  [7] \u001b[0m\u001b[1mtrymkpidlock\u001b[22m\u001b[0m\u001b[1m(\u001b[22m::\u001b[0mFunction, ::\u001b[0mVararg\u001b[90m{Any}\u001b[39m; \u001b[90mkwargs\u001b[39m::\u001b[0m@Kwargs\u001b[90m{stale_age::Int64}\u001b[39m\u001b[0m\u001b[1m)\u001b[22m\n\u001b[90m    @\u001b[39m \u001b[35mFileWatching.Pidfile\u001b[39m \u001b[90mC:\\Users\\Korisnik\\.julia\\juliaup\\julia-1.10.5+0.x64.w64.mingw32\\share\\julia\\stdlib\\v1.10\\FileWatching\\src\\\u001b[39m\u001b[90m\u001b[4mpidfile.jl:111\u001b[24m\u001b[39m\n  [8] \u001b[0m\u001b[1m#invokelatest#2\u001b[22m\n\u001b[90m    @\u001b[39m \u001b[90m.\\\u001b[39m\u001b[90m\u001b[4messentials.jl:894\u001b[24m\u001b[39m\u001b[90m [inlined]\u001b[39m\n  [9] \u001b[0m\u001b[1minvokelatest\u001b[22m\n\u001b[90m    @\u001b[39m \u001b[90m.\\\u001b[39m\u001b[90m\u001b[4messentials.jl:889\u001b[24m\u001b[39m\u001b[90m [inlined]\u001b[39m\n [10] \u001b[0m\u001b[1mmaybe_cachefile_lock\u001b[22m\u001b[0m\u001b[1m(\u001b[22m\u001b[90mf\u001b[39m::\u001b[0mBase.var\"#968#969\"\u001b[90m{Base.PkgId}\u001b[39m, \u001b[90mpkg\u001b[39m::\u001b[0mBase.PkgId, \u001b[90msrcpath\u001b[39m::\u001b[0mString; \u001b[90mstale_age\u001b[39m::\u001b[0mInt64\u001b[0m\u001b[1m)\u001b[22m\n\u001b[90m    @\u001b[39m \u001b[90mBase\u001b[39m \u001b[90m.\\\u001b[39m\u001b[90m\u001b[4mloading.jl:2983\u001b[24m\u001b[39m\n [11] \u001b[0m\u001b[1mmaybe_cachefile_lock\u001b[22m\n\u001b[90m    @\u001b[39m \u001b[90m.\\\u001b[39m\u001b[90m\u001b[4mloading.jl:2980\u001b[24m\u001b[39m\u001b[90m [inlined]\u001b[39m\n [12] \u001b[0m\u001b[1m_require\u001b[22m\u001b[0m\u001b[1m(\u001b[22m\u001b[90mpkg\u001b[39m::\u001b[0mBase.PkgId, \u001b[90menv\u001b[39m::\u001b[0mString\u001b[0m\u001b[1m)\u001b[22m\n\u001b[90m    @\u001b[39m \u001b[90mBase\u001b[39m \u001b[90m.\\\u001b[39m\u001b[90m\u001b[4mloading.jl:1970\u001b[24m\u001b[39m\n [13] \u001b[0m\u001b[1m__require_prelocked\u001b[22m\u001b[0m\u001b[1m(\u001b[22m\u001b[90muuidkey\u001b[39m::\u001b[0mBase.PkgId, \u001b[90menv\u001b[39m::\u001b[0mString\u001b[0m\u001b[1m)\u001b[22m\n\u001b[90m    @\u001b[39m \u001b[90mBase\u001b[39m \u001b[90m.\\\u001b[39m\u001b[90m\u001b[4mloading.jl:1812\u001b[24m\u001b[39m\n [14] \u001b[0m\u001b[1m#invoke_in_world#3\u001b[22m\n\u001b[90m    @\u001b[39m \u001b[90m.\\\u001b[39m\u001b[90m\u001b[4messentials.jl:926\u001b[24m\u001b[39m\u001b[90m [inlined]\u001b[39m\n [15] \u001b[0m\u001b[1minvoke_in_world\u001b[22m\n\u001b[90m    @\u001b[39m \u001b[90m.\\\u001b[39m\u001b[90m\u001b[4messentials.jl:923\u001b[24m\u001b[39m\u001b[90m [inlined]\u001b[39m\n [16] \u001b[0m\u001b[1m_require_prelocked\u001b[22m\u001b[0m\u001b[1m(\u001b[22m\u001b[90muuidkey\u001b[39m::\u001b[0mBase.PkgId, \u001b[90menv\u001b[39m::\u001b[0mString\u001b[0m\u001b[1m)\u001b[22m\n\u001b[90m    @\u001b[39m \u001b[90mBase\u001b[39m \u001b[90m.\\\u001b[39m\u001b[90m\u001b[4mloading.jl:1803\u001b[24m\u001b[39m\n [17] \u001b[0m\u001b[1mmacro expansion\u001b[22m\n\u001b[90m    @\u001b[39m \u001b[90m.\\\u001b[39m\u001b[90m\u001b[4mloading.jl:1790\u001b[24m\u001b[39m\u001b[90m [inlined]\u001b[39m\n [18] \u001b[0m\u001b[1mmacro expansion\u001b[22m\n\u001b[90m    @\u001b[39m \u001b[90m.\\\u001b[39m\u001b[90m\u001b[4mlock.jl:267\u001b[24m\u001b[39m\u001b[90m [inlined]\u001b[39m\n [19] \u001b[0m\u001b[1m__require\u001b[22m\u001b[0m\u001b[1m(\u001b[22m\u001b[90minto\u001b[39m::\u001b[0mModule, \u001b[90mmod\u001b[39m::\u001b[0mSymbol\u001b[0m\u001b[1m)\u001b[22m\n\u001b[90m    @\u001b[39m \u001b[90mBase\u001b[39m \u001b[90m.\\\u001b[39m\u001b[90m\u001b[4mloading.jl:1753\u001b[24m\u001b[39m\n [20] \u001b[0m\u001b[1m#invoke_in_world#3\u001b[22m\n\u001b[90m    @\u001b[39m \u001b[90m.\\\u001b[39m\u001b[90m\u001b[4messentials.jl:926\u001b[24m\u001b[39m\u001b[90m [inlined]\u001b[39m\n [21] \u001b[0m\u001b[1minvoke_in_world\u001b[22m\n\u001b[90m    @\u001b[39m \u001b[90m.\\\u001b[39m\u001b[90m\u001b[4messentials.jl:923\u001b[24m\u001b[39m\u001b[90m [inlined]\u001b[39m\n [22] \u001b[0m\u001b[1mrequire\u001b[22m\u001b[0m\u001b[1m(\u001b[22m\u001b[90minto\u001b[39m::\u001b[0mModule, \u001b[90mmod\u001b[39m::\u001b[0mSymbol\u001b[0m\u001b[1m)\u001b[22m\n\u001b[90m    @\u001b[39m \u001b[90mBase\u001b[39m \u001b[90m.\\\u001b[39m\u001b[90m\u001b[4mloading.jl:1746\u001b[24m\u001b[39m\n [23] \u001b[0m\u001b[1minclude\u001b[22m\n\u001b[90m    @\u001b[39m \u001b[90m.\\\u001b[39m\u001b[90m\u001b[4mBase.jl:495\u001b[24m\u001b[39m\u001b[90m [inlined]\u001b[39m\n [24] \u001b[0m\u001b[1minclude_package_for_output\u001b[22m\u001b[0m\u001b[1m(\u001b[22m\u001b[90mpkg\u001b[39m::\u001b[0mBase.PkgId, \u001b[90minput\u001b[39m::\u001b[0mString, \u001b[90mdepot_path\u001b[39m::\u001b[0mVector\u001b[90m{String}\u001b[39m, \u001b[90mdl_load_path\u001b[39m::\u001b[0mVector\u001b[90m{String}\u001b[39m, \u001b[90mload_path\u001b[39m::\u001b[0mVector\u001b[90m{String}\u001b[39m, \u001b[90mconcrete_deps\u001b[39m::\u001b[0mVector\u001b[90m{Pair{Base.PkgId, UInt128}}\u001b[39m, \u001b[90msource\u001b[39m::\u001b[0mNothing\u001b[0m\u001b[1m)\u001b[22m\n\u001b[90m    @\u001b[39m \u001b[90mBase\u001b[39m \u001b[90m.\\\u001b[39m\u001b[90m\u001b[4mloading.jl:2222\u001b[24m\u001b[39m\n [25] top-level scope\n\u001b[90m    @\u001b[39m \u001b[90m\u001b[4mstdin:3\u001b[24m\u001b[39m\nin expression starting at C:\\Users\\Korisnik\\.julia\\packages\\Distributions\\HjzA0\\src\\Distributions.jl:1\nin expression starting at stdin:3\nStatsPlots [f3b207a7-027a-5e70-b257-86293d7955fd]\n\nFailed to precompile StatsPlots [f3b207a7-027a-5e70-b257-86293d7955fd] to \"C:\\\\Users\\\\Korisnik\\\\.julia\\\\compiled\\\\v1.10\\\\StatsPlots\\\\jl_D077.tmp\".\n\u001b[91m\u001b[1mERROR: \u001b[22m\u001b[39mLoadError: SpecialFunctions is not installed properly, run `Pkg.build(\"SpecialFunctions\")`,restart Julia and try again\nStacktrace:\n [1] \u001b[0m\u001b[1merror\u001b[22m\u001b[0m\u001b[1m(\u001b[22m\u001b[90ms\u001b[39m::\u001b[0mString\u001b[0m\u001b[1m)\u001b[22m\n\u001b[90m   @\u001b[39m \u001b[90mBase\u001b[39m \u001b[90m.\\\u001b[39m\u001b[90m\u001b[4merror.jl:35\u001b[24m\u001b[39m\n [2] top-level scope\n\u001b[90m   @\u001b[39m \u001b[90mC:\\Users\\Korisnik\\.julia\\packages\\SpecialFunctions\\ne2iw\\src\\\u001b[39m\u001b[90m\u001b[4mSpecialFunctions.jl:6\u001b[24m\u001b[39m\n [3] \u001b[0m\u001b[1minclude\u001b[22m\n\u001b[90m   @\u001b[39m \u001b[90m.\\\u001b[39m\u001b[90m\u001b[4mBase.jl:495\u001b[24m\u001b[39m\u001b[90m [inlined]\u001b[39m\n [4] \u001b[0m\u001b[1minclude_package_for_output\u001b[22m\u001b[0m\u001b[1m(\u001b[22m\u001b[90mpkg\u001b[39m::\u001b[0mBase.PkgId, \u001b[90minput\u001b[39m::\u001b[0mString, \u001b[90mdepot_path\u001b[39m::\u001b[0mVector\u001b[90m{String}\u001b[39m, \u001b[90mdl_load_path\u001b[39m::\u001b[0mVector\u001b[90m{String}\u001b[39m, \u001b[90mload_path\u001b[39m::\u001b[0mVector\u001b[90m{String}\u001b[39m, \u001b[90mconcrete_deps\u001b[39m::\u001b[0mVector\u001b[90m{Pair{Base.PkgId, UInt128}}\u001b[39m, \u001b[90msource\u001b[39m::\u001b[0mString\u001b[0m\u001b[1m)\u001b[22m\n\u001b[90m   @\u001b[39m \u001b[90mBase\u001b[39m \u001b[90m.\\\u001b[39m\u001b[90m\u001b[4mloading.jl:2222\u001b[24m\u001b[39m\n [5] top-level scope\n\u001b[90m   @\u001b[39m \u001b[90m\u001b[4mstdin:3\u001b[24m\u001b[39m\nin expression starting at C:\\Users\\Korisnik\\.julia\\packages\\SpecialFunctions\\ne2iw\\src\\SpecialFunctions.jl:1\nin expression starting at stdin:3\n\u001b[91m\u001b[1mERROR: \u001b[22m\u001b[39mLoadError: Failed to precompile SpecialFunctions [276daf66-3868-5448-9aa4-cd146d93841b] to \"C:\\\\Users\\\\Korisnik\\\\.julia\\\\compiled\\\\v1.10\\\\SpecialFunctions\\\\jl_F8B8.tmp\".\nStacktrace:\n  [1] \u001b[0m\u001b[1merror\u001b[22m\u001b[0m\u001b[1m(\u001b[22m\u001b[90ms\u001b[39m::\u001b[0mString\u001b[0m\u001b[1m)\u001b[22m\n\u001b[90m    @\u001b[39m \u001b[90mBase\u001b[39m \u001b[90m.\\\u001b[39m\u001b[90m\u001b[4merror.jl:35\u001b[24m\u001b[39m\n  [2] \u001b[0m\u001b[1mcompilecache\u001b[22m\u001b[0m\u001b[1m(\u001b[22m\u001b[90mpkg\u001b[39m::\u001b[0mBase.PkgId, \u001b[90mpath\u001b[39m::\u001b[0mString, \u001b[90minternal_stderr\u001b[39m::\u001b[0mIO, \u001b[90minternal_stdout\u001b[39m::\u001b[0mIO, \u001b[90mkeep_loaded_modules\u001b[39m::\u001b[0mBool\u001b[0m\u001b[1m)\u001b[22m\n\u001b[90m    @\u001b[39m \u001b[90mBase\u001b[39m \u001b[90m.\\\u001b[39m\u001b[90m\u001b[4mloading.jl:2468\u001b[24m\u001b[39m\n  [3] \u001b[0m\u001b[1mcompilecache\u001b[22m\n\u001b[90m    @\u001b[39m \u001b[90m.\\\u001b[39m\u001b[90m\u001b[4mloading.jl:2340\u001b[24m\u001b[39m\u001b[90m [inlined]\u001b[39m\n  [4] \u001b[0m\u001b[1m(::Base.var\"#968#969\"{Base.PkgId})\u001b[22m\u001b[0m\u001b[1m(\u001b[22m\u001b[0m\u001b[1m)\u001b[22m\n\u001b[90m    @\u001b[39m \u001b[90mBase\u001b[39m \u001b[90m.\\\u001b[39m\u001b[90m\u001b[4mloading.jl:1974\u001b[24m\u001b[39m\n  [5] \u001b[0m\u001b[1mmkpidlock\u001b[22m\u001b[0m\u001b[1m(\u001b[22m\u001b[90mf\u001b[39m::\u001b[0mBase.var\"#968#969\"\u001b[90m{Base.PkgId}\u001b[39m, \u001b[90mat\u001b[39m::\u001b[0mString, \u001b[90mpid\u001b[39m::\u001b[0mInt32; \u001b[90mkwopts\u001b[39m::\u001b[0m@Kwargs\u001b[90m{stale_age::Int64, wait::Bool}\u001b[39m\u001b[0m\u001b[1m)\u001b[22m\n\u001b[90m    @\u001b[39m \u001b[35mFileWatching.Pidfile\u001b[39m \u001b[90mC:\\Users\\Korisnik\\.julia\\juliaup\\julia-1.10.5+0.x64.w64.mingw32\\share\\julia\\stdlib\\v1.10\\FileWatching\\src\\\u001b[39m\u001b[90m\u001b[4mpidfile.jl:93\u001b[24m\u001b[39m\n  [6] \u001b[0m\u001b[1m#mkpidlock#6\u001b[22m\n\u001b[90m    @\u001b[39m \u001b[90mC:\\Users\\Korisnik\\.julia\\juliaup\\julia-1.10.5+0.x64.w64.mingw32\\share\\julia\\stdlib\\v1.10\\FileWatching\\src\\\u001b[39m\u001b[90m\u001b[4mpidfile.jl:88\u001b[24m\u001b[39m\u001b[90m [inlined]\u001b[39m\n  [7] \u001b[0m\u001b[1mtrymkpidlock\u001b[22m\u001b[0m\u001b[1m(\u001b[22m::\u001b[0mFunction, ::\u001b[0mVararg\u001b[90m{Any}\u001b[39m; \u001b[90mkwargs\u001b[39m::\u001b[0m@Kwargs\u001b[90m{stale_age::Int64}\u001b[39m\u001b[0m\u001b[1m)\u001b[22m\n\u001b[90m    @\u001b[39m \u001b[35mFileWatching.Pidfile\u001b[39m \u001b[90mC:\\Users\\Korisnik\\.julia\\juliaup\\julia-1.10.5+0.x64.w64.mingw32\\share\\julia\\stdlib\\v1.10\\FileWatching\\src\\\u001b[39m\u001b[90m\u001b[4mpidfile.jl:111\u001b[24m\u001b[39m\n  [8] \u001b[0m\u001b[1m#invokelatest#2\u001b[22m\n\u001b[90m    @\u001b[39m \u001b[90m.\\\u001b[39m\u001b[90m\u001b[4messentials.jl:894\u001b[24m\u001b[39m\u001b[90m [inlined]\u001b[39m\n  [9] \u001b[0m\u001b[1minvokelatest\u001b[22m\n\u001b[90m    @\u001b[39m \u001b[90m.\\\u001b[39m\u001b[90m\u001b[4messentials.jl:889\u001b[24m\u001b[39m\u001b[90m [inlined]\u001b[39m\n [10] \u001b[0m\u001b[1mmaybe_cachefile_lock\u001b[22m\u001b[0m\u001b[1m(\u001b[22m\u001b[90mf\u001b[39m::\u001b[0mBase.var\"#968#969\"\u001b[90m{Base.PkgId}\u001b[39m, \u001b[90mpkg\u001b[39m::\u001b[0mBase.PkgId, \u001b[90msrcpath\u001b[39m::\u001b[0mString; \u001b[90mstale_age\u001b[39m::\u001b[0mInt64\u001b[0m\u001b[1m)\u001b[22m\n\u001b[90m    @\u001b[39m \u001b[90mBase\u001b[39m \u001b[90m.\\\u001b[39m\u001b[90m\u001b[4mloading.jl:2983\u001b[24m\u001b[39m\n [11] \u001b[0m\u001b[1mmaybe_cachefile_lock\u001b[22m\n\u001b[90m    @\u001b[39m \u001b[90m.\\\u001b[39m\u001b[90m\u001b[4mloading.jl:2980\u001b[24m\u001b[39m\u001b[90m [inlined]\u001b[39m\n [12] \u001b[0m\u001b[1m_require\u001b[22m\u001b[0m\u001b[1m(\u001b[22m\u001b[90mpkg\u001b[39m::\u001b[0mBase.PkgId, \u001b[90menv\u001b[39m::\u001b[0mString\u001b[0m\u001b[1m)\u001b[22m\n\u001b[90m    @\u001b[39m \u001b[90mBase\u001b[39m \u001b[90m.\\\u001b[39m\u001b[90m\u001b[4mloading.jl:1970\u001b[24m\u001b[39m\n [13] \u001b[0m\u001b[1m__require_prelocked\u001b[22m\u001b[0m\u001b[1m(\u001b[22m\u001b[90muuidkey\u001b[39m::\u001b[0mBase.PkgId, \u001b[90menv\u001b[39m::\u001b[0mString\u001b[0m\u001b[1m)\u001b[22m\n\u001b[90m    @\u001b[39m \u001b[90mBase\u001b[39m \u001b[90m.\\\u001b[39m\u001b[90m\u001b[4mloading.jl:1812\u001b[24m\u001b[39m\n [14] \u001b[0m\u001b[1m#invoke_in_world#3\u001b[22m\n\u001b[90m    @\u001b[39m \u001b[90m.\\\u001b[39m\u001b[90m\u001b[4messentials.jl:926\u001b[24m\u001b[39m\u001b[90m [inlined]\u001b[39m\n [15] \u001b[0m\u001b[1minvoke_in_world\u001b[22m\n\u001b[90m    @\u001b[39m \u001b[90m.\\\u001b[39m\u001b[90m\u001b[4messentials.jl:923\u001b[24m\u001b[39m\u001b[90m [inlined]\u001b[39m\n [16] \u001b[0m\u001b[1m_require_prelocked\u001b[22m\u001b[0m\u001b[1m(\u001b[22m\u001b[90muuidkey\u001b[39m::\u001b[0mBase.PkgId, \u001b[90menv\u001b[39m::\u001b[0mString\u001b[0m\u001b[1m)\u001b[22m\n\u001b[90m    @\u001b[39m \u001b[90mBase\u001b[39m \u001b[90m.\\\u001b[39m\u001b[90m\u001b[4mloading.jl:1803\u001b[24m\u001b[39m\n [17] \u001b[0m\u001b[1mmacro expansion\u001b[22m\n\u001b[90m    @\u001b[39m \u001b[90m.\\\u001b[39m\u001b[90m\u001b[4mloading.jl:1790\u001b[24m\u001b[39m\u001b[90m [inlined]\u001b[39m\n [18] \u001b[0m\u001b[1mmacro expansion\u001b[22m\n\u001b[90m    @\u001b[39m \u001b[90m.\\\u001b[39m\u001b[90m\u001b[4mlock.jl:267\u001b[24m\u001b[39m\u001b[90m [inlined]\u001b[39m\n [19] \u001b[0m\u001b[1m__require\u001b[22m\u001b[0m\u001b[1m(\u001b[22m\u001b[90minto\u001b[39m::\u001b[0mModule, \u001b[90mmod\u001b[39m::\u001b[0mSymbol\u001b[0m\u001b[1m)\u001b[22m\n\u001b[90m    @\u001b[39m \u001b[90mBase\u001b[39m \u001b[90m.\\\u001b[39m\u001b[90m\u001b[4mloading.jl:1753\u001b[24m\u001b[39m\n [20] \u001b[0m\u001b[1m#invoke_in_world#3\u001b[22m\n\u001b[90m    @\u001b[39m \u001b[90m.\\\u001b[39m\u001b[90m\u001b[4messentials.jl:926\u001b[24m\u001b[39m\u001b[90m [inlined]\u001b[39m\n [21] \u001b[0m\u001b[1minvoke_in_world\u001b[22m\n\u001b[90m    @\u001b[39m \u001b[90m.\\\u001b[39m\u001b[90m\u001b[4messentials.jl:923\u001b[24m\u001b[39m\u001b[90m [inlined]\u001b[39m\n [22] \u001b[0m\u001b[1mrequire\u001b[22m\u001b[0m\u001b[1m(\u001b[22m\u001b[90minto\u001b[39m::\u001b[0mModule, \u001b[90mmod\u001b[39m::\u001b[0mSymbol\u001b[0m\u001b[1m)\u001b[22m\n\u001b[90m    @\u001b[39m \u001b[90mBase\u001b[39m \u001b[90m.\\\u001b[39m\u001b[90m\u001b[4mloading.jl:1746\u001b[24m\u001b[39m\n [23] \u001b[0m\u001b[1minclude\u001b[22m\n\u001b[90m    @\u001b[39m \u001b[90m.\\\u001b[39m\u001b[90m\u001b[4mBase.jl:495\u001b[24m\u001b[39m\u001b[90m [inlined]\u001b[39m\n [24] \u001b[0m\u001b[1minclude_package_for_output\u001b[22m\u001b[0m\u001b[1m(\u001b[22m\u001b[90mpkg\u001b[39m::\u001b[0mBase.PkgId, \u001b[90minput\u001b[39m::\u001b[0mString, \u001b[90mdepot_path\u001b[39m::\u001b[0mVector\u001b[90m{String}\u001b[39m, \u001b[90mdl_load_path\u001b[39m::\u001b[0mVector\u001b[90m{String}\u001b[39m, \u001b[90mload_path\u001b[39m::\u001b[0mVector\u001b[90m{String}\u001b[39m, \u001b[90mconcrete_deps\u001b[39m::\u001b[0mVector\u001b[90m{Pair{Base.PkgId, UInt128}}\u001b[39m, \u001b[90msource\u001b[39m::\u001b[0mString\u001b[0m\u001b[1m)\u001b[22m\n\u001b[90m    @\u001b[39m \u001b[90mBase\u001b[39m \u001b[90m.\\\u001b[39m\u001b[90m\u001b[4mloading.jl:2222\u001b[24m\u001b[39m\n [25] top-level scope\n\u001b[90m    @\u001b[39m \u001b[90m\u001b[4mstdin:3\u001b[24m\u001b[39m\nin expression starting at C:\\Users\\Korisnik\\.julia\\packages\\StatsFuns\\P7Mci\\src\\StatsFuns.jl:3\nin expression starting at stdin:3\n\u001b[91m\u001b[1mERROR: \u001b[22m\u001b[39mLoadError: Failed to precompile StatsFuns [4c63d2b9-4356-54db-8cca-17b64c39e42c] to \"C:\\\\Users\\\\Korisnik\\\\.julia\\\\compiled\\\\v1.10\\\\StatsFuns\\\\jl_F491.tmp\".\nStacktrace:\n  [1] \u001b[0m\u001b[1merror\u001b[22m\u001b[0m\u001b[1m(\u001b[22m\u001b[90ms\u001b[39m::\u001b[0mString\u001b[0m\u001b[1m)\u001b[22m\n\u001b[90m    @\u001b[39m \u001b[90mBase\u001b[39m \u001b[90m.\\\u001b[39m\u001b[90m\u001b[4merror.jl:35\u001b[24m\u001b[39m\n  [2] \u001b[0m\u001b[1mcompilecache\u001b[22m\u001b[0m\u001b[1m(\u001b[22m\u001b[90mpkg\u001b[39m::\u001b[0mBase.PkgId, \u001b[90mpath\u001b[39m::\u001b[0mString, \u001b[90minternal_stderr\u001b[39m::\u001b[0mIO, \u001b[90minternal_stdout\u001b[39m::\u001b[0mIO, \u001b[90mkeep_loaded_modules\u001b[39m::\u001b[0mBool\u001b[0m\u001b[1m)\u001b[22m\n\u001b[90m    @\u001b[39m \u001b[90mBase\u001b[39m \u001b[90m.\\\u001b[39m\u001b[90m\u001b[4mloading.jl:2468\u001b[24m\u001b[39m\n  [3] \u001b[0m\u001b[1mcompilecache\u001b[22m\n\u001b[90m    @\u001b[39m \u001b[90m.\\\u001b[39m\u001b[90m\u001b[4mloading.jl:2340\u001b[24m\u001b[39m\u001b[90m [inlined]\u001b[39m\n  [4] \u001b[0m\u001b[1m(::Base.var\"#968#969\"{Base.PkgId})\u001b[22m\u001b[0m\u001b[1m(\u001b[22m\u001b[0m\u001b[1m)\u001b[22m\n\u001b[90m    @\u001b[39m \u001b[90mBase\u001b[39m \u001b[90m.\\\u001b[39m\u001b[90m\u001b[4mloading.jl:1974\u001b[24m\u001b[39m\n  [5] \u001b[0m\u001b[1mmkpidlock\u001b[22m\u001b[0m\u001b[1m(\u001b[22m\u001b[90mf\u001b[39m::\u001b[0mBase.var\"#968#969\"\u001b[90m{Base.PkgId}\u001b[39m, \u001b[90mat\u001b[39m::\u001b[0mString, \u001b[90mpid\u001b[39m::\u001b[0mInt32; \u001b[90mkwopts\u001b[39m::\u001b[0m@Kwargs\u001b[90m{stale_age::Int64, wait::Bool}\u001b[39m\u001b[0m\u001b[1m)\u001b[22m\n\u001b[90m    @\u001b[39m \u001b[35mFileWatching.Pidfile\u001b[39m \u001b[90mC:\\Users\\Korisnik\\.julia\\juliaup\\julia-1.10.5+0.x64.w64.mingw32\\share\\julia\\stdlib\\v1.10\\FileWatching\\src\\\u001b[39m\u001b[90m\u001b[4mpidfile.jl:93\u001b[24m\u001b[39m\n  [6] \u001b[0m\u001b[1m#mkpidlock#6\u001b[22m\n\u001b[90m    @\u001b[39m \u001b[90mC:\\Users\\Korisnik\\.julia\\juliaup\\julia-1.10.5+0.x64.w64.mingw32\\share\\julia\\stdlib\\v1.10\\FileWatching\\src\\\u001b[39m\u001b[90m\u001b[4mpidfile.jl:88\u001b[24m\u001b[39m\u001b[90m [inlined]\u001b[39m\n  [7] \u001b[0m\u001b[1mtrymkpidlock\u001b[22m\u001b[0m\u001b[1m(\u001b[22m::\u001b[0mFunction, ::\u001b[0mVararg\u001b[90m{Any}\u001b[39m; \u001b[90mkwargs\u001b[39m::\u001b[0m@Kwargs\u001b[90m{stale_age::Int64}\u001b[39m\u001b[0m\u001b[1m)\u001b[22m\n\u001b[90m    @\u001b[39m \u001b[35mFileWatching.Pidfile\u001b[39m \u001b[90mC:\\Users\\Korisnik\\.julia\\juliaup\\julia-1.10.5+0.x64.w64.mingw32\\share\\julia\\stdlib\\v1.10\\FileWatching\\src\\\u001b[39m\u001b[90m\u001b[4mpidfile.jl:111\u001b[24m\u001b[39m\n  [8] \u001b[0m\u001b[1m#invokelatest#2\u001b[22m\n\u001b[90m    @\u001b[39m \u001b[90m.\\\u001b[39m\u001b[90m\u001b[4messentials.jl:894\u001b[24m\u001b[39m\u001b[90m [inlined]\u001b[39m\n  [9] \u001b[0m\u001b[1minvokelatest\u001b[22m\n\u001b[90m    @\u001b[39m \u001b[90m.\\\u001b[39m\u001b[90m\u001b[4messentials.jl:889\u001b[24m\u001b[39m\u001b[90m [inlined]\u001b[39m\n [10] \u001b[0m\u001b[1mmaybe_cachefile_lock\u001b[22m\u001b[0m\u001b[1m(\u001b[22m\u001b[90mf\u001b[39m::\u001b[0mBase.var\"#968#969\"\u001b[90m{Base.PkgId}\u001b[39m, \u001b[90mpkg\u001b[39m::\u001b[0mBase.PkgId, \u001b[90msrcpath\u001b[39m::\u001b[0mString; \u001b[90mstale_age\u001b[39m::\u001b[0mInt64\u001b[0m\u001b[1m)\u001b[22m\n\u001b[90m    @\u001b[39m \u001b[90mBase\u001b[39m \u001b[90m.\\\u001b[39m\u001b[90m\u001b[4mloading.jl:2983\u001b[24m\u001b[39m\n [11] \u001b[0m\u001b[1mmaybe_cachefile_lock\u001b[22m\n\u001b[90m    @\u001b[39m \u001b[90m.\\\u001b[39m\u001b[90m\u001b[4mloading.jl:2980\u001b[24m\u001b[39m\u001b[90m [inlined]\u001b[39m\n [12] \u001b[0m\u001b[1m_require\u001b[22m\u001b[0m\u001b[1m(\u001b[22m\u001b[90mpkg\u001b[39m::\u001b[0mBase.PkgId, \u001b[90menv\u001b[39m::\u001b[0mString\u001b[0m\u001b[1m)\u001b[22m\n\u001b[90m    @\u001b[39m \u001b[90mBase\u001b[39m \u001b[90m.\\\u001b[39m\u001b[90m\u001b[4mloading.jl:1970\u001b[24m\u001b[39m\n [13] \u001b[0m\u001b[1m__require_prelocked\u001b[22m\u001b[0m\u001b[1m(\u001b[22m\u001b[90muuidkey\u001b[39m::\u001b[0mBase.PkgId, \u001b[90menv\u001b[39m::\u001b[0mString\u001b[0m\u001b[1m)\u001b[22m\n\u001b[90m    @\u001b[39m \u001b[90mBase\u001b[39m \u001b[90m.\\\u001b[39m\u001b[90m\u001b[4mloading.jl:1812\u001b[24m\u001b[39m\n [14] \u001b[0m\u001b[1m#invoke_in_world#3\u001b[22m\n\u001b[90m    @\u001b[39m \u001b[90m.\\\u001b[39m\u001b[90m\u001b[4messentials.jl:926\u001b[24m\u001b[39m\u001b[90m [inlined]\u001b[39m\n [15] \u001b[0m\u001b[1minvoke_in_world\u001b[22m\n\u001b[90m    @\u001b[39m \u001b[90m.\\\u001b[39m\u001b[90m\u001b[4messentials.jl:923\u001b[24m\u001b[39m\u001b[90m [inlined]\u001b[39m\n [16] \u001b[0m\u001b[1m_require_prelocked\u001b[22m\u001b[0m\u001b[1m(\u001b[22m\u001b[90muuidkey\u001b[39m::\u001b[0mBase.PkgId, \u001b[90menv\u001b[39m::\u001b[0mString\u001b[0m\u001b[1m)\u001b[22m\n\u001b[90m    @\u001b[39m \u001b[90mBase\u001b[39m \u001b[90m.\\\u001b[39m\u001b[90m\u001b[4mloading.jl:1803\u001b[24m\u001b[39m\n [17] \u001b[0m\u001b[1mmacro expansion\u001b[22m\n\u001b[90m    @\u001b[39m \u001b[90m.\\\u001b[39m\u001b[90m\u001b[4mloading.jl:1790\u001b[24m\u001b[39m\u001b[90m [inlined]\u001b[39m\n [18] \u001b[0m\u001b[1mmacro expansion\u001b[22m\n\u001b[90m    @\u001b[39m \u001b[90m.\\\u001b[39m\u001b[90m\u001b[4mlock.jl:267\u001b[24m\u001b[39m\u001b[90m [inlined]\u001b[39m\n [19] \u001b[0m\u001b[1m__require\u001b[22m\u001b[0m\u001b[1m(\u001b[22m\u001b[90minto\u001b[39m::\u001b[0mModule, \u001b[90mmod\u001b[39m::\u001b[0mSymbol\u001b[0m\u001b[1m)\u001b[22m\n\u001b[90m    @\u001b[39m \u001b[90mBase\u001b[39m \u001b[90m.\\\u001b[39m\u001b[90m\u001b[4mloading.jl:1753\u001b[24m\u001b[39m\n [20] \u001b[0m\u001b[1m#invoke_in_world#3\u001b[22m\n\u001b[90m    @\u001b[39m \u001b[90m.\\\u001b[39m\u001b[90m\u001b[4messentials.jl:926\u001b[24m\u001b[39m\u001b[90m [inlined]\u001b[39m\n [21] \u001b[0m\u001b[1minvoke_in_world\u001b[22m\n\u001b[90m    @\u001b[39m \u001b[90m.\\\u001b[39m\u001b[90m\u001b[4messentials.jl:923\u001b[24m\u001b[39m\u001b[90m [inlined]\u001b[39m\n [22] \u001b[0m\u001b[1mrequire\u001b[22m\u001b[0m\u001b[1m(\u001b[22m\u001b[90minto\u001b[39m::\u001b[0mModule, \u001b[90mmod\u001b[39m::\u001b[0mSymbol\u001b[0m\u001b[1m)\u001b[22m\n\u001b[90m    @\u001b[39m \u001b[90mBase\u001b[39m \u001b[90m.\\\u001b[39m\u001b[90m\u001b[4mloading.jl:1746\u001b[24m\u001b[39m\n [23] \u001b[0m\u001b[1minclude\u001b[22m\n\u001b[90m    @\u001b[39m \u001b[90m.\\\u001b[39m\u001b[90m\u001b[4mBase.jl:495\u001b[24m\u001b[39m\u001b[90m [inlined]\u001b[39m\n [24] \u001b[0m\u001b[1minclude_package_for_output\u001b[22m\u001b[0m\u001b[1m(\u001b[22m\u001b[90mpkg\u001b[39m::\u001b[0mBase.PkgId, \u001b[90minput\u001b[39m::\u001b[0mString, \u001b[90mdepot_path\u001b[39m::\u001b[0mVector\u001b[90m{String}\u001b[39m, \u001b[90mdl_load_path\u001b[39m::\u001b[0mVector\u001b[90m{String}\u001b[39m, \u001b[90mload_path\u001b[39m::\u001b[0mVector\u001b[90m{String}\u001b[39m, \u001b[90mconcrete_deps\u001b[39m::\u001b[0mVector\u001b[90m{Pair{Base.PkgId, UInt128}}\u001b[39m, \u001b[90msource\u001b[39m::\u001b[0mString\u001b[0m\u001b[1m)\u001b[22m\n\u001b[90m    @\u001b[39m \u001b[90mBase\u001b[39m \u001b[90m.\\\u001b[39m\u001b[90m\u001b[4mloading.jl:2222\u001b[24m\u001b[39m\n [25] top-level scope\n\u001b[90m    @\u001b[39m \u001b[90m\u001b[4mstdin:3\u001b[24m\u001b[39m\nin expression starting at C:\\Users\\Korisnik\\.julia\\packages\\Distributions\\HjzA0\\src\\Distributions.jl:1\nin expression starting at stdin:3\n\u001b[91m\u001b[1mERROR: \u001b[22m\u001b[39mLoadError: Failed to precompile Distributions [31c24e10-a181-5473-b8eb-7969acd0382f] to \"C:\\\\Users\\\\Korisnik\\\\.julia\\\\compiled\\\\v1.10\\\\Distributions\\\\jl_ECD1.tmp\".\nStacktrace:\n  [1] \u001b[0m\u001b[1merror\u001b[22m\u001b[0m\u001b[1m(\u001b[22m\u001b[90ms\u001b[39m::\u001b[0mString\u001b[0m\u001b[1m)\u001b[22m\n\u001b[90m    @\u001b[39m \u001b[90mBase\u001b[39m \u001b[90m.\\\u001b[39m\u001b[90m\u001b[4merror.jl:35\u001b[24m\u001b[39m\n  [2] \u001b[0m\u001b[1mcompilecache\u001b[22m\u001b[0m\u001b[1m(\u001b[22m\u001b[90mpkg\u001b[39m::\u001b[0mBase.PkgId, \u001b[90mpath\u001b[39m::\u001b[0mString, \u001b[90minternal_stderr\u001b[39m::\u001b[0mIO, \u001b[90minternal_stdout\u001b[39m::\u001b[0mIO, \u001b[90mkeep_loaded_modules\u001b[39m::\u001b[0mBool\u001b[0m\u001b[1m)\u001b[22m\n\u001b[90m    @\u001b[39m \u001b[90mBase\u001b[39m \u001b[90m.\\\u001b[39m\u001b[90m\u001b[4mloading.jl:2468\u001b[24m\u001b[39m\n  [3] \u001b[0m\u001b[1mcompilecache\u001b[22m\n\u001b[90m    @\u001b[39m \u001b[90m.\\\u001b[39m\u001b[90m\u001b[4mloading.jl:2340\u001b[24m\u001b[39m\u001b[90m [inlined]\u001b[39m\n  [4] \u001b[0m\u001b[1m(::Base.var\"#968#969\"{Base.PkgId})\u001b[22m\u001b[0m\u001b[1m(\u001b[22m\u001b[0m\u001b[1m)\u001b[22m\n\u001b[90m    @\u001b[39m \u001b[90mBase\u001b[39m \u001b[90m.\\\u001b[39m\u001b[90m\u001b[4mloading.jl:1974\u001b[24m\u001b[39m\n  [5] \u001b[0m\u001b[1mmkpidlock\u001b[22m\u001b[0m\u001b[1m(\u001b[22m\u001b[90mf\u001b[39m::\u001b[0mBase.var\"#968#969\"\u001b[90m{Base.PkgId}\u001b[39m, \u001b[90mat\u001b[39m::\u001b[0mString, \u001b[90mpid\u001b[39m::\u001b[0mInt32; \u001b[90mkwopts\u001b[39m::\u001b[0m@Kwargs\u001b[90m{stale_age::Int64, wait::Bool}\u001b[39m\u001b[0m\u001b[1m)\u001b[22m\n\u001b[90m    @\u001b[39m \u001b[35mFileWatching.Pidfile\u001b[39m \u001b[90mC:\\Users\\Korisnik\\.julia\\juliaup\\julia-1.10.5+0.x64.w64.mingw32\\share\\julia\\stdlib\\v1.10\\FileWatching\\src\\\u001b[39m\u001b[90m\u001b[4mpidfile.jl:93\u001b[24m\u001b[39m\n  [6] \u001b[0m\u001b[1m#mkpidlock#6\u001b[22m\n\u001b[90m    @\u001b[39m \u001b[90mC:\\Users\\Korisnik\\.julia\\juliaup\\julia-1.10.5+0.x64.w64.mingw32\\share\\julia\\stdlib\\v1.10\\FileWatching\\src\\\u001b[39m\u001b[90m\u001b[4mpidfile.jl:88\u001b[24m\u001b[39m\u001b[90m [inlined]\u001b[39m\n  [7] \u001b[0m\u001b[1mtrymkpidlock\u001b[22m\u001b[0m\u001b[1m(\u001b[22m::\u001b[0mFunction, ::\u001b[0mVararg\u001b[90m{Any}\u001b[39m; \u001b[90mkwargs\u001b[39m::\u001b[0m@Kwargs\u001b[90m{stale_age::Int64}\u001b[39m\u001b[0m\u001b[1m)\u001b[22m\n\u001b[90m    @\u001b[39m \u001b[35mFileWatching.Pidfile\u001b[39m \u001b[90mC:\\Users\\Korisnik\\.julia\\juliaup\\julia-1.10.5+0.x64.w64.mingw32\\share\\julia\\stdlib\\v1.10\\FileWatching\\src\\\u001b[39m\u001b[90m\u001b[4mpidfile.jl:111\u001b[24m\u001b[39m\n  [8] \u001b[0m\u001b[1m#invokelatest#2\u001b[22m\n\u001b[90m    @\u001b[39m \u001b[90m.\\\u001b[39m\u001b[90m\u001b[4messentials.jl:894\u001b[24m\u001b[39m\u001b[90m [inlined]\u001b[39m\n  [9] \u001b[0m\u001b[1minvokelatest\u001b[22m\n\u001b[90m    @\u001b[39m \u001b[90m.\\\u001b[39m\u001b[90m\u001b[4messentials.jl:889\u001b[24m\u001b[39m\u001b[90m [inlined]\u001b[39m\n [10] \u001b[0m\u001b[1mmaybe_cachefile_lock\u001b[22m\u001b[0m\u001b[1m(\u001b[22m\u001b[90mf\u001b[39m::\u001b[0mBase.var\"#968#969\"\u001b[90m{Base.PkgId}\u001b[39m, \u001b[90mpkg\u001b[39m::\u001b[0mBase.PkgId, \u001b[90msrcpath\u001b[39m::\u001b[0mString; \u001b[90mstale_age\u001b[39m::\u001b[0mInt64\u001b[0m\u001b[1m)\u001b[22m\n\u001b[90m    @\u001b[39m \u001b[90mBase\u001b[39m \u001b[90m.\\\u001b[39m\u001b[90m\u001b[4mloading.jl:2983\u001b[24m\u001b[39m\n [11] \u001b[0m\u001b[1mmaybe_cachefile_lock\u001b[22m\n\u001b[90m    @\u001b[39m \u001b[90m.\\\u001b[39m\u001b[90m\u001b[4mloading.jl:2980\u001b[24m\u001b[39m\u001b[90m [inlined]\u001b[39m\n [12] \u001b[0m\u001b[1m_require\u001b[22m\u001b[0m\u001b[1m(\u001b[22m\u001b[90mpkg\u001b[39m::\u001b[0mBase.PkgId, \u001b[90menv\u001b[39m::\u001b[0mString\u001b[0m\u001b[1m)\u001b[22m\n\u001b[90m    @\u001b[39m \u001b[90mBase\u001b[39m \u001b[90m.\\\u001b[39m\u001b[90m\u001b[4mloading.jl:1970\u001b[24m\u001b[39m\n [13] \u001b[0m\u001b[1m__require_prelocked\u001b[22m\u001b[0m\u001b[1m(\u001b[22m\u001b[90muuidkey\u001b[39m::\u001b[0mBase.PkgId, \u001b[90menv\u001b[39m::\u001b[0mString\u001b[0m\u001b[1m)\u001b[22m\n\u001b[90m    @\u001b[39m \u001b[90mBase\u001b[39m \u001b[90m.\\\u001b[39m\u001b[90m\u001b[4mloading.jl:1812\u001b[24m\u001b[39m\n [14] \u001b[0m\u001b[1m#invoke_in_world#3\u001b[22m\n\u001b[90m    @\u001b[39m \u001b[90m.\\\u001b[39m\u001b[90m\u001b[4messentials.jl:926\u001b[24m\u001b[39m\u001b[90m [inlined]\u001b[39m\n [15] \u001b[0m\u001b[1minvoke_in_world\u001b[22m\n\u001b[90m    @\u001b[39m \u001b[90m.\\\u001b[39m\u001b[90m\u001b[4messentials.jl:923\u001b[24m\u001b[39m\u001b[90m [inlined]\u001b[39m\n [16] \u001b[0m\u001b[1m_require_prelocked\u001b[22m\u001b[0m\u001b[1m(\u001b[22m\u001b[90muuidkey\u001b[39m::\u001b[0mBase.PkgId, \u001b[90menv\u001b[39m::\u001b[0mString\u001b[0m\u001b[1m)\u001b[22m\n\u001b[90m    @\u001b[39m \u001b[90mBase\u001b[39m \u001b[90m.\\\u001b[39m\u001b[90m\u001b[4mloading.jl:1803\u001b[24m\u001b[39m\n [17] \u001b[0m\u001b[1mmacro expansion\u001b[22m\n\u001b[90m    @\u001b[39m \u001b[90m.\\\u001b[39m\u001b[90m\u001b[4mloading.jl:1790\u001b[24m\u001b[39m\u001b[90m [inlined]\u001b[39m\n [18] \u001b[0m\u001b[1mmacro expansion\u001b[22m\n\u001b[90m    @\u001b[39m \u001b[90m.\\\u001b[39m\u001b[90m\u001b[4mlock.jl:267\u001b[24m\u001b[39m\u001b[90m [inlined]\u001b[39m\n [19] \u001b[0m\u001b[1m__require\u001b[22m\u001b[0m\u001b[1m(\u001b[22m\u001b[90minto\u001b[39m::\u001b[0mModule, \u001b[90mmod\u001b[39m::\u001b[0mSymbol\u001b[0m\u001b[1m)\u001b[22m\n\u001b[90m    @\u001b[39m \u001b[90mBase\u001b[39m \u001b[90m.\\\u001b[39m\u001b[90m\u001b[4mloading.jl:1753\u001b[24m\u001b[39m\n [20] \u001b[0m\u001b[1m#invoke_in_world#3\u001b[22m\n\u001b[90m    @\u001b[39m \u001b[90m.\\\u001b[39m\u001b[90m\u001b[4messentials.jl:926\u001b[24m\u001b[39m\u001b[90m [inlined]\u001b[39m\n [21] \u001b[0m\u001b[1minvoke_in_world\u001b[22m\n\u001b[90m    @\u001b[39m \u001b[90m.\\\u001b[39m\u001b[90m\u001b[4messentials.jl:923\u001b[24m\u001b[39m\u001b[90m [inlined]\u001b[39m\n [22] \u001b[0m\u001b[1mrequire\u001b[22m\u001b[0m\u001b[1m(\u001b[22m\u001b[90minto\u001b[39m::\u001b[0mModule, \u001b[90mmod\u001b[39m::\u001b[0mSymbol\u001b[0m\u001b[1m)\u001b[22m\n\u001b[90m    @\u001b[39m \u001b[90mBase\u001b[39m \u001b[90m.\\\u001b[39m\u001b[90m\u001b[4mloading.jl:1746\u001b[24m\u001b[39m\n [23] \u001b[0m\u001b[1minclude\u001b[22m\n\u001b[90m    @\u001b[39m \u001b[90m.\\\u001b[39m\u001b[90m\u001b[4mBase.jl:495\u001b[24m\u001b[39m\u001b[90m [inlined]\u001b[39m\n [24] \u001b[0m\u001b[1minclude_package_for_output\u001b[22m\u001b[0m\u001b[1m(\u001b[22m\u001b[90mpkg\u001b[39m::\u001b[0mBase.PkgId, \u001b[90minput\u001b[39m::\u001b[0mString, \u001b[90mdepot_path\u001b[39m::\u001b[0mVector\u001b[90m{String}\u001b[39m, \u001b[90mdl_load_path\u001b[39m::\u001b[0mVector\u001b[90m{String}\u001b[39m, \u001b[90mload_path\u001b[39m::\u001b[0mVector\u001b[90m{String}\u001b[39m, \u001b[90mconcrete_deps\u001b[39m::\u001b[0mVector\u001b[90m{Pair{Base.PkgId, UInt128}}\u001b[39m, \u001b[90msource\u001b[39m::\u001b[0mNothing\u001b[0m\u001b[1m)\u001b[22m\n\u001b[90m    @\u001b[39m \u001b[90mBase\u001b[39m \u001b[90m.\\\u001b[39m\u001b[90m\u001b[4mloading.jl:2222\u001b[24m\u001b[39m\n [25] top-level scope\n\u001b[90m    @\u001b[39m \u001b[90m\u001b[4mstdin:3\u001b[24m\u001b[39m\nin expression starting at C:\\Users\\Korisnik\\.julia\\packages\\StatsPlots\\CpWiU\\src\\StatsPlots.jl:1\nin expression starting at stdin:3",
     "output_type": "error",
     "traceback": [
      "The following 2 direct dependencies failed to precompile:\n\nDistributions [31c24e10-a181-5473-b8eb-7969acd0382f]\n\nFailed to precompile Distributions [31c24e10-a181-5473-b8eb-7969acd0382f] to \"C:\\\\Users\\\\Korisnik\\\\.julia\\\\compiled\\\\v1.10\\\\Distributions\\\\jl_5507.tmp\".\n\u001b[91m\u001b[1mERROR: \u001b[22m\u001b[39mLoadError: SpecialFunctions is not installed properly, run `Pkg.build(\"SpecialFunctions\")`,restart Julia and try again\nStacktrace:\n [1] \u001b[0m\u001b[1merror\u001b[22m\u001b[0m\u001b[1m(\u001b[22m\u001b[90ms\u001b[39m::\u001b[0mString\u001b[0m\u001b[1m)\u001b[22m\n\u001b[90m   @\u001b[39m \u001b[90mBase\u001b[39m \u001b[90m.\\\u001b[39m\u001b[90m\u001b[4merror.jl:35\u001b[24m\u001b[39m\n [2] top-level scope\n\u001b[90m   @\u001b[39m \u001b[90mC:\\Users\\Korisnik\\.julia\\packages\\SpecialFunctions\\ne2iw\\src\\\u001b[39m\u001b[90m\u001b[4mSpecialFunctions.jl:6\u001b[24m\u001b[39m\n [3] \u001b[0m\u001b[1minclude\u001b[22m\n\u001b[90m   @\u001b[39m \u001b[90m.\\\u001b[39m\u001b[90m\u001b[4mBase.jl:495\u001b[24m\u001b[39m\u001b[90m [inlined]\u001b[39m\n [4] \u001b[0m\u001b[1minclude_package_for_output\u001b[22m\u001b[0m\u001b[1m(\u001b[22m\u001b[90mpkg\u001b[39m::\u001b[0mBase.PkgId, \u001b[90minput\u001b[39m::\u001b[0mString, \u001b[90mdepot_path\u001b[39m::\u001b[0mVector\u001b[90m{String}\u001b[39m, \u001b[90mdl_load_path\u001b[39m::\u001b[0mVector\u001b[90m{String}\u001b[39m, \u001b[90mload_path\u001b[39m::\u001b[0mVector\u001b[90m{String}\u001b[39m, \u001b[90mconcrete_deps\u001b[39m::\u001b[0mVector\u001b[90m{Pair{Base.PkgId, UInt128}}\u001b[39m, \u001b[90msource\u001b[39m::\u001b[0mString\u001b[0m\u001b[1m)\u001b[22m\n\u001b[90m   @\u001b[39m \u001b[90mBase\u001b[39m \u001b[90m.\\\u001b[39m\u001b[90m\u001b[4mloading.jl:2222\u001b[24m\u001b[39m\n [5] top-level scope\n\u001b[90m   @\u001b[39m \u001b[90m\u001b[4mstdin:3\u001b[24m\u001b[39m\nin expression starting at C:\\Users\\Korisnik\\.julia\\packages\\SpecialFunctions\\ne2iw\\src\\SpecialFunctions.jl:1\nin expression starting at stdin:3\n\u001b[91m\u001b[1mERROR: \u001b[22m\u001b[39mLoadError: Failed to precompile SpecialFunctions [276daf66-3868-5448-9aa4-cd146d93841b] to \"C:\\\\Users\\\\Korisnik\\\\.julia\\\\compiled\\\\v1.10\\\\SpecialFunctions\\\\jl_5CD6.tmp\".\nStacktrace:\n  [1] \u001b[0m\u001b[1merror\u001b[22m\u001b[0m\u001b[1m(\u001b[22m\u001b[90ms\u001b[39m::\u001b[0mString\u001b[0m\u001b[1m)\u001b[22m\n\u001b[90m    @\u001b[39m \u001b[90mBase\u001b[39m \u001b[90m.\\\u001b[39m\u001b[90m\u001b[4merror.jl:35\u001b[24m\u001b[39m\n  [2] \u001b[0m\u001b[1mcompilecache\u001b[22m\u001b[0m\u001b[1m(\u001b[22m\u001b[90mpkg\u001b[39m::\u001b[0mBase.PkgId, \u001b[90mpath\u001b[39m::\u001b[0mString, \u001b[90minternal_stderr\u001b[39m::\u001b[0mIO, \u001b[90minternal_stdout\u001b[39m::\u001b[0mIO, \u001b[90mkeep_loaded_modules\u001b[39m::\u001b[0mBool\u001b[0m\u001b[1m)\u001b[22m\n\u001b[90m    @\u001b[39m \u001b[90mBase\u001b[39m \u001b[90m.\\\u001b[39m\u001b[90m\u001b[4mloading.jl:2468\u001b[24m\u001b[39m\n  [3] \u001b[0m\u001b[1mcompilecache\u001b[22m\n\u001b[90m    @\u001b[39m \u001b[90m.\\\u001b[39m\u001b[90m\u001b[4mloading.jl:2340\u001b[24m\u001b[39m\u001b[90m [inlined]\u001b[39m\n  [4] \u001b[0m\u001b[1m(::Base.var\"#968#969\"{Base.PkgId})\u001b[22m\u001b[0m\u001b[1m(\u001b[22m\u001b[0m\u001b[1m)\u001b[22m\n\u001b[90m    @\u001b[39m \u001b[90mBase\u001b[39m \u001b[90m.\\\u001b[39m\u001b[90m\u001b[4mloading.jl:1974\u001b[24m\u001b[39m\n  [5] \u001b[0m\u001b[1mmkpidlock\u001b[22m\u001b[0m\u001b[1m(\u001b[22m\u001b[90mf\u001b[39m::\u001b[0mBase.var\"#968#969\"\u001b[90m{Base.PkgId}\u001b[39m, \u001b[90mat\u001b[39m::\u001b[0mString, \u001b[90mpid\u001b[39m::\u001b[0mInt32; \u001b[90mkwopts\u001b[39m::\u001b[0m@Kwargs\u001b[90m{stale_age::Int64, wait::Bool}\u001b[39m\u001b[0m\u001b[1m)\u001b[22m\n\u001b[90m    @\u001b[39m \u001b[35mFileWatching.Pidfile\u001b[39m \u001b[90mC:\\Users\\Korisnik\\.julia\\juliaup\\julia-1.10.5+0.x64.w64.mingw32\\share\\julia\\stdlib\\v1.10\\FileWatching\\src\\\u001b[39m\u001b[90m\u001b[4mpidfile.jl:93\u001b[24m\u001b[39m\n  [6] \u001b[0m\u001b[1m#mkpidlock#6\u001b[22m\n\u001b[90m    @\u001b[39m \u001b[90mC:\\Users\\Korisnik\\.julia\\juliaup\\julia-1.10.5+0.x64.w64.mingw32\\share\\julia\\stdlib\\v1.10\\FileWatching\\src\\\u001b[39m\u001b[90m\u001b[4mpidfile.jl:88\u001b[24m\u001b[39m\u001b[90m [inlined]\u001b[39m\n  [7] \u001b[0m\u001b[1mtrymkpidlock\u001b[22m\u001b[0m\u001b[1m(\u001b[22m::\u001b[0mFunction, ::\u001b[0mVararg\u001b[90m{Any}\u001b[39m; \u001b[90mkwargs\u001b[39m::\u001b[0m@Kwargs\u001b[90m{stale_age::Int64}\u001b[39m\u001b[0m\u001b[1m)\u001b[22m\n\u001b[90m    @\u001b[39m \u001b[35mFileWatching.Pidfile\u001b[39m \u001b[90mC:\\Users\\Korisnik\\.julia\\juliaup\\julia-1.10.5+0.x64.w64.mingw32\\share\\julia\\stdlib\\v1.10\\FileWatching\\src\\\u001b[39m\u001b[90m\u001b[4mpidfile.jl:111\u001b[24m\u001b[39m\n  [8] \u001b[0m\u001b[1m#invokelatest#2\u001b[22m\n\u001b[90m    @\u001b[39m \u001b[90m.\\\u001b[39m\u001b[90m\u001b[4messentials.jl:894\u001b[24m\u001b[39m\u001b[90m [inlined]\u001b[39m\n  [9] \u001b[0m\u001b[1minvokelatest\u001b[22m\n\u001b[90m    @\u001b[39m \u001b[90m.\\\u001b[39m\u001b[90m\u001b[4messentials.jl:889\u001b[24m\u001b[39m\u001b[90m [inlined]\u001b[39m\n [10] \u001b[0m\u001b[1mmaybe_cachefile_lock\u001b[22m\u001b[0m\u001b[1m(\u001b[22m\u001b[90mf\u001b[39m::\u001b[0mBase.var\"#968#969\"\u001b[90m{Base.PkgId}\u001b[39m, \u001b[90mpkg\u001b[39m::\u001b[0mBase.PkgId, \u001b[90msrcpath\u001b[39m::\u001b[0mString; \u001b[90mstale_age\u001b[39m::\u001b[0mInt64\u001b[0m\u001b[1m)\u001b[22m\n\u001b[90m    @\u001b[39m \u001b[90mBase\u001b[39m \u001b[90m.\\\u001b[39m\u001b[90m\u001b[4mloading.jl:2983\u001b[24m\u001b[39m\n [11] \u001b[0m\u001b[1mmaybe_cachefile_lock\u001b[22m\n\u001b[90m    @\u001b[39m \u001b[90m.\\\u001b[39m\u001b[90m\u001b[4mloading.jl:2980\u001b[24m\u001b[39m\u001b[90m [inlined]\u001b[39m\n [12] \u001b[0m\u001b[1m_require\u001b[22m\u001b[0m\u001b[1m(\u001b[22m\u001b[90mpkg\u001b[39m::\u001b[0mBase.PkgId, \u001b[90menv\u001b[39m::\u001b[0mString\u001b[0m\u001b[1m)\u001b[22m\n\u001b[90m    @\u001b[39m \u001b[90mBase\u001b[39m \u001b[90m.\\\u001b[39m\u001b[90m\u001b[4mloading.jl:1970\u001b[24m\u001b[39m\n [13] \u001b[0m\u001b[1m__require_prelocked\u001b[22m\u001b[0m\u001b[1m(\u001b[22m\u001b[90muuidkey\u001b[39m::\u001b[0mBase.PkgId, \u001b[90menv\u001b[39m::\u001b[0mString\u001b[0m\u001b[1m)\u001b[22m\n\u001b[90m    @\u001b[39m \u001b[90mBase\u001b[39m \u001b[90m.\\\u001b[39m\u001b[90m\u001b[4mloading.jl:1812\u001b[24m\u001b[39m\n [14] \u001b[0m\u001b[1m#invoke_in_world#3\u001b[22m\n\u001b[90m    @\u001b[39m \u001b[90m.\\\u001b[39m\u001b[90m\u001b[4messentials.jl:926\u001b[24m\u001b[39m\u001b[90m [inlined]\u001b[39m\n [15] \u001b[0m\u001b[1minvoke_in_world\u001b[22m\n\u001b[90m    @\u001b[39m \u001b[90m.\\\u001b[39m\u001b[90m\u001b[4messentials.jl:923\u001b[24m\u001b[39m\u001b[90m [inlined]\u001b[39m\n [16] \u001b[0m\u001b[1m_require_prelocked\u001b[22m\u001b[0m\u001b[1m(\u001b[22m\u001b[90muuidkey\u001b[39m::\u001b[0mBase.PkgId, \u001b[90menv\u001b[39m::\u001b[0mString\u001b[0m\u001b[1m)\u001b[22m\n\u001b[90m    @\u001b[39m \u001b[90mBase\u001b[39m \u001b[90m.\\\u001b[39m\u001b[90m\u001b[4mloading.jl:1803\u001b[24m\u001b[39m\n [17] \u001b[0m\u001b[1mmacro expansion\u001b[22m\n\u001b[90m    @\u001b[39m \u001b[90m.\\\u001b[39m\u001b[90m\u001b[4mloading.jl:1790\u001b[24m\u001b[39m\u001b[90m [inlined]\u001b[39m\n [18] \u001b[0m\u001b[1mmacro expansion\u001b[22m\n\u001b[90m    @\u001b[39m \u001b[90m.\\\u001b[39m\u001b[90m\u001b[4mlock.jl:267\u001b[24m\u001b[39m\u001b[90m [inlined]\u001b[39m\n [19] \u001b[0m\u001b[1m__require\u001b[22m\u001b[0m\u001b[1m(\u001b[22m\u001b[90minto\u001b[39m::\u001b[0mModule, \u001b[90mmod\u001b[39m::\u001b[0mSymbol\u001b[0m\u001b[1m)\u001b[22m\n\u001b[90m    @\u001b[39m \u001b[90mBase\u001b[39m \u001b[90m.\\\u001b[39m\u001b[90m\u001b[4mloading.jl:1753\u001b[24m\u001b[39m\n [20] \u001b[0m\u001b[1m#invoke_in_world#3\u001b[22m\n\u001b[90m    @\u001b[39m \u001b[90m.\\\u001b[39m\u001b[90m\u001b[4messentials.jl:926\u001b[24m\u001b[39m\u001b[90m [inlined]\u001b[39m\n [21] \u001b[0m\u001b[1minvoke_in_world\u001b[22m\n\u001b[90m    @\u001b[39m \u001b[90m.\\\u001b[39m\u001b[90m\u001b[4messentials.jl:923\u001b[24m\u001b[39m\u001b[90m [inlined]\u001b[39m\n [22] \u001b[0m\u001b[1mrequire\u001b[22m\u001b[0m\u001b[1m(\u001b[22m\u001b[90minto\u001b[39m::\u001b[0mModule, \u001b[90mmod\u001b[39m::\u001b[0mSymbol\u001b[0m\u001b[1m)\u001b[22m\n\u001b[90m    @\u001b[39m \u001b[90mBase\u001b[39m \u001b[90m.\\\u001b[39m\u001b[90m\u001b[4mloading.jl:1746\u001b[24m\u001b[39m\n [23] \u001b[0m\u001b[1minclude\u001b[22m\n\u001b[90m    @\u001b[39m \u001b[90m.\\\u001b[39m\u001b[90m\u001b[4mBase.jl:495\u001b[24m\u001b[39m\u001b[90m [inlined]\u001b[39m\n [24] \u001b[0m\u001b[1minclude_package_for_output\u001b[22m\u001b[0m\u001b[1m(\u001b[22m\u001b[90mpkg\u001b[39m::\u001b[0mBase.PkgId, \u001b[90minput\u001b[39m::\u001b[0mString, \u001b[90mdepot_path\u001b[39m::\u001b[0mVector\u001b[90m{String}\u001b[39m, \u001b[90mdl_load_path\u001b[39m::\u001b[0mVector\u001b[90m{String}\u001b[39m, \u001b[90mload_path\u001b[39m::\u001b[0mVector\u001b[90m{String}\u001b[39m, \u001b[90mconcrete_deps\u001b[39m::\u001b[0mVector\u001b[90m{Pair{Base.PkgId, UInt128}}\u001b[39m, \u001b[90msource\u001b[39m::\u001b[0mString\u001b[0m\u001b[1m)\u001b[22m\n\u001b[90m    @\u001b[39m \u001b[90mBase\u001b[39m \u001b[90m.\\\u001b[39m\u001b[90m\u001b[4mloading.jl:2222\u001b[24m\u001b[39m\n [25] top-level scope\n\u001b[90m    @\u001b[39m \u001b[90m\u001b[4mstdin:3\u001b[24m\u001b[39m\nin expression starting at C:\\Users\\Korisnik\\.julia\\packages\\StatsFuns\\P7Mci\\src\\StatsFuns.jl:3\nin expression starting at stdin:3\n\u001b[91m\u001b[1mERROR: \u001b[22m\u001b[39mLoadError: Failed to precompile StatsFuns [4c63d2b9-4356-54db-8cca-17b64c39e42c] to \"C:\\\\Users\\\\Korisnik\\\\.julia\\\\compiled\\\\v1.10\\\\StatsFuns\\\\jl_59D8.tmp\".\nStacktrace:\n  [1] \u001b[0m\u001b[1merror\u001b[22m\u001b[0m\u001b[1m(\u001b[22m\u001b[90ms\u001b[39m::\u001b[0mString\u001b[0m\u001b[1m)\u001b[22m\n\u001b[90m    @\u001b[39m \u001b[90mBase\u001b[39m \u001b[90m.\\\u001b[39m\u001b[90m\u001b[4merror.jl:35\u001b[24m\u001b[39m\n  [2] \u001b[0m\u001b[1mcompilecache\u001b[22m\u001b[0m\u001b[1m(\u001b[22m\u001b[90mpkg\u001b[39m::\u001b[0mBase.PkgId, \u001b[90mpath\u001b[39m::\u001b[0mString, \u001b[90minternal_stderr\u001b[39m::\u001b[0mIO, \u001b[90minternal_stdout\u001b[39m::\u001b[0mIO, \u001b[90mkeep_loaded_modules\u001b[39m::\u001b[0mBool\u001b[0m\u001b[1m)\u001b[22m\n\u001b[90m    @\u001b[39m \u001b[90mBase\u001b[39m \u001b[90m.\\\u001b[39m\u001b[90m\u001b[4mloading.jl:2468\u001b[24m\u001b[39m\n  [3] \u001b[0m\u001b[1mcompilecache\u001b[22m\n\u001b[90m    @\u001b[39m \u001b[90m.\\\u001b[39m\u001b[90m\u001b[4mloading.jl:2340\u001b[24m\u001b[39m\u001b[90m [inlined]\u001b[39m\n  [4] \u001b[0m\u001b[1m(::Base.var\"#968#969\"{Base.PkgId})\u001b[22m\u001b[0m\u001b[1m(\u001b[22m\u001b[0m\u001b[1m)\u001b[22m\n\u001b[90m    @\u001b[39m \u001b[90mBase\u001b[39m \u001b[90m.\\\u001b[39m\u001b[90m\u001b[4mloading.jl:1974\u001b[24m\u001b[39m\n  [5] \u001b[0m\u001b[1mmkpidlock\u001b[22m\u001b[0m\u001b[1m(\u001b[22m\u001b[90mf\u001b[39m::\u001b[0mBase.var\"#968#969\"\u001b[90m{Base.PkgId}\u001b[39m, \u001b[90mat\u001b[39m::\u001b[0mString, \u001b[90mpid\u001b[39m::\u001b[0mInt32; \u001b[90mkwopts\u001b[39m::\u001b[0m@Kwargs\u001b[90m{stale_age::Int64, wait::Bool}\u001b[39m\u001b[0m\u001b[1m)\u001b[22m\n\u001b[90m    @\u001b[39m \u001b[35mFileWatching.Pidfile\u001b[39m \u001b[90mC:\\Users\\Korisnik\\.julia\\juliaup\\julia-1.10.5+0.x64.w64.mingw32\\share\\julia\\stdlib\\v1.10\\FileWatching\\src\\\u001b[39m\u001b[90m\u001b[4mpidfile.jl:93\u001b[24m\u001b[39m\n  [6] \u001b[0m\u001b[1m#mkpidlock#6\u001b[22m\n\u001b[90m    @\u001b[39m \u001b[90mC:\\Users\\Korisnik\\.julia\\juliaup\\julia-1.10.5+0.x64.w64.mingw32\\share\\julia\\stdlib\\v1.10\\FileWatching\\src\\\u001b[39m\u001b[90m\u001b[4mpidfile.jl:88\u001b[24m\u001b[39m\u001b[90m [inlined]\u001b[39m\n  [7] \u001b[0m\u001b[1mtrymkpidlock\u001b[22m\u001b[0m\u001b[1m(\u001b[22m::\u001b[0mFunction, ::\u001b[0mVararg\u001b[90m{Any}\u001b[39m; \u001b[90mkwargs\u001b[39m::\u001b[0m@Kwargs\u001b[90m{stale_age::Int64}\u001b[39m\u001b[0m\u001b[1m)\u001b[22m\n\u001b[90m    @\u001b[39m \u001b[35mFileWatching.Pidfile\u001b[39m \u001b[90mC:\\Users\\Korisnik\\.julia\\juliaup\\julia-1.10.5+0.x64.w64.mingw32\\share\\julia\\stdlib\\v1.10\\FileWatching\\src\\\u001b[39m\u001b[90m\u001b[4mpidfile.jl:111\u001b[24m\u001b[39m\n  [8] \u001b[0m\u001b[1m#invokelatest#2\u001b[22m\n\u001b[90m    @\u001b[39m \u001b[90m.\\\u001b[39m\u001b[90m\u001b[4messentials.jl:894\u001b[24m\u001b[39m\u001b[90m [inlined]\u001b[39m\n  [9] \u001b[0m\u001b[1minvokelatest\u001b[22m\n\u001b[90m    @\u001b[39m \u001b[90m.\\\u001b[39m\u001b[90m\u001b[4messentials.jl:889\u001b[24m\u001b[39m\u001b[90m [inlined]\u001b[39m\n [10] \u001b[0m\u001b[1mmaybe_cachefile_lock\u001b[22m\u001b[0m\u001b[1m(\u001b[22m\u001b[90mf\u001b[39m::\u001b[0mBase.var\"#968#969\"\u001b[90m{Base.PkgId}\u001b[39m, \u001b[90mpkg\u001b[39m::\u001b[0mBase.PkgId, \u001b[90msrcpath\u001b[39m::\u001b[0mString; \u001b[90mstale_age\u001b[39m::\u001b[0mInt64\u001b[0m\u001b[1m)\u001b[22m\n\u001b[90m    @\u001b[39m \u001b[90mBase\u001b[39m \u001b[90m.\\\u001b[39m\u001b[90m\u001b[4mloading.jl:2983\u001b[24m\u001b[39m\n [11] \u001b[0m\u001b[1mmaybe_cachefile_lock\u001b[22m\n\u001b[90m    @\u001b[39m \u001b[90m.\\\u001b[39m\u001b[90m\u001b[4mloading.jl:2980\u001b[24m\u001b[39m\u001b[90m [inlined]\u001b[39m\n [12] \u001b[0m\u001b[1m_require\u001b[22m\u001b[0m\u001b[1m(\u001b[22m\u001b[90mpkg\u001b[39m::\u001b[0mBase.PkgId, \u001b[90menv\u001b[39m::\u001b[0mString\u001b[0m\u001b[1m)\u001b[22m\n\u001b[90m    @\u001b[39m \u001b[90mBase\u001b[39m \u001b[90m.\\\u001b[39m\u001b[90m\u001b[4mloading.jl:1970\u001b[24m\u001b[39m\n [13] \u001b[0m\u001b[1m__require_prelocked\u001b[22m\u001b[0m\u001b[1m(\u001b[22m\u001b[90muuidkey\u001b[39m::\u001b[0mBase.PkgId, \u001b[90menv\u001b[39m::\u001b[0mString\u001b[0m\u001b[1m)\u001b[22m\n\u001b[90m    @\u001b[39m \u001b[90mBase\u001b[39m \u001b[90m.\\\u001b[39m\u001b[90m\u001b[4mloading.jl:1812\u001b[24m\u001b[39m\n [14] \u001b[0m\u001b[1m#invoke_in_world#3\u001b[22m\n\u001b[90m    @\u001b[39m \u001b[90m.\\\u001b[39m\u001b[90m\u001b[4messentials.jl:926\u001b[24m\u001b[39m\u001b[90m [inlined]\u001b[39m\n [15] \u001b[0m\u001b[1minvoke_in_world\u001b[22m\n\u001b[90m    @\u001b[39m \u001b[90m.\\\u001b[39m\u001b[90m\u001b[4messentials.jl:923\u001b[24m\u001b[39m\u001b[90m [inlined]\u001b[39m\n [16] \u001b[0m\u001b[1m_require_prelocked\u001b[22m\u001b[0m\u001b[1m(\u001b[22m\u001b[90muuidkey\u001b[39m::\u001b[0mBase.PkgId, \u001b[90menv\u001b[39m::\u001b[0mString\u001b[0m\u001b[1m)\u001b[22m\n\u001b[90m    @\u001b[39m \u001b[90mBase\u001b[39m \u001b[90m.\\\u001b[39m\u001b[90m\u001b[4mloading.jl:1803\u001b[24m\u001b[39m\n [17] \u001b[0m\u001b[1mmacro expansion\u001b[22m\n\u001b[90m    @\u001b[39m \u001b[90m.\\\u001b[39m\u001b[90m\u001b[4mloading.jl:1790\u001b[24m\u001b[39m\u001b[90m [inlined]\u001b[39m\n [18] \u001b[0m\u001b[1mmacro expansion\u001b[22m\n\u001b[90m    @\u001b[39m \u001b[90m.\\\u001b[39m\u001b[90m\u001b[4mlock.jl:267\u001b[24m\u001b[39m\u001b[90m [inlined]\u001b[39m\n [19] \u001b[0m\u001b[1m__require\u001b[22m\u001b[0m\u001b[1m(\u001b[22m\u001b[90minto\u001b[39m::\u001b[0mModule, \u001b[90mmod\u001b[39m::\u001b[0mSymbol\u001b[0m\u001b[1m)\u001b[22m\n\u001b[90m    @\u001b[39m \u001b[90mBase\u001b[39m \u001b[90m.\\\u001b[39m\u001b[90m\u001b[4mloading.jl:1753\u001b[24m\u001b[39m\n [20] \u001b[0m\u001b[1m#invoke_in_world#3\u001b[22m\n\u001b[90m    @\u001b[39m \u001b[90m.\\\u001b[39m\u001b[90m\u001b[4messentials.jl:926\u001b[24m\u001b[39m\u001b[90m [inlined]\u001b[39m\n [21] \u001b[0m\u001b[1minvoke_in_world\u001b[22m\n\u001b[90m    @\u001b[39m \u001b[90m.\\\u001b[39m\u001b[90m\u001b[4messentials.jl:923\u001b[24m\u001b[39m\u001b[90m [inlined]\u001b[39m\n [22] \u001b[0m\u001b[1mrequire\u001b[22m\u001b[0m\u001b[1m(\u001b[22m\u001b[90minto\u001b[39m::\u001b[0mModule, \u001b[90mmod\u001b[39m::\u001b[0mSymbol\u001b[0m\u001b[1m)\u001b[22m\n\u001b[90m    @\u001b[39m \u001b[90mBase\u001b[39m \u001b[90m.\\\u001b[39m\u001b[90m\u001b[4mloading.jl:1746\u001b[24m\u001b[39m\n [23] \u001b[0m\u001b[1minclude\u001b[22m\n\u001b[90m    @\u001b[39m \u001b[90m.\\\u001b[39m\u001b[90m\u001b[4mBase.jl:495\u001b[24m\u001b[39m\u001b[90m [inlined]\u001b[39m\n [24] \u001b[0m\u001b[1minclude_package_for_output\u001b[22m\u001b[0m\u001b[1m(\u001b[22m\u001b[90mpkg\u001b[39m::\u001b[0mBase.PkgId, \u001b[90minput\u001b[39m::\u001b[0mString, \u001b[90mdepot_path\u001b[39m::\u001b[0mVector\u001b[90m{String}\u001b[39m, \u001b[90mdl_load_path\u001b[39m::\u001b[0mVector\u001b[90m{String}\u001b[39m, \u001b[90mload_path\u001b[39m::\u001b[0mVector\u001b[90m{String}\u001b[39m, \u001b[90mconcrete_deps\u001b[39m::\u001b[0mVector\u001b[90m{Pair{Base.PkgId, UInt128}}\u001b[39m, \u001b[90msource\u001b[39m::\u001b[0mNothing\u001b[0m\u001b[1m)\u001b[22m\n\u001b[90m    @\u001b[39m \u001b[90mBase\u001b[39m \u001b[90m.\\\u001b[39m\u001b[90m\u001b[4mloading.jl:2222\u001b[24m\u001b[39m\n [25] top-level scope\n\u001b[90m    @\u001b[39m \u001b[90m\u001b[4mstdin:3\u001b[24m\u001b[39m\nin expression starting at C:\\Users\\Korisnik\\.julia\\packages\\Distributions\\HjzA0\\src\\Distributions.jl:1\nin expression starting at stdin:3\nStatsPlots [f3b207a7-027a-5e70-b257-86293d7955fd]\n\nFailed to precompile StatsPlots [f3b207a7-027a-5e70-b257-86293d7955fd] to \"C:\\\\Users\\\\Korisnik\\\\.julia\\\\compiled\\\\v1.10\\\\StatsPlots\\\\jl_D077.tmp\".\n\u001b[91m\u001b[1mERROR: \u001b[22m\u001b[39mLoadError: SpecialFunctions is not installed properly, run `Pkg.build(\"SpecialFunctions\")`,restart Julia and try again\nStacktrace:\n [1] \u001b[0m\u001b[1merror\u001b[22m\u001b[0m\u001b[1m(\u001b[22m\u001b[90ms\u001b[39m::\u001b[0mString\u001b[0m\u001b[1m)\u001b[22m\n\u001b[90m   @\u001b[39m \u001b[90mBase\u001b[39m \u001b[90m.\\\u001b[39m\u001b[90m\u001b[4merror.jl:35\u001b[24m\u001b[39m\n [2] top-level scope\n\u001b[90m   @\u001b[39m \u001b[90mC:\\Users\\Korisnik\\.julia\\packages\\SpecialFunctions\\ne2iw\\src\\\u001b[39m\u001b[90m\u001b[4mSpecialFunctions.jl:6\u001b[24m\u001b[39m\n [3] \u001b[0m\u001b[1minclude\u001b[22m\n\u001b[90m   @\u001b[39m \u001b[90m.\\\u001b[39m\u001b[90m\u001b[4mBase.jl:495\u001b[24m\u001b[39m\u001b[90m [inlined]\u001b[39m\n [4] \u001b[0m\u001b[1minclude_package_for_output\u001b[22m\u001b[0m\u001b[1m(\u001b[22m\u001b[90mpkg\u001b[39m::\u001b[0mBase.PkgId, \u001b[90minput\u001b[39m::\u001b[0mString, \u001b[90mdepot_path\u001b[39m::\u001b[0mVector\u001b[90m{String}\u001b[39m, \u001b[90mdl_load_path\u001b[39m::\u001b[0mVector\u001b[90m{String}\u001b[39m, \u001b[90mload_path\u001b[39m::\u001b[0mVector\u001b[90m{String}\u001b[39m, \u001b[90mconcrete_deps\u001b[39m::\u001b[0mVector\u001b[90m{Pair{Base.PkgId, UInt128}}\u001b[39m, \u001b[90msource\u001b[39m::\u001b[0mString\u001b[0m\u001b[1m)\u001b[22m\n\u001b[90m   @\u001b[39m \u001b[90mBase\u001b[39m \u001b[90m.\\\u001b[39m\u001b[90m\u001b[4mloading.jl:2222\u001b[24m\u001b[39m\n [5] top-level scope\n\u001b[90m   @\u001b[39m \u001b[90m\u001b[4mstdin:3\u001b[24m\u001b[39m\nin expression starting at C:\\Users\\Korisnik\\.julia\\packages\\SpecialFunctions\\ne2iw\\src\\SpecialFunctions.jl:1\nin expression starting at stdin:3\n\u001b[91m\u001b[1mERROR: \u001b[22m\u001b[39mLoadError: Failed to precompile SpecialFunctions [276daf66-3868-5448-9aa4-cd146d93841b] to \"C:\\\\Users\\\\Korisnik\\\\.julia\\\\compiled\\\\v1.10\\\\SpecialFunctions\\\\jl_F8B8.tmp\".\nStacktrace:\n  [1] \u001b[0m\u001b[1merror\u001b[22m\u001b[0m\u001b[1m(\u001b[22m\u001b[90ms\u001b[39m::\u001b[0mString\u001b[0m\u001b[1m)\u001b[22m\n\u001b[90m    @\u001b[39m \u001b[90mBase\u001b[39m \u001b[90m.\\\u001b[39m\u001b[90m\u001b[4merror.jl:35\u001b[24m\u001b[39m\n  [2] \u001b[0m\u001b[1mcompilecache\u001b[22m\u001b[0m\u001b[1m(\u001b[22m\u001b[90mpkg\u001b[39m::\u001b[0mBase.PkgId, \u001b[90mpath\u001b[39m::\u001b[0mString, \u001b[90minternal_stderr\u001b[39m::\u001b[0mIO, \u001b[90minternal_stdout\u001b[39m::\u001b[0mIO, \u001b[90mkeep_loaded_modules\u001b[39m::\u001b[0mBool\u001b[0m\u001b[1m)\u001b[22m\n\u001b[90m    @\u001b[39m \u001b[90mBase\u001b[39m \u001b[90m.\\\u001b[39m\u001b[90m\u001b[4mloading.jl:2468\u001b[24m\u001b[39m\n  [3] \u001b[0m\u001b[1mcompilecache\u001b[22m\n\u001b[90m    @\u001b[39m \u001b[90m.\\\u001b[39m\u001b[90m\u001b[4mloading.jl:2340\u001b[24m\u001b[39m\u001b[90m [inlined]\u001b[39m\n  [4] \u001b[0m\u001b[1m(::Base.var\"#968#969\"{Base.PkgId})\u001b[22m\u001b[0m\u001b[1m(\u001b[22m\u001b[0m\u001b[1m)\u001b[22m\n\u001b[90m    @\u001b[39m \u001b[90mBase\u001b[39m \u001b[90m.\\\u001b[39m\u001b[90m\u001b[4mloading.jl:1974\u001b[24m\u001b[39m\n  [5] \u001b[0m\u001b[1mmkpidlock\u001b[22m\u001b[0m\u001b[1m(\u001b[22m\u001b[90mf\u001b[39m::\u001b[0mBase.var\"#968#969\"\u001b[90m{Base.PkgId}\u001b[39m, \u001b[90mat\u001b[39m::\u001b[0mString, \u001b[90mpid\u001b[39m::\u001b[0mInt32; \u001b[90mkwopts\u001b[39m::\u001b[0m@Kwargs\u001b[90m{stale_age::Int64, wait::Bool}\u001b[39m\u001b[0m\u001b[1m)\u001b[22m\n\u001b[90m    @\u001b[39m \u001b[35mFileWatching.Pidfile\u001b[39m \u001b[90mC:\\Users\\Korisnik\\.julia\\juliaup\\julia-1.10.5+0.x64.w64.mingw32\\share\\julia\\stdlib\\v1.10\\FileWatching\\src\\\u001b[39m\u001b[90m\u001b[4mpidfile.jl:93\u001b[24m\u001b[39m\n  [6] \u001b[0m\u001b[1m#mkpidlock#6\u001b[22m\n\u001b[90m    @\u001b[39m \u001b[90mC:\\Users\\Korisnik\\.julia\\juliaup\\julia-1.10.5+0.x64.w64.mingw32\\share\\julia\\stdlib\\v1.10\\FileWatching\\src\\\u001b[39m\u001b[90m\u001b[4mpidfile.jl:88\u001b[24m\u001b[39m\u001b[90m [inlined]\u001b[39m\n  [7] \u001b[0m\u001b[1mtrymkpidlock\u001b[22m\u001b[0m\u001b[1m(\u001b[22m::\u001b[0mFunction, ::\u001b[0mVararg\u001b[90m{Any}\u001b[39m; \u001b[90mkwargs\u001b[39m::\u001b[0m@Kwargs\u001b[90m{stale_age::Int64}\u001b[39m\u001b[0m\u001b[1m)\u001b[22m\n\u001b[90m    @\u001b[39m \u001b[35mFileWatching.Pidfile\u001b[39m \u001b[90mC:\\Users\\Korisnik\\.julia\\juliaup\\julia-1.10.5+0.x64.w64.mingw32\\share\\julia\\stdlib\\v1.10\\FileWatching\\src\\\u001b[39m\u001b[90m\u001b[4mpidfile.jl:111\u001b[24m\u001b[39m\n  [8] \u001b[0m\u001b[1m#invokelatest#2\u001b[22m\n\u001b[90m    @\u001b[39m \u001b[90m.\\\u001b[39m\u001b[90m\u001b[4messentials.jl:894\u001b[24m\u001b[39m\u001b[90m [inlined]\u001b[39m\n  [9] \u001b[0m\u001b[1minvokelatest\u001b[22m\n\u001b[90m    @\u001b[39m \u001b[90m.\\\u001b[39m\u001b[90m\u001b[4messentials.jl:889\u001b[24m\u001b[39m\u001b[90m [inlined]\u001b[39m\n [10] \u001b[0m\u001b[1mmaybe_cachefile_lock\u001b[22m\u001b[0m\u001b[1m(\u001b[22m\u001b[90mf\u001b[39m::\u001b[0mBase.var\"#968#969\"\u001b[90m{Base.PkgId}\u001b[39m, \u001b[90mpkg\u001b[39m::\u001b[0mBase.PkgId, \u001b[90msrcpath\u001b[39m::\u001b[0mString; \u001b[90mstale_age\u001b[39m::\u001b[0mInt64\u001b[0m\u001b[1m)\u001b[22m\n\u001b[90m    @\u001b[39m \u001b[90mBase\u001b[39m \u001b[90m.\\\u001b[39m\u001b[90m\u001b[4mloading.jl:2983\u001b[24m\u001b[39m\n [11] \u001b[0m\u001b[1mmaybe_cachefile_lock\u001b[22m\n\u001b[90m    @\u001b[39m \u001b[90m.\\\u001b[39m\u001b[90m\u001b[4mloading.jl:2980\u001b[24m\u001b[39m\u001b[90m [inlined]\u001b[39m\n [12] \u001b[0m\u001b[1m_require\u001b[22m\u001b[0m\u001b[1m(\u001b[22m\u001b[90mpkg\u001b[39m::\u001b[0mBase.PkgId, \u001b[90menv\u001b[39m::\u001b[0mString\u001b[0m\u001b[1m)\u001b[22m\n\u001b[90m    @\u001b[39m \u001b[90mBase\u001b[39m \u001b[90m.\\\u001b[39m\u001b[90m\u001b[4mloading.jl:1970\u001b[24m\u001b[39m\n [13] \u001b[0m\u001b[1m__require_prelocked\u001b[22m\u001b[0m\u001b[1m(\u001b[22m\u001b[90muuidkey\u001b[39m::\u001b[0mBase.PkgId, \u001b[90menv\u001b[39m::\u001b[0mString\u001b[0m\u001b[1m)\u001b[22m\n\u001b[90m    @\u001b[39m \u001b[90mBase\u001b[39m \u001b[90m.\\\u001b[39m\u001b[90m\u001b[4mloading.jl:1812\u001b[24m\u001b[39m\n [14] \u001b[0m\u001b[1m#invoke_in_world#3\u001b[22m\n\u001b[90m    @\u001b[39m \u001b[90m.\\\u001b[39m\u001b[90m\u001b[4messentials.jl:926\u001b[24m\u001b[39m\u001b[90m [inlined]\u001b[39m\n [15] \u001b[0m\u001b[1minvoke_in_world\u001b[22m\n\u001b[90m    @\u001b[39m \u001b[90m.\\\u001b[39m\u001b[90m\u001b[4messentials.jl:923\u001b[24m\u001b[39m\u001b[90m [inlined]\u001b[39m\n [16] \u001b[0m\u001b[1m_require_prelocked\u001b[22m\u001b[0m\u001b[1m(\u001b[22m\u001b[90muuidkey\u001b[39m::\u001b[0mBase.PkgId, \u001b[90menv\u001b[39m::\u001b[0mString\u001b[0m\u001b[1m)\u001b[22m\n\u001b[90m    @\u001b[39m \u001b[90mBase\u001b[39m \u001b[90m.\\\u001b[39m\u001b[90m\u001b[4mloading.jl:1803\u001b[24m\u001b[39m\n [17] \u001b[0m\u001b[1mmacro expansion\u001b[22m\n\u001b[90m    @\u001b[39m \u001b[90m.\\\u001b[39m\u001b[90m\u001b[4mloading.jl:1790\u001b[24m\u001b[39m\u001b[90m [inlined]\u001b[39m\n [18] \u001b[0m\u001b[1mmacro expansion\u001b[22m\n\u001b[90m    @\u001b[39m \u001b[90m.\\\u001b[39m\u001b[90m\u001b[4mlock.jl:267\u001b[24m\u001b[39m\u001b[90m [inlined]\u001b[39m\n [19] \u001b[0m\u001b[1m__require\u001b[22m\u001b[0m\u001b[1m(\u001b[22m\u001b[90minto\u001b[39m::\u001b[0mModule, \u001b[90mmod\u001b[39m::\u001b[0mSymbol\u001b[0m\u001b[1m)\u001b[22m\n\u001b[90m    @\u001b[39m \u001b[90mBase\u001b[39m \u001b[90m.\\\u001b[39m\u001b[90m\u001b[4mloading.jl:1753\u001b[24m\u001b[39m\n [20] \u001b[0m\u001b[1m#invoke_in_world#3\u001b[22m\n\u001b[90m    @\u001b[39m \u001b[90m.\\\u001b[39m\u001b[90m\u001b[4messentials.jl:926\u001b[24m\u001b[39m\u001b[90m [inlined]\u001b[39m\n [21] \u001b[0m\u001b[1minvoke_in_world\u001b[22m\n\u001b[90m    @\u001b[39m \u001b[90m.\\\u001b[39m\u001b[90m\u001b[4messentials.jl:923\u001b[24m\u001b[39m\u001b[90m [inlined]\u001b[39m\n [22] \u001b[0m\u001b[1mrequire\u001b[22m\u001b[0m\u001b[1m(\u001b[22m\u001b[90minto\u001b[39m::\u001b[0mModule, \u001b[90mmod\u001b[39m::\u001b[0mSymbol\u001b[0m\u001b[1m)\u001b[22m\n\u001b[90m    @\u001b[39m \u001b[90mBase\u001b[39m \u001b[90m.\\\u001b[39m\u001b[90m\u001b[4mloading.jl:1746\u001b[24m\u001b[39m\n [23] \u001b[0m\u001b[1minclude\u001b[22m\n\u001b[90m    @\u001b[39m \u001b[90m.\\\u001b[39m\u001b[90m\u001b[4mBase.jl:495\u001b[24m\u001b[39m\u001b[90m [inlined]\u001b[39m\n [24] \u001b[0m\u001b[1minclude_package_for_output\u001b[22m\u001b[0m\u001b[1m(\u001b[22m\u001b[90mpkg\u001b[39m::\u001b[0mBase.PkgId, \u001b[90minput\u001b[39m::\u001b[0mString, \u001b[90mdepot_path\u001b[39m::\u001b[0mVector\u001b[90m{String}\u001b[39m, \u001b[90mdl_load_path\u001b[39m::\u001b[0mVector\u001b[90m{String}\u001b[39m, \u001b[90mload_path\u001b[39m::\u001b[0mVector\u001b[90m{String}\u001b[39m, \u001b[90mconcrete_deps\u001b[39m::\u001b[0mVector\u001b[90m{Pair{Base.PkgId, UInt128}}\u001b[39m, \u001b[90msource\u001b[39m::\u001b[0mString\u001b[0m\u001b[1m)\u001b[22m\n\u001b[90m    @\u001b[39m \u001b[90mBase\u001b[39m \u001b[90m.\\\u001b[39m\u001b[90m\u001b[4mloading.jl:2222\u001b[24m\u001b[39m\n [25] top-level scope\n\u001b[90m    @\u001b[39m \u001b[90m\u001b[4mstdin:3\u001b[24m\u001b[39m\nin expression starting at C:\\Users\\Korisnik\\.julia\\packages\\StatsFuns\\P7Mci\\src\\StatsFuns.jl:3\nin expression starting at stdin:3\n\u001b[91m\u001b[1mERROR: \u001b[22m\u001b[39mLoadError: Failed to precompile StatsFuns [4c63d2b9-4356-54db-8cca-17b64c39e42c] to \"C:\\\\Users\\\\Korisnik\\\\.julia\\\\compiled\\\\v1.10\\\\StatsFuns\\\\jl_F491.tmp\".\nStacktrace:\n  [1] \u001b[0m\u001b[1merror\u001b[22m\u001b[0m\u001b[1m(\u001b[22m\u001b[90ms\u001b[39m::\u001b[0mString\u001b[0m\u001b[1m)\u001b[22m\n\u001b[90m    @\u001b[39m \u001b[90mBase\u001b[39m \u001b[90m.\\\u001b[39m\u001b[90m\u001b[4merror.jl:35\u001b[24m\u001b[39m\n  [2] \u001b[0m\u001b[1mcompilecache\u001b[22m\u001b[0m\u001b[1m(\u001b[22m\u001b[90mpkg\u001b[39m::\u001b[0mBase.PkgId, \u001b[90mpath\u001b[39m::\u001b[0mString, \u001b[90minternal_stderr\u001b[39m::\u001b[0mIO, \u001b[90minternal_stdout\u001b[39m::\u001b[0mIO, \u001b[90mkeep_loaded_modules\u001b[39m::\u001b[0mBool\u001b[0m\u001b[1m)\u001b[22m\n\u001b[90m    @\u001b[39m \u001b[90mBase\u001b[39m \u001b[90m.\\\u001b[39m\u001b[90m\u001b[4mloading.jl:2468\u001b[24m\u001b[39m\n  [3] \u001b[0m\u001b[1mcompilecache\u001b[22m\n\u001b[90m    @\u001b[39m \u001b[90m.\\\u001b[39m\u001b[90m\u001b[4mloading.jl:2340\u001b[24m\u001b[39m\u001b[90m [inlined]\u001b[39m\n  [4] \u001b[0m\u001b[1m(::Base.var\"#968#969\"{Base.PkgId})\u001b[22m\u001b[0m\u001b[1m(\u001b[22m\u001b[0m\u001b[1m)\u001b[22m\n\u001b[90m    @\u001b[39m \u001b[90mBase\u001b[39m \u001b[90m.\\\u001b[39m\u001b[90m\u001b[4mloading.jl:1974\u001b[24m\u001b[39m\n  [5] \u001b[0m\u001b[1mmkpidlock\u001b[22m\u001b[0m\u001b[1m(\u001b[22m\u001b[90mf\u001b[39m::\u001b[0mBase.var\"#968#969\"\u001b[90m{Base.PkgId}\u001b[39m, \u001b[90mat\u001b[39m::\u001b[0mString, \u001b[90mpid\u001b[39m::\u001b[0mInt32; \u001b[90mkwopts\u001b[39m::\u001b[0m@Kwargs\u001b[90m{stale_age::Int64, wait::Bool}\u001b[39m\u001b[0m\u001b[1m)\u001b[22m\n\u001b[90m    @\u001b[39m \u001b[35mFileWatching.Pidfile\u001b[39m \u001b[90mC:\\Users\\Korisnik\\.julia\\juliaup\\julia-1.10.5+0.x64.w64.mingw32\\share\\julia\\stdlib\\v1.10\\FileWatching\\src\\\u001b[39m\u001b[90m\u001b[4mpidfile.jl:93\u001b[24m\u001b[39m\n  [6] \u001b[0m\u001b[1m#mkpidlock#6\u001b[22m\n\u001b[90m    @\u001b[39m \u001b[90mC:\\Users\\Korisnik\\.julia\\juliaup\\julia-1.10.5+0.x64.w64.mingw32\\share\\julia\\stdlib\\v1.10\\FileWatching\\src\\\u001b[39m\u001b[90m\u001b[4mpidfile.jl:88\u001b[24m\u001b[39m\u001b[90m [inlined]\u001b[39m\n  [7] \u001b[0m\u001b[1mtrymkpidlock\u001b[22m\u001b[0m\u001b[1m(\u001b[22m::\u001b[0mFunction, ::\u001b[0mVararg\u001b[90m{Any}\u001b[39m; \u001b[90mkwargs\u001b[39m::\u001b[0m@Kwargs\u001b[90m{stale_age::Int64}\u001b[39m\u001b[0m\u001b[1m)\u001b[22m\n\u001b[90m    @\u001b[39m \u001b[35mFileWatching.Pidfile\u001b[39m \u001b[90mC:\\Users\\Korisnik\\.julia\\juliaup\\julia-1.10.5+0.x64.w64.mingw32\\share\\julia\\stdlib\\v1.10\\FileWatching\\src\\\u001b[39m\u001b[90m\u001b[4mpidfile.jl:111\u001b[24m\u001b[39m\n  [8] \u001b[0m\u001b[1m#invokelatest#2\u001b[22m\n\u001b[90m    @\u001b[39m \u001b[90m.\\\u001b[39m\u001b[90m\u001b[4messentials.jl:894\u001b[24m\u001b[39m\u001b[90m [inlined]\u001b[39m\n  [9] \u001b[0m\u001b[1minvokelatest\u001b[22m\n\u001b[90m    @\u001b[39m \u001b[90m.\\\u001b[39m\u001b[90m\u001b[4messentials.jl:889\u001b[24m\u001b[39m\u001b[90m [inlined]\u001b[39m\n [10] \u001b[0m\u001b[1mmaybe_cachefile_lock\u001b[22m\u001b[0m\u001b[1m(\u001b[22m\u001b[90mf\u001b[39m::\u001b[0mBase.var\"#968#969\"\u001b[90m{Base.PkgId}\u001b[39m, \u001b[90mpkg\u001b[39m::\u001b[0mBase.PkgId, \u001b[90msrcpath\u001b[39m::\u001b[0mString; \u001b[90mstale_age\u001b[39m::\u001b[0mInt64\u001b[0m\u001b[1m)\u001b[22m\n\u001b[90m    @\u001b[39m \u001b[90mBase\u001b[39m \u001b[90m.\\\u001b[39m\u001b[90m\u001b[4mloading.jl:2983\u001b[24m\u001b[39m\n [11] \u001b[0m\u001b[1mmaybe_cachefile_lock\u001b[22m\n\u001b[90m    @\u001b[39m \u001b[90m.\\\u001b[39m\u001b[90m\u001b[4mloading.jl:2980\u001b[24m\u001b[39m\u001b[90m [inlined]\u001b[39m\n [12] \u001b[0m\u001b[1m_require\u001b[22m\u001b[0m\u001b[1m(\u001b[22m\u001b[90mpkg\u001b[39m::\u001b[0mBase.PkgId, \u001b[90menv\u001b[39m::\u001b[0mString\u001b[0m\u001b[1m)\u001b[22m\n\u001b[90m    @\u001b[39m \u001b[90mBase\u001b[39m \u001b[90m.\\\u001b[39m\u001b[90m\u001b[4mloading.jl:1970\u001b[24m\u001b[39m\n [13] \u001b[0m\u001b[1m__require_prelocked\u001b[22m\u001b[0m\u001b[1m(\u001b[22m\u001b[90muuidkey\u001b[39m::\u001b[0mBase.PkgId, \u001b[90menv\u001b[39m::\u001b[0mString\u001b[0m\u001b[1m)\u001b[22m\n\u001b[90m    @\u001b[39m \u001b[90mBase\u001b[39m \u001b[90m.\\\u001b[39m\u001b[90m\u001b[4mloading.jl:1812\u001b[24m\u001b[39m\n [14] \u001b[0m\u001b[1m#invoke_in_world#3\u001b[22m\n\u001b[90m    @\u001b[39m \u001b[90m.\\\u001b[39m\u001b[90m\u001b[4messentials.jl:926\u001b[24m\u001b[39m\u001b[90m [inlined]\u001b[39m\n [15] \u001b[0m\u001b[1minvoke_in_world\u001b[22m\n\u001b[90m    @\u001b[39m \u001b[90m.\\\u001b[39m\u001b[90m\u001b[4messentials.jl:923\u001b[24m\u001b[39m\u001b[90m [inlined]\u001b[39m\n [16] \u001b[0m\u001b[1m_require_prelocked\u001b[22m\u001b[0m\u001b[1m(\u001b[22m\u001b[90muuidkey\u001b[39m::\u001b[0mBase.PkgId, \u001b[90menv\u001b[39m::\u001b[0mString\u001b[0m\u001b[1m)\u001b[22m\n\u001b[90m    @\u001b[39m \u001b[90mBase\u001b[39m \u001b[90m.\\\u001b[39m\u001b[90m\u001b[4mloading.jl:1803\u001b[24m\u001b[39m\n [17] \u001b[0m\u001b[1mmacro expansion\u001b[22m\n\u001b[90m    @\u001b[39m \u001b[90m.\\\u001b[39m\u001b[90m\u001b[4mloading.jl:1790\u001b[24m\u001b[39m\u001b[90m [inlined]\u001b[39m\n [18] \u001b[0m\u001b[1mmacro expansion\u001b[22m\n\u001b[90m    @\u001b[39m \u001b[90m.\\\u001b[39m\u001b[90m\u001b[4mlock.jl:267\u001b[24m\u001b[39m\u001b[90m [inlined]\u001b[39m\n [19] \u001b[0m\u001b[1m__require\u001b[22m\u001b[0m\u001b[1m(\u001b[22m\u001b[90minto\u001b[39m::\u001b[0mModule, \u001b[90mmod\u001b[39m::\u001b[0mSymbol\u001b[0m\u001b[1m)\u001b[22m\n\u001b[90m    @\u001b[39m \u001b[90mBase\u001b[39m \u001b[90m.\\\u001b[39m\u001b[90m\u001b[4mloading.jl:1753\u001b[24m\u001b[39m\n [20] \u001b[0m\u001b[1m#invoke_in_world#3\u001b[22m\n\u001b[90m    @\u001b[39m \u001b[90m.\\\u001b[39m\u001b[90m\u001b[4messentials.jl:926\u001b[24m\u001b[39m\u001b[90m [inlined]\u001b[39m\n [21] \u001b[0m\u001b[1minvoke_in_world\u001b[22m\n\u001b[90m    @\u001b[39m \u001b[90m.\\\u001b[39m\u001b[90m\u001b[4messentials.jl:923\u001b[24m\u001b[39m\u001b[90m [inlined]\u001b[39m\n [22] \u001b[0m\u001b[1mrequire\u001b[22m\u001b[0m\u001b[1m(\u001b[22m\u001b[90minto\u001b[39m::\u001b[0mModule, \u001b[90mmod\u001b[39m::\u001b[0mSymbol\u001b[0m\u001b[1m)\u001b[22m\n\u001b[90m    @\u001b[39m \u001b[90mBase\u001b[39m \u001b[90m.\\\u001b[39m\u001b[90m\u001b[4mloading.jl:1746\u001b[24m\u001b[39m\n [23] \u001b[0m\u001b[1minclude\u001b[22m\n\u001b[90m    @\u001b[39m \u001b[90m.\\\u001b[39m\u001b[90m\u001b[4mBase.jl:495\u001b[24m\u001b[39m\u001b[90m [inlined]\u001b[39m\n [24] \u001b[0m\u001b[1minclude_package_for_output\u001b[22m\u001b[0m\u001b[1m(\u001b[22m\u001b[90mpkg\u001b[39m::\u001b[0mBase.PkgId, \u001b[90minput\u001b[39m::\u001b[0mString, \u001b[90mdepot_path\u001b[39m::\u001b[0mVector\u001b[90m{String}\u001b[39m, \u001b[90mdl_load_path\u001b[39m::\u001b[0mVector\u001b[90m{String}\u001b[39m, \u001b[90mload_path\u001b[39m::\u001b[0mVector\u001b[90m{String}\u001b[39m, \u001b[90mconcrete_deps\u001b[39m::\u001b[0mVector\u001b[90m{Pair{Base.PkgId, UInt128}}\u001b[39m, \u001b[90msource\u001b[39m::\u001b[0mString\u001b[0m\u001b[1m)\u001b[22m\n\u001b[90m    @\u001b[39m \u001b[90mBase\u001b[39m \u001b[90m.\\\u001b[39m\u001b[90m\u001b[4mloading.jl:2222\u001b[24m\u001b[39m\n [25] top-level scope\n\u001b[90m    @\u001b[39m \u001b[90m\u001b[4mstdin:3\u001b[24m\u001b[39m\nin expression starting at C:\\Users\\Korisnik\\.julia\\packages\\Distributions\\HjzA0\\src\\Distributions.jl:1\nin expression starting at stdin:3\n\u001b[91m\u001b[1mERROR: \u001b[22m\u001b[39mLoadError: Failed to precompile Distributions [31c24e10-a181-5473-b8eb-7969acd0382f] to \"C:\\\\Users\\\\Korisnik\\\\.julia\\\\compiled\\\\v1.10\\\\Distributions\\\\jl_ECD1.tmp\".\nStacktrace:\n  [1] \u001b[0m\u001b[1merror\u001b[22m\u001b[0m\u001b[1m(\u001b[22m\u001b[90ms\u001b[39m::\u001b[0mString\u001b[0m\u001b[1m)\u001b[22m\n\u001b[90m    @\u001b[39m \u001b[90mBase\u001b[39m \u001b[90m.\\\u001b[39m\u001b[90m\u001b[4merror.jl:35\u001b[24m\u001b[39m\n  [2] \u001b[0m\u001b[1mcompilecache\u001b[22m\u001b[0m\u001b[1m(\u001b[22m\u001b[90mpkg\u001b[39m::\u001b[0mBase.PkgId, \u001b[90mpath\u001b[39m::\u001b[0mString, \u001b[90minternal_stderr\u001b[39m::\u001b[0mIO, \u001b[90minternal_stdout\u001b[39m::\u001b[0mIO, \u001b[90mkeep_loaded_modules\u001b[39m::\u001b[0mBool\u001b[0m\u001b[1m)\u001b[22m\n\u001b[90m    @\u001b[39m \u001b[90mBase\u001b[39m \u001b[90m.\\\u001b[39m\u001b[90m\u001b[4mloading.jl:2468\u001b[24m\u001b[39m\n  [3] \u001b[0m\u001b[1mcompilecache\u001b[22m\n\u001b[90m    @\u001b[39m \u001b[90m.\\\u001b[39m\u001b[90m\u001b[4mloading.jl:2340\u001b[24m\u001b[39m\u001b[90m [inlined]\u001b[39m\n  [4] \u001b[0m\u001b[1m(::Base.var\"#968#969\"{Base.PkgId})\u001b[22m\u001b[0m\u001b[1m(\u001b[22m\u001b[0m\u001b[1m)\u001b[22m\n\u001b[90m    @\u001b[39m \u001b[90mBase\u001b[39m \u001b[90m.\\\u001b[39m\u001b[90m\u001b[4mloading.jl:1974\u001b[24m\u001b[39m\n  [5] \u001b[0m\u001b[1mmkpidlock\u001b[22m\u001b[0m\u001b[1m(\u001b[22m\u001b[90mf\u001b[39m::\u001b[0mBase.var\"#968#969\"\u001b[90m{Base.PkgId}\u001b[39m, \u001b[90mat\u001b[39m::\u001b[0mString, \u001b[90mpid\u001b[39m::\u001b[0mInt32; \u001b[90mkwopts\u001b[39m::\u001b[0m@Kwargs\u001b[90m{stale_age::Int64, wait::Bool}\u001b[39m\u001b[0m\u001b[1m)\u001b[22m\n\u001b[90m    @\u001b[39m \u001b[35mFileWatching.Pidfile\u001b[39m \u001b[90mC:\\Users\\Korisnik\\.julia\\juliaup\\julia-1.10.5+0.x64.w64.mingw32\\share\\julia\\stdlib\\v1.10\\FileWatching\\src\\\u001b[39m\u001b[90m\u001b[4mpidfile.jl:93\u001b[24m\u001b[39m\n  [6] \u001b[0m\u001b[1m#mkpidlock#6\u001b[22m\n\u001b[90m    @\u001b[39m \u001b[90mC:\\Users\\Korisnik\\.julia\\juliaup\\julia-1.10.5+0.x64.w64.mingw32\\share\\julia\\stdlib\\v1.10\\FileWatching\\src\\\u001b[39m\u001b[90m\u001b[4mpidfile.jl:88\u001b[24m\u001b[39m\u001b[90m [inlined]\u001b[39m\n  [7] \u001b[0m\u001b[1mtrymkpidlock\u001b[22m\u001b[0m\u001b[1m(\u001b[22m::\u001b[0mFunction, ::\u001b[0mVararg\u001b[90m{Any}\u001b[39m; \u001b[90mkwargs\u001b[39m::\u001b[0m@Kwargs\u001b[90m{stale_age::Int64}\u001b[39m\u001b[0m\u001b[1m)\u001b[22m\n\u001b[90m    @\u001b[39m \u001b[35mFileWatching.Pidfile\u001b[39m \u001b[90mC:\\Users\\Korisnik\\.julia\\juliaup\\julia-1.10.5+0.x64.w64.mingw32\\share\\julia\\stdlib\\v1.10\\FileWatching\\src\\\u001b[39m\u001b[90m\u001b[4mpidfile.jl:111\u001b[24m\u001b[39m\n  [8] \u001b[0m\u001b[1m#invokelatest#2\u001b[22m\n\u001b[90m    @\u001b[39m \u001b[90m.\\\u001b[39m\u001b[90m\u001b[4messentials.jl:894\u001b[24m\u001b[39m\u001b[90m [inlined]\u001b[39m\n  [9] \u001b[0m\u001b[1minvokelatest\u001b[22m\n\u001b[90m    @\u001b[39m \u001b[90m.\\\u001b[39m\u001b[90m\u001b[4messentials.jl:889\u001b[24m\u001b[39m\u001b[90m [inlined]\u001b[39m\n [10] \u001b[0m\u001b[1mmaybe_cachefile_lock\u001b[22m\u001b[0m\u001b[1m(\u001b[22m\u001b[90mf\u001b[39m::\u001b[0mBase.var\"#968#969\"\u001b[90m{Base.PkgId}\u001b[39m, \u001b[90mpkg\u001b[39m::\u001b[0mBase.PkgId, \u001b[90msrcpath\u001b[39m::\u001b[0mString; \u001b[90mstale_age\u001b[39m::\u001b[0mInt64\u001b[0m\u001b[1m)\u001b[22m\n\u001b[90m    @\u001b[39m \u001b[90mBase\u001b[39m \u001b[90m.\\\u001b[39m\u001b[90m\u001b[4mloading.jl:2983\u001b[24m\u001b[39m\n [11] \u001b[0m\u001b[1mmaybe_cachefile_lock\u001b[22m\n\u001b[90m    @\u001b[39m \u001b[90m.\\\u001b[39m\u001b[90m\u001b[4mloading.jl:2980\u001b[24m\u001b[39m\u001b[90m [inlined]\u001b[39m\n [12] \u001b[0m\u001b[1m_require\u001b[22m\u001b[0m\u001b[1m(\u001b[22m\u001b[90mpkg\u001b[39m::\u001b[0mBase.PkgId, \u001b[90menv\u001b[39m::\u001b[0mString\u001b[0m\u001b[1m)\u001b[22m\n\u001b[90m    @\u001b[39m \u001b[90mBase\u001b[39m \u001b[90m.\\\u001b[39m\u001b[90m\u001b[4mloading.jl:1970\u001b[24m\u001b[39m\n [13] \u001b[0m\u001b[1m__require_prelocked\u001b[22m\u001b[0m\u001b[1m(\u001b[22m\u001b[90muuidkey\u001b[39m::\u001b[0mBase.PkgId, \u001b[90menv\u001b[39m::\u001b[0mString\u001b[0m\u001b[1m)\u001b[22m\n\u001b[90m    @\u001b[39m \u001b[90mBase\u001b[39m \u001b[90m.\\\u001b[39m\u001b[90m\u001b[4mloading.jl:1812\u001b[24m\u001b[39m\n [14] \u001b[0m\u001b[1m#invoke_in_world#3\u001b[22m\n\u001b[90m    @\u001b[39m \u001b[90m.\\\u001b[39m\u001b[90m\u001b[4messentials.jl:926\u001b[24m\u001b[39m\u001b[90m [inlined]\u001b[39m\n [15] \u001b[0m\u001b[1minvoke_in_world\u001b[22m\n\u001b[90m    @\u001b[39m \u001b[90m.\\\u001b[39m\u001b[90m\u001b[4messentials.jl:923\u001b[24m\u001b[39m\u001b[90m [inlined]\u001b[39m\n [16] \u001b[0m\u001b[1m_require_prelocked\u001b[22m\u001b[0m\u001b[1m(\u001b[22m\u001b[90muuidkey\u001b[39m::\u001b[0mBase.PkgId, \u001b[90menv\u001b[39m::\u001b[0mString\u001b[0m\u001b[1m)\u001b[22m\n\u001b[90m    @\u001b[39m \u001b[90mBase\u001b[39m \u001b[90m.\\\u001b[39m\u001b[90m\u001b[4mloading.jl:1803\u001b[24m\u001b[39m\n [17] \u001b[0m\u001b[1mmacro expansion\u001b[22m\n\u001b[90m    @\u001b[39m \u001b[90m.\\\u001b[39m\u001b[90m\u001b[4mloading.jl:1790\u001b[24m\u001b[39m\u001b[90m [inlined]\u001b[39m\n [18] \u001b[0m\u001b[1mmacro expansion\u001b[22m\n\u001b[90m    @\u001b[39m \u001b[90m.\\\u001b[39m\u001b[90m\u001b[4mlock.jl:267\u001b[24m\u001b[39m\u001b[90m [inlined]\u001b[39m\n [19] \u001b[0m\u001b[1m__require\u001b[22m\u001b[0m\u001b[1m(\u001b[22m\u001b[90minto\u001b[39m::\u001b[0mModule, \u001b[90mmod\u001b[39m::\u001b[0mSymbol\u001b[0m\u001b[1m)\u001b[22m\n\u001b[90m    @\u001b[39m \u001b[90mBase\u001b[39m \u001b[90m.\\\u001b[39m\u001b[90m\u001b[4mloading.jl:1753\u001b[24m\u001b[39m\n [20] \u001b[0m\u001b[1m#invoke_in_world#3\u001b[22m\n\u001b[90m    @\u001b[39m \u001b[90m.\\\u001b[39m\u001b[90m\u001b[4messentials.jl:926\u001b[24m\u001b[39m\u001b[90m [inlined]\u001b[39m\n [21] \u001b[0m\u001b[1minvoke_in_world\u001b[22m\n\u001b[90m    @\u001b[39m \u001b[90m.\\\u001b[39m\u001b[90m\u001b[4messentials.jl:923\u001b[24m\u001b[39m\u001b[90m [inlined]\u001b[39m\n [22] \u001b[0m\u001b[1mrequire\u001b[22m\u001b[0m\u001b[1m(\u001b[22m\u001b[90minto\u001b[39m::\u001b[0mModule, \u001b[90mmod\u001b[39m::\u001b[0mSymbol\u001b[0m\u001b[1m)\u001b[22m\n\u001b[90m    @\u001b[39m \u001b[90mBase\u001b[39m \u001b[90m.\\\u001b[39m\u001b[90m\u001b[4mloading.jl:1746\u001b[24m\u001b[39m\n [23] \u001b[0m\u001b[1minclude\u001b[22m\n\u001b[90m    @\u001b[39m \u001b[90m.\\\u001b[39m\u001b[90m\u001b[4mBase.jl:495\u001b[24m\u001b[39m\u001b[90m [inlined]\u001b[39m\n [24] \u001b[0m\u001b[1minclude_package_for_output\u001b[22m\u001b[0m\u001b[1m(\u001b[22m\u001b[90mpkg\u001b[39m::\u001b[0mBase.PkgId, \u001b[90minput\u001b[39m::\u001b[0mString, \u001b[90mdepot_path\u001b[39m::\u001b[0mVector\u001b[90m{String}\u001b[39m, \u001b[90mdl_load_path\u001b[39m::\u001b[0mVector\u001b[90m{String}\u001b[39m, \u001b[90mload_path\u001b[39m::\u001b[0mVector\u001b[90m{String}\u001b[39m, \u001b[90mconcrete_deps\u001b[39m::\u001b[0mVector\u001b[90m{Pair{Base.PkgId, UInt128}}\u001b[39m, \u001b[90msource\u001b[39m::\u001b[0mNothing\u001b[0m\u001b[1m)\u001b[22m\n\u001b[90m    @\u001b[39m \u001b[90mBase\u001b[39m \u001b[90m.\\\u001b[39m\u001b[90m\u001b[4mloading.jl:2222\u001b[24m\u001b[39m\n [25] top-level scope\n\u001b[90m    @\u001b[39m \u001b[90m\u001b[4mstdin:3\u001b[24m\u001b[39m\nin expression starting at C:\\Users\\Korisnik\\.julia\\packages\\StatsPlots\\CpWiU\\src\\StatsPlots.jl:1\nin expression starting at stdin:3",
      "",
      "Stacktrace:",
      "  [1] pkgerror(msg::String)",
      "    @ Pkg.Types C:\\Users\\Korisnik\\.julia\\juliaup\\julia-1.10.5+0.x64.w64.mingw32\\share\\julia\\stdlib\\v1.10\\Pkg\\src\\Types.jl:70",
      "  [2] precompile(ctx::Pkg.Types.Context, pkgs::Vector{Pkg.Types.PackageSpec}; internal_call::Bool, strict::Bool, warn_loaded::Bool, already_instantiated::Bool, timing::Bool, _from_loading::Bool, kwargs::@Kwargs{io::IJulia.IJuliaStdio{Base.PipeEndpoint}})",
      "    @ Pkg.API C:\\Users\\Korisnik\\.julia\\juliaup\\julia-1.10.5+0.x64.w64.mingw32\\share\\julia\\stdlib\\v1.10\\Pkg\\src\\API.jl:1700",
      "  [3] precompile(pkgs::Vector{Pkg.Types.PackageSpec}; io::IJulia.IJuliaStdio{Base.PipeEndpoint}, kwargs::@Kwargs{_from_loading::Bool})",
      "    @ Pkg.API C:\\Users\\Korisnik\\.julia\\juliaup\\julia-1.10.5+0.x64.w64.mingw32\\share\\julia\\stdlib\\v1.10\\Pkg\\src\\API.jl:159",
      "  [4] precompile",
      "    @ C:\\Users\\Korisnik\\.julia\\juliaup\\julia-1.10.5+0.x64.w64.mingw32\\share\\julia\\stdlib\\v1.10\\Pkg\\src\\API.jl:147 [inlined]",
      "  [5] #precompile#114",
      "    @ C:\\Users\\Korisnik\\.julia\\juliaup\\julia-1.10.5+0.x64.w64.mingw32\\share\\julia\\stdlib\\v1.10\\Pkg\\src\\API.jl:146 [inlined]",
      "  [6] #invokelatest#2",
      "    @ .\\essentials.jl:894 [inlined]",
      "  [7] invokelatest",
      "    @ .\\essentials.jl:889 [inlined]",
      "  [8] _require(pkg::Base.PkgId, env::String)",
      "    @ Base .\\loading.jl:1963",
      "  [9] __require_prelocked(uuidkey::Base.PkgId, env::String)",
      "    @ Base .\\loading.jl:1812",
      " [10] #invoke_in_world#3",
      "    @ .\\essentials.jl:926 [inlined]",
      " [11] invoke_in_world",
      "    @ .\\essentials.jl:923 [inlined]",
      " [12] _require_prelocked(uuidkey::Base.PkgId, env::String)",
      "    @ Base .\\loading.jl:1803",
      " [13] macro expansion",
      "    @ .\\loading.jl:1790 [inlined]",
      " [14] macro expansion",
      "    @ .\\lock.jl:267 [inlined]",
      " [15] __require(into::Module, mod::Symbol)",
      "    @ Base .\\loading.jl:1753",
      " [16] #invoke_in_world#3",
      "    @ .\\essentials.jl:926 [inlined]",
      " [17] invoke_in_world",
      "    @ .\\essentials.jl:923 [inlined]",
      " [18] require(into::Module, mod::Symbol)",
      "    @ Base .\\loading.jl:1746"
     ]
    }
   ],
   "source": [
    "using MarketData, Statistics, Plots, Dates, DataFrames, StatsBase, StatsPlots, Images, PrettyTables, Flux, Distributions, CSV, LinearAlgebra,BSON, Optim, GARCH, ARCHModels, Flux, GR, GLM"
   ]
  },
  {
   "cell_type": "code",
   "execution_count": 20,
   "metadata": {},
   "outputs": [
    {
     "name": "stderr",
     "output_type": "stream",
     "text": [
      "\u001b[32m\u001b[1m   Resolving\u001b[22m\u001b[39m package versions...\n",
      "\u001b[32m\u001b[1m  No Changes\u001b[22m\u001b[39m to `C:\\Users\\Korisnik\\Documents\\GitHub\\Project-1\\Project.toml`\n",
      "\u001b[32m\u001b[1m  No Changes\u001b[22m\u001b[39m to `C:\\Users\\Korisnik\\Documents\\GitHub\\Project-1\\Manifest.toml`\n",
      "\u001b[32m\u001b[1mPrecompiling\u001b[22m\u001b[39m project...\n",
      "\u001b[91m  ✗ \u001b[39m\u001b[90mZipFile\u001b[39m\n",
      "\u001b[91m  ✗ \u001b[39m\u001b[90mDualNumbers\u001b[39m\n",
      "\u001b[91m  ✗ \u001b[39m\u001b[90mForwardDiff\u001b[39m\n",
      "\u001b[91m  ✗ \u001b[39m\u001b[90mPNGFiles\u001b[39m\n",
      "\u001b[91m  ✗ \u001b[39m\u001b[90mColorVectorSpace\u001b[39m\n",
      "\u001b[33m\u001b[1m┌ \u001b[22m\u001b[39m\u001b[33m\u001b[1mWarning: \u001b[22m\u001b[39mattempting to remove probably stale pidfile\n",
      "\u001b[33m\u001b[1m│ \u001b[22m\u001b[39m  path = \"C:\\\\Users\\\\Korisnik\\\\.julia\\\\compiled\\\\v1.10\\\\MathOptInterface\\\\tyub8_tSR20.ji.pidfile\"\n",
      "\u001b[33m\u001b[1m└ \u001b[22m\u001b[39m\u001b[90m@ FileWatching.Pidfile C:\\Users\\Korisnik\\.julia\\juliaup\\julia-1.10.5+0.x64.w64.mingw32\\share\\julia\\stdlib\\v1.10\\FileWatching\\src\\pidfile.jl:244\u001b[39m\n",
      "\u001b[91m  ✗ \u001b[39m\u001b[90mStatsModels\u001b[39m\n",
      "\u001b[91m  ✗ \u001b[39m\u001b[90mQuaternions\u001b[39m\n",
      "\u001b[91m  ✗ \u001b[39mFlux\n",
      "\u001b[91m  ✗ \u001b[39m\u001b[90mNLSolversBase\u001b[39m\n",
      "\u001b[91m  ✗ \u001b[39m\u001b[90mRoots → RootsForwardDiffExt\u001b[39m\n",
      "\u001b[91m  ✗ \u001b[39m\u001b[90mImageMorphology\u001b[39m\n",
      "\u001b[91m  ✗ \u001b[39m\u001b[90mImageMetadata\u001b[39m\n",
      "\u001b[91m  ✗ \u001b[39m\u001b[90mNetpbm\u001b[39m\n",
      "\u001b[91m  ✗ \u001b[39m\u001b[90mImageFiltering\u001b[39m\n",
      "\u001b[91m  ✗ \u001b[39m\u001b[90mMathOptInterface\u001b[39m\n",
      "\u001b[91m  ✗ \u001b[39mGLM\n",
      "\u001b[91m  ✗ \u001b[39m\u001b[90mRotations\u001b[39m\n",
      "\u001b[33m\u001b[1m┌ \u001b[22m\u001b[39m\u001b[33m\u001b[1mWarning: \u001b[22m\u001b[39mattempting to remove probably stale pidfile\n",
      "\u001b[33m\u001b[1m│ \u001b[22m\u001b[39m  path = \"C:\\\\Users\\\\Korisnik\\\\.julia\\\\compiled\\\\v1.10\\\\ImageDistances\\\\lg0Xg_tSR20.ji.pidfile\"\n",
      "\u001b[33m\u001b[1m└ \u001b[22m\u001b[39m\u001b[90m@ FileWatching.Pidfile C:\\Users\\Korisnik\\.julia\\juliaup\\julia-1.10.5+0.x64.w64.mingw32\\share\\julia\\stdlib\\v1.10\\FileWatching\\src\\pidfile.jl:244\u001b[39m\n",
      "\u001b[91m  ✗ \u001b[39m\u001b[90mLineSearches\u001b[39m\n",
      "\u001b[33m\u001b[1m┌ \u001b[22m\u001b[39m\u001b[33m\u001b[1mWarning: \u001b[22m\u001b[39mattempting to remove probably stale pidfile\n",
      "\u001b[33m\u001b[1m│ \u001b[22m\u001b[39m  path = \"C:\\\\Users\\\\Korisnik\\\\.julia\\\\compiled\\\\v1.10\\\\NLopt\\\\faRdv_tSR20.ji.pidfile\"\n",
      "\u001b[33m\u001b[1m└ \u001b[22m\u001b[39m\u001b[90m@ FileWatching.Pidfile C:\\Users\\Korisnik\\.julia\\juliaup\\julia-1.10.5+0.x64.w64.mingw32\\share\\julia\\stdlib\\v1.10\\FileWatching\\src\\pidfile.jl:244\u001b[39m\n",
      "\u001b[91m  ✗ \u001b[39m\u001b[90mHypothesisTests\u001b[39m\n",
      "\u001b[91m  ✗ \u001b[39m\u001b[90mImageDistances\u001b[39m\n",
      "\u001b[91m  ✗ \u001b[39mOptim\n",
      "\u001b[91m  ✗ \u001b[39m\u001b[90mImageTransformations\u001b[39m\n",
      "\u001b[91m  ✗ \u001b[39m\u001b[90mImageQualityIndexes\u001b[39m\n",
      "\u001b[91m  ✗ \u001b[39m\u001b[90mOptim → OptimMOIExt\u001b[39m\n",
      "\u001b[33m\u001b[1m┌ \u001b[22m\u001b[39m\u001b[33m\u001b[1mWarning: \u001b[22m\u001b[39mattempting to remove probably stale pidfile\n",
      "\u001b[33m\u001b[1m│ \u001b[22m\u001b[39m  path = \"C:\\\\Users\\\\Korisnik\\\\.julia\\\\compiled\\\\v1.10\\\\ARCHModels\\\\cpjxl_tSR20.ji.pidfile\"\n",
      "\u001b[33m\u001b[1m└ \u001b[22m\u001b[39m\u001b[90m@ FileWatching.Pidfile C:\\Users\\Korisnik\\.julia\\juliaup\\julia-1.10.5+0.x64.w64.mingw32\\share\\julia\\stdlib\\v1.10\\FileWatching\\src\\pidfile.jl:244\u001b[39m\n",
      "\u001b[91m  ✗ \u001b[39m\u001b[90mImageContrastAdjustment\u001b[39m\n",
      "\u001b[91m  ✗ \u001b[39mARCHModels\n",
      "\u001b[91m  ✗ \u001b[39m\u001b[90mNLopt\u001b[39m\n",
      "\u001b[91m  ✗ \u001b[39mImages\n",
      "\u001b[91m  ✗ \u001b[39mGARCH\n",
      "  0 dependencies successfully precompiled in 373 seconds. 226 already precompiled. 6 skipped during auto due to previous errors.\n",
      "  \u001b[91m29\u001b[39m dependencies errored.\n",
      "  For a report of the errors see `julia> err`. To retry use `pkg> precompile`\n"
     ]
    }
   ],
   "source": [
    "#Pkg.add(\"DataFrames\")"
   ]
  },
  {
   "cell_type": "markdown",
   "metadata": {},
   "source": [
    "**1. Loading data on Ford Motor Co. stock prices (1998-present)**"
   ]
  },
  {
   "cell_type": "code",
   "execution_count": 43,
   "metadata": {},
   "outputs": [
    {
     "data": {
      "text/plain": [
       "2024-10-26T00:00:00"
      ]
     },
     "execution_count": 43,
     "metadata": {},
     "output_type": "execute_result"
    }
   ],
   "source": [
    "start_date = DateTime(\"1998-01-01\")\n",
    "end_date = DateTime(\"2024-10-26\")"
   ]
  },
  {
   "cell_type": "code",
   "execution_count": 47,
   "metadata": {},
   "outputs": [
    {
     "data": {
      "text/html": [
       "<div><div style = \"float: left;\"><span>5×7 DataFrame</span></div><div style = \"clear: both;\"></div></div><div class = \"data-frame\" style = \"overflow-x: scroll;\"><table class = \"data-frame\" style = \"margin-bottom: 6px;\"><thead><tr class = \"header\"><th class = \"rowNumber\" style = \"font-weight: bold; text-align: right;\">Row</th><th style = \"text-align: left;\">timestamp</th><th style = \"text-align: left;\">Open</th><th style = \"text-align: left;\">High</th><th style = \"text-align: left;\">Low</th><th style = \"text-align: left;\">Close</th><th style = \"text-align: left;\">AdjClose</th><th style = \"text-align: left;\">Volume</th></tr><tr class = \"subheader headerLastRow\"><th class = \"rowNumber\" style = \"font-weight: bold; text-align: right;\"></th><th title = \"Date\" style = \"text-align: left;\">Date</th><th title = \"Float64\" style = \"text-align: left;\">Float64</th><th title = \"Float64\" style = \"text-align: left;\">Float64</th><th title = \"Float64\" style = \"text-align: left;\">Float64</th><th title = \"Float64\" style = \"text-align: left;\">Float64</th><th title = \"Float64\" style = \"text-align: left;\">Float64</th><th title = \"Float64\" style = \"text-align: left;\">Float64</th></tr></thead><tbody><tr><td class = \"rowNumber\" style = \"font-weight: bold; text-align: right;\">1</td><td style = \"text-align: left;\">1998-01-02</td><td style = \"text-align: right;\">17.7686</td><td style = \"text-align: right;\">17.8371</td><td style = \"text-align: right;\">17.5633</td><td style = \"text-align: right;\">17.609</td><td style = \"text-align: right;\">7.15526</td><td style = \"text-align: right;\">5.32288e6</td></tr><tr><td class = \"rowNumber\" style = \"font-weight: bold; text-align: right;\">2</td><td style = \"text-align: left;\">1998-01-05</td><td style = \"text-align: right;\">17.609</td><td style = \"text-align: right;\">17.7002</td><td style = \"text-align: right;\">17.4493</td><td style = \"text-align: right;\">17.7002</td><td style = \"text-align: right;\">7.19234</td><td style = \"text-align: right;\">7.01269e6</td></tr><tr><td class = \"rowNumber\" style = \"font-weight: bold; text-align: right;\">3</td><td style = \"text-align: left;\">1998-01-06</td><td style = \"text-align: right;\">17.609</td><td style = \"text-align: right;\">17.609</td><td style = \"text-align: right;\">17.1528</td><td style = \"text-align: right;\">17.4037</td><td style = \"text-align: right;\">7.07185</td><td style = \"text-align: right;\">7.45631e6</td></tr><tr><td class = \"rowNumber\" style = \"font-weight: bold; text-align: right;\">4</td><td style = \"text-align: left;\">1998-01-07</td><td style = \"text-align: right;\">17.2896</td><td style = \"text-align: right;\">17.3809</td><td style = \"text-align: right;\">16.9019</td><td style = \"text-align: right;\">17.1984</td><td style = \"text-align: right;\">6.98843</td><td style = \"text-align: right;\">9.09872e6</td></tr><tr><td class = \"rowNumber\" style = \"font-weight: bold; text-align: right;\">5</td><td style = \"text-align: left;\">1998-01-08</td><td style = \"text-align: right;\">16.9019</td><td style = \"text-align: right;\">17.0159</td><td style = \"text-align: right;\">16.4001</td><td style = \"text-align: right;\">16.4457</td><td style = \"text-align: right;\">6.68257</td><td style = \"text-align: right;\">9.75305e6</td></tr></tbody></table></div>"
      ],
      "text/latex": [
       "\\begin{tabular}{r|ccccccc}\n",
       "\t& timestamp & Open & High & Low & Close & AdjClose & Volume\\\\\n",
       "\t\\hline\n",
       "\t& Date & Float64 & Float64 & Float64 & Float64 & Float64 & Float64\\\\\n",
       "\t\\hline\n",
       "\t1 & 1998-01-02 & 17.7686 & 17.8371 & 17.5633 & 17.609 & 7.15526 & 5.32288e6 \\\\\n",
       "\t2 & 1998-01-05 & 17.609 & 17.7002 & 17.4493 & 17.7002 & 7.19234 & 7.01269e6 \\\\\n",
       "\t3 & 1998-01-06 & 17.609 & 17.609 & 17.1528 & 17.4037 & 7.07185 & 7.45631e6 \\\\\n",
       "\t4 & 1998-01-07 & 17.2896 & 17.3809 & 16.9019 & 17.1984 & 6.98843 & 9.09872e6 \\\\\n",
       "\t5 & 1998-01-08 & 16.9019 & 17.0159 & 16.4001 & 16.4457 & 6.68257 & 9.75305e6 \\\\\n",
       "\\end{tabular}\n"
      ],
      "text/plain": [
       "\u001b[1m5×7 DataFrame\u001b[0m\n",
       "\u001b[1m Row \u001b[0m│\u001b[1m timestamp  \u001b[0m\u001b[1m Open    \u001b[0m\u001b[1m High    \u001b[0m\u001b[1m Low     \u001b[0m\u001b[1m Close   \u001b[0m\u001b[1m AdjClose \u001b[0m\u001b[1m Volume    \u001b[0m\n",
       "     │\u001b[90m Date       \u001b[0m\u001b[90m Float64 \u001b[0m\u001b[90m Float64 \u001b[0m\u001b[90m Float64 \u001b[0m\u001b[90m Float64 \u001b[0m\u001b[90m Float64  \u001b[0m\u001b[90m Float64   \u001b[0m\n",
       "─────┼─────────────────────────────────────────────────────────────────────\n",
       "   1 │ 1998-01-02  17.7686  17.8371  17.5633  17.609    7.15526  5.32288e6\n",
       "   2 │ 1998-01-05  17.609   17.7002  17.4493  17.7002   7.19234  7.01269e6\n",
       "   3 │ 1998-01-06  17.609   17.609   17.1528  17.4037   7.07185  7.45631e6\n",
       "   4 │ 1998-01-07  17.2896  17.3809  16.9019  17.1984   6.98843  9.09872e6\n",
       "   5 │ 1998-01-08  16.9019  17.0159  16.4001  16.4457   6.68257  9.75305e6"
      ]
     },
     "execution_count": 47,
     "metadata": {},
     "output_type": "execute_result"
    }
   ],
   "source": [
    "data = DataFrame(yahoo(:F, YahooOpt(period1 = start_date, period2 = end_date)));\n",
    "first(data,5)"
   ]
  },
  {
   "cell_type": "markdown",
   "metadata": {},
   "source": [
    "**2. Summary Statistics**"
   ]
  },
  {
   "cell_type": "markdown",
   "metadata": {},
   "source": [
    "The dataset contains 6748 rows and 7 columns. Descriptive Statistics dataframe shows no missing values and all variables are of the same, Float 64 datatype. "
   ]
  },
  {
   "cell_type": "code",
   "execution_count": 48,
   "metadata": {},
   "outputs": [
    {
     "data": {
      "text/plain": [
       "(6748, 7)"
      ]
     },
     "execution_count": 48,
     "metadata": {},
     "output_type": "execute_result"
    }
   ],
   "source": [
    "size(data)"
   ]
  },
  {
   "cell_type": "code",
   "execution_count": 79,
   "metadata": {},
   "outputs": [
    {
     "data": {
      "text/html": [
       "<div><div style = \"float: left;\"><span>6×5 DataFrame</span></div><div style = \"clear: both;\"></div></div><div class = \"data-frame\" style = \"overflow-x: scroll;\"><table class = \"data-frame\" style = \"margin-bottom: 6px;\"><thead><tr class = \"header\"><th class = \"rowNumber\" style = \"font-weight: bold; text-align: right;\">Row</th><th style = \"text-align: left;\">variable</th><th style = \"text-align: left;\">mean</th><th style = \"text-align: left;\">min</th><th style = \"text-align: left;\">median</th><th style = \"text-align: left;\">max</th></tr><tr class = \"subheader headerLastRow\"><th class = \"rowNumber\" style = \"font-weight: bold; text-align: right;\"></th><th title = \"Symbol\" style = \"text-align: left;\">Symbol</th><th title = \"Float64\" style = \"text-align: left;\">Float64</th><th title = \"Float64\" style = \"text-align: left;\">Float64</th><th title = \"Float64\" style = \"text-align: left;\">Float64</th><th title = \"Float64\" style = \"text-align: left;\">Float64</th></tr></thead><tbody><tr><td class = \"rowNumber\" style = \"font-weight: bold; text-align: right;\">1</td><td style = \"text-align: left;\">Open</td><td style = \"text-align: right;\">13.7064</td><td style = \"text-align: right;\">1.31</td><td style = \"text-align: right;\">12.33</td><td style = \"text-align: right;\">36.8195</td></tr><tr><td class = \"rowNumber\" style = \"font-weight: bold; text-align: right;\">2</td><td style = \"text-align: left;\">High</td><td style = \"text-align: right;\">13.892</td><td style = \"text-align: right;\">1.55</td><td style = \"text-align: right;\">12.46</td><td style = \"text-align: right;\">37.3003</td></tr><tr><td class = \"rowNumber\" style = \"font-weight: bold; text-align: right;\">3</td><td style = \"text-align: left;\">Low</td><td style = \"text-align: right;\">13.5052</td><td style = \"text-align: right;\">1.01</td><td style = \"text-align: right;\">12.17</td><td style = \"text-align: right;\">35.7204</td></tr><tr><td class = \"rowNumber\" style = \"font-weight: bold; text-align: right;\">4</td><td style = \"text-align: left;\">Close</td><td style = \"text-align: right;\">13.6943</td><td style = \"text-align: right;\">1.26</td><td style = \"text-align: right;\">12.32</td><td style = \"text-align: right;\">36.6478</td></tr><tr><td class = \"rowNumber\" style = \"font-weight: bold; text-align: right;\">5</td><td style = \"text-align: left;\">AdjClose</td><td style = \"text-align: right;\">8.08226</td><td style = \"text-align: right;\">0.705544</td><td style = \"text-align: right;\">7.84962</td><td style = \"text-align: right;\">20.9129</td></tr><tr><td class = \"rowNumber\" style = \"font-weight: bold; text-align: right;\">6</td><td style = \"text-align: left;\">Volume</td><td style = \"text-align: right;\">4.05788e7</td><td style = \"text-align: right;\">1.0243e6</td><td style = \"text-align: right;\">3.38382e7</td><td style = \"text-align: right;\">5.41176e8</td></tr></tbody></table></div>"
      ],
      "text/latex": [
       "\\begin{tabular}{r|ccccc}\n",
       "\t& variable & mean & min & median & max\\\\\n",
       "\t\\hline\n",
       "\t& Symbol & Float64 & Float64 & Float64 & Float64\\\\\n",
       "\t\\hline\n",
       "\t1 & Open & 13.7064 & 1.31 & 12.33 & 36.8195 \\\\\n",
       "\t2 & High & 13.892 & 1.55 & 12.46 & 37.3003 \\\\\n",
       "\t3 & Low & 13.5052 & 1.01 & 12.17 & 35.7204 \\\\\n",
       "\t4 & Close & 13.6943 & 1.26 & 12.32 & 36.6478 \\\\\n",
       "\t5 & AdjClose & 8.08226 & 0.705544 & 7.84962 & 20.9129 \\\\\n",
       "\t6 & Volume & 4.05788e7 & 1.0243e6 & 3.38382e7 & 5.41176e8 \\\\\n",
       "\\end{tabular}\n"
      ],
      "text/plain": [
       "\u001b[1m6×5 DataFrame\u001b[0m\n",
       "\u001b[1m Row \u001b[0m│\u001b[1m variable \u001b[0m\u001b[1m mean       \u001b[0m\u001b[1m min      \u001b[0m\u001b[1m median     \u001b[0m\u001b[1m max        \u001b[0m\n",
       "     │\u001b[90m Symbol   \u001b[0m\u001b[90m Float64    \u001b[0m\u001b[90m Float64  \u001b[0m\u001b[90m Float64    \u001b[0m\u001b[90m Float64    \u001b[0m\n",
       "─────┼────────────────────────────────────────────────────────\n",
       "   1 │ Open      13.7064     1.31      12.33       36.8195\n",
       "   2 │ High      13.892      1.55      12.46       37.3003\n",
       "   3 │ Low       13.5052     1.01      12.17       35.7204\n",
       "   4 │ Close     13.6943     1.26      12.32       36.6478\n",
       "   5 │ AdjClose   8.08226    0.705544   7.84962    20.9129\n",
       "   6 │ Volume     4.05788e7  1.0243e6   3.38382e7   5.41176e8"
      ]
     },
     "execution_count": 79,
     "metadata": {},
     "output_type": "execute_result"
    }
   ],
   "source": [
    "data1 = data[:,2:end] \n",
    "summary_stat = describe(data1) \n",
    "summary_stat = select(summary_stat, 1:5)"
   ]
  },
  {
   "cell_type": "markdown",
   "metadata": {},
   "source": [
    "There is a really wide range of values between the minimum and maximum (from 1 to 37), indicating significant fluctuations and high price volatility for the Ford Motor Co stocks. The median being around 12 lets us assume that the asset is usually priced around lower values and although it does have spikes in prices, they might be relatively rare. Being more or less consistent at a value around 12 for open, high, low and close prices, and not too different from the mean, suggests a symmetric distribution (but with occasional extreme spikes in prices)."
   ]
  },
  {
   "cell_type": "code",
   "execution_count": 73,
   "metadata": {},
   "outputs": [
    {
     "data": {
      "text/html": [
       "<div><div style = \"float: left;\"><span>6×5 DataFrame</span></div><div style = \"clear: both;\"></div></div><div class = \"data-frame\" style = \"overflow-x: scroll;\"><table class = \"data-frame\" style = \"margin-bottom: 6px;\"><thead><tr class = \"header\"><th class = \"rowNumber\" style = \"font-weight: bold; text-align: right;\">Row</th><th style = \"text-align: left;\">Variables</th><th style = \"text-align: left;\">std_dev</th><th style = \"text-align: left;\">var</th><th style = \"text-align: left;\">skew</th><th style = \"text-align: left;\">kur</th></tr><tr class = \"subheader headerLastRow\"><th class = \"rowNumber\" style = \"font-weight: bold; text-align: right;\"></th><th title = \"String\" style = \"text-align: left;\">String</th><th title = \"Float64\" style = \"text-align: left;\">Float64</th><th title = \"Float64\" style = \"text-align: left;\">Float64</th><th title = \"Float64\" style = \"text-align: left;\">Float64</th><th title = \"Float64\" style = \"text-align: left;\">Float64</th></tr></thead><tbody><tr><td class = \"rowNumber\" style = \"font-weight: bold; text-align: right;\">1</td><td style = \"text-align: left;\">Open</td><td style = \"text-align: right;\">6.52351</td><td style = \"text-align: right;\">42.5562</td><td style = \"text-align: right;\">1.23552</td><td style = \"text-align: right;\">1.25385</td></tr><tr><td class = \"rowNumber\" style = \"font-weight: bold; text-align: right;\">2</td><td style = \"text-align: left;\">High</td><td style = \"text-align: right;\">6.62182</td><td style = \"text-align: right;\">43.8485</td><td style = \"text-align: right;\">1.24915</td><td style = \"text-align: right;\">1.26425</td></tr><tr><td class = \"rowNumber\" style = \"font-weight: bold; text-align: right;\">3</td><td style = \"text-align: left;\">Low</td><td style = \"text-align: right;\">6.43734</td><td style = \"text-align: right;\">41.4393</td><td style = \"text-align: right;\">1.21741</td><td style = \"text-align: right;\">1.23084</td></tr><tr><td class = \"rowNumber\" style = \"font-weight: bold; text-align: right;\">4</td><td style = \"text-align: left;\">Close</td><td style = \"text-align: right;\">6.52659</td><td style = \"text-align: right;\">42.5964</td><td style = \"text-align: right;\">1.2315</td><td style = \"text-align: right;\">1.2482</td></tr><tr><td class = \"rowNumber\" style = \"font-weight: bold; text-align: right;\">5</td><td style = \"text-align: left;\">AdjClose</td><td style = \"text-align: right;\">3.08935</td><td style = \"text-align: right;\">9.54411</td><td style = \"text-align: right;\">0.255535</td><td style = \"text-align: right;\">-0.122361</td></tr><tr><td class = \"rowNumber\" style = \"font-weight: bold; text-align: right;\">6</td><td style = \"text-align: left;\">Volume</td><td style = \"text-align: right;\">3.69998e7</td><td style = \"text-align: right;\">1.36898e15</td><td style = \"text-align: right;\">2.75916</td><td style = \"text-align: right;\">16.684</td></tr></tbody></table></div>"
      ],
      "text/latex": [
       "\\begin{tabular}{r|ccccc}\n",
       "\t& Variables & std\\_dev & var & skew & kur\\\\\n",
       "\t\\hline\n",
       "\t& String & Float64 & Float64 & Float64 & Float64\\\\\n",
       "\t\\hline\n",
       "\t1 & Open & 6.52351 & 42.5562 & 1.23552 & 1.25385 \\\\\n",
       "\t2 & High & 6.62182 & 43.8485 & 1.24915 & 1.26425 \\\\\n",
       "\t3 & Low & 6.43734 & 41.4393 & 1.21741 & 1.23084 \\\\\n",
       "\t4 & Close & 6.52659 & 42.5964 & 1.2315 & 1.2482 \\\\\n",
       "\t5 & AdjClose & 3.08935 & 9.54411 & 0.255535 & -0.122361 \\\\\n",
       "\t6 & Volume & 3.69998e7 & 1.36898e15 & 2.75916 & 16.684 \\\\\n",
       "\\end{tabular}\n"
      ],
      "text/plain": [
       "\u001b[1m6×5 DataFrame\u001b[0m\n",
       "\u001b[1m Row \u001b[0m│\u001b[1m Variables \u001b[0m\u001b[1m std_dev   \u001b[0m\u001b[1m var         \u001b[0m\u001b[1m skew     \u001b[0m\u001b[1m kur       \u001b[0m\n",
       "     │\u001b[90m String    \u001b[0m\u001b[90m Float64   \u001b[0m\u001b[90m Float64     \u001b[0m\u001b[90m Float64  \u001b[0m\u001b[90m Float64   \u001b[0m\n",
       "─────┼────────────────────────────────────────────────────────\n",
       "   1 │ Open       6.52351    42.5562      1.23552    1.25385\n",
       "   2 │ High       6.62182    43.8485      1.24915    1.26425\n",
       "   3 │ Low        6.43734    41.4393      1.21741    1.23084\n",
       "   4 │ Close      6.52659    42.5964      1.2315     1.2482\n",
       "   5 │ AdjClose   3.08935     9.54411     0.255535  -0.122361\n",
       "   6 │ Volume     3.69998e7   1.36898e15  2.75916   16.684"
      ]
     },
     "execution_count": 73,
     "metadata": {},
     "output_type": "execute_result"
    }
   ],
   "source": [
    "# Calculating higher moments\n",
    "\n",
    "n = length(data1[1,:]) \n",
    "sd = Vector{Float64}(undef, n)\n",
    "variance = Vector{Float64}(undef, n)\n",
    "skew = Vector{Float64}(undef, n)\n",
    "kur = Vector{Float64}(undef, n)\n",
    "Variables = names(data1)\n",
    "summary_stat2 = DataFrame(Variables = Variables, std_dev = sd, var = variance, skew = skew, kur = kur)\n",
    "for i in 1:n \n",
    "    summary_stat2[i,2] = std(data1[:,i])\n",
    "    summary_stat2[i,3] = var(data1[:,i])\n",
    "    summary_stat2[i,4] = skewness(data1[:,i])\n",
    "    summary_stat2[i,5] = kurtosis(data1[:,i])\n",
    "end\n",
    "summary_stat2 \n"
   ]
  },
  {
   "cell_type": "markdown",
   "metadata": {},
   "source": [
    "Continuing further with descriptive statistics for higher moments, we notice that all variables are positively skewed and expect that there will be a higher likelihood of experiencing extreme positive returns, rather than negative. However, kurtosis is always less than 2, indicating a significantly flatter distribution and fewer extreme values. Looking at adjusted close values, we can see that adjusting for dividends and stock splits has a big effect on reducing the extreme fluctuations in price.  \n",
    "To get a more comprehensive overview we put the measures together."
   ]
  },
  {
   "cell_type": "code",
   "execution_count": 75,
   "metadata": {},
   "outputs": [
    {
     "data": {
      "text/html": [
       "<div><div style = \"float: left;\"><span>6×7 DataFrame</span></div><div style = \"clear: both;\"></div></div><div class = \"data-frame\" style = \"overflow-x: scroll;\"><table class = \"data-frame\" style = \"margin-bottom: 6px;\"><thead><tr class = \"header\"><th class = \"rowNumber\" style = \"font-weight: bold; text-align: right;\">Row</th><th style = \"text-align: left;\">variable</th><th style = \"text-align: left;\">mean</th><th style = \"text-align: left;\">min</th><th style = \"text-align: left;\">median</th><th style = \"text-align: left;\">max</th><th style = \"text-align: left;\">std_dev</th><th style = \"text-align: left;\">var</th></tr><tr class = \"subheader headerLastRow\"><th class = \"rowNumber\" style = \"font-weight: bold; text-align: right;\"></th><th title = \"Symbol\" style = \"text-align: left;\">Symbol</th><th title = \"Float64\" style = \"text-align: left;\">Float64</th><th title = \"Float64\" style = \"text-align: left;\">Float64</th><th title = \"Float64\" style = \"text-align: left;\">Float64</th><th title = \"Float64\" style = \"text-align: left;\">Float64</th><th title = \"Float64\" style = \"text-align: left;\">Float64</th><th title = \"Float64\" style = \"text-align: left;\">Float64</th></tr></thead><tbody><tr><td class = \"rowNumber\" style = \"font-weight: bold; text-align: right;\">1</td><td style = \"text-align: left;\">Open</td><td style = \"text-align: right;\">13.7064</td><td style = \"text-align: right;\">1.31</td><td style = \"text-align: right;\">12.33</td><td style = \"text-align: right;\">36.8195</td><td style = \"text-align: right;\">6.52351</td><td style = \"text-align: right;\">42.5562</td></tr><tr><td class = \"rowNumber\" style = \"font-weight: bold; text-align: right;\">2</td><td style = \"text-align: left;\">High</td><td style = \"text-align: right;\">13.892</td><td style = \"text-align: right;\">1.55</td><td style = \"text-align: right;\">12.46</td><td style = \"text-align: right;\">37.3003</td><td style = \"text-align: right;\">6.62182</td><td style = \"text-align: right;\">43.8485</td></tr><tr><td class = \"rowNumber\" style = \"font-weight: bold; text-align: right;\">3</td><td style = \"text-align: left;\">Low</td><td style = \"text-align: right;\">13.5052</td><td style = \"text-align: right;\">1.01</td><td style = \"text-align: right;\">12.17</td><td style = \"text-align: right;\">35.7204</td><td style = \"text-align: right;\">6.43734</td><td style = \"text-align: right;\">41.4393</td></tr><tr><td class = \"rowNumber\" style = \"font-weight: bold; text-align: right;\">4</td><td style = \"text-align: left;\">Close</td><td style = \"text-align: right;\">13.6943</td><td style = \"text-align: right;\">1.26</td><td style = \"text-align: right;\">12.32</td><td style = \"text-align: right;\">36.6478</td><td style = \"text-align: right;\">6.52659</td><td style = \"text-align: right;\">42.5964</td></tr><tr><td class = \"rowNumber\" style = \"font-weight: bold; text-align: right;\">5</td><td style = \"text-align: left;\">AdjClose</td><td style = \"text-align: right;\">8.08226</td><td style = \"text-align: right;\">0.705544</td><td style = \"text-align: right;\">7.84962</td><td style = \"text-align: right;\">20.9129</td><td style = \"text-align: right;\">3.08935</td><td style = \"text-align: right;\">9.54411</td></tr><tr><td class = \"rowNumber\" style = \"font-weight: bold; text-align: right;\">6</td><td style = \"text-align: left;\">Volume</td><td style = \"text-align: right;\">4.05788e7</td><td style = \"text-align: right;\">1.0243e6</td><td style = \"text-align: right;\">3.38382e7</td><td style = \"text-align: right;\">5.41176e8</td><td style = \"text-align: right;\">3.69998e7</td><td style = \"text-align: right;\">1.36898e15</td></tr></tbody></table></div>"
      ],
      "text/latex": [
       "\\begin{tabular}{r|ccccccc}\n",
       "\t& variable & mean & min & median & max & std\\_dev & var\\\\\n",
       "\t\\hline\n",
       "\t& Symbol & Float64 & Float64 & Float64 & Float64 & Float64 & Float64\\\\\n",
       "\t\\hline\n",
       "\t1 & Open & 13.7064 & 1.31 & 12.33 & 36.8195 & 6.52351 & 42.5562 \\\\\n",
       "\t2 & High & 13.892 & 1.55 & 12.46 & 37.3003 & 6.62182 & 43.8485 \\\\\n",
       "\t3 & Low & 13.5052 & 1.01 & 12.17 & 35.7204 & 6.43734 & 41.4393 \\\\\n",
       "\t4 & Close & 13.6943 & 1.26 & 12.32 & 36.6478 & 6.52659 & 42.5964 \\\\\n",
       "\t5 & AdjClose & 8.08226 & 0.705544 & 7.84962 & 20.9129 & 3.08935 & 9.54411 \\\\\n",
       "\t6 & Volume & 4.05788e7 & 1.0243e6 & 3.38382e7 & 5.41176e8 & 3.69998e7 & 1.36898e15 \\\\\n",
       "\\end{tabular}\n"
      ],
      "text/plain": [
       "\u001b[1m6×7 DataFrame\u001b[0m\n",
       "\u001b[1m Row \u001b[0m│\u001b[1m variable \u001b[0m\u001b[1m mean       \u001b[0m\u001b[1m min      \u001b[0m\u001b[1m median     \u001b[0m\u001b[1m max        \u001b[0m\u001b[1m std_dev   \u001b[0m\u001b[1m var \u001b[0m ⋯\n",
       "     │\u001b[90m Symbol   \u001b[0m\u001b[90m Float64    \u001b[0m\u001b[90m Float64  \u001b[0m\u001b[90m Float64    \u001b[0m\u001b[90m Float64    \u001b[0m\u001b[90m Float64   \u001b[0m\u001b[90m Floa\u001b[0m ⋯\n",
       "─────┼──────────────────────────────────────────────────────────────────────────\n",
       "   1 │ Open      13.7064     1.31      12.33       36.8195     6.52351    42.5 ⋯\n",
       "   2 │ High      13.892      1.55      12.46       37.3003     6.62182    43.8\n",
       "   3 │ Low       13.5052     1.01      12.17       35.7204     6.43734    41.4\n",
       "   4 │ Close     13.6943     1.26      12.32       36.6478     6.52659    42.5\n",
       "   5 │ AdjClose   8.08226    0.705544   7.84962    20.9129     3.08935     9.5 ⋯\n",
       "   6 │ Volume     4.05788e7  1.0243e6   3.38382e7   5.41176e8  3.69998e7   1.3\n",
       "\u001b[36m                                                                1 column omitted\u001b[0m"
      ]
     },
     "execution_count": 75,
     "metadata": {},
     "output_type": "execute_result"
    }
   ],
   "source": [
    "adding_columns = select(summary_stat2, :std_dev, :var)\n",
    "stats = hcat(summary_stat, adding_columns)"
   ]
  },
  {
   "cell_type": "code",
   "execution_count": 76,
   "metadata": {},
   "outputs": [
    {
     "data": {
      "text/plain": [
       "6×6 Matrix{Float64}:\n",
       " 42.5562     43.176      41.9712     42.535      15.9322     -8.90384e7\n",
       " 43.176      43.8485     42.5974     43.1986     16.1682     -8.92264e7\n",
       " 41.9712     42.5974     41.4393     41.9942     15.7587     -8.94821e7\n",
       " 42.535      43.1986     41.9942     42.5964     15.9748     -8.92909e7\n",
       " 15.9322     16.1682     15.7587     15.9748      9.54411    -1.28222e7\n",
       " -8.90384e7  -8.92264e7  -8.94821e7  -8.92909e7  -1.28222e7   1.36898e15"
      ]
     },
     "execution_count": 76,
     "metadata": {},
     "output_type": "execute_result"
    }
   ],
   "source": [
    "cov_matrix = cov(Matrix(data1))"
   ]
  },
  {
   "cell_type": "markdown",
   "metadata": {},
   "source": [
    "**Covariance matrix** shows us that trading volume has a negative covariance with other price variables, implying that a high trading volume is associated with lower prices.  \n",
    "The price variables, however, have positive covariances with eachother, indicating that they experience movements in the same direction and when opening price is high, the closing tends to be as well. This is to be expected from financial markets, as these prices typically move together throughout the trading day.    "
   ]
  },
  {
   "cell_type": "code",
   "execution_count": 77,
   "metadata": {},
   "outputs": [
    {
     "data": {
      "text/plain": [
       "6×6 Matrix{Float64}:\n",
       "  1.0        0.999502   0.999456   0.999031   0.790543  -0.368891\n",
       "  0.999502   1.0        0.99931    0.999553   0.790346  -0.364181\n",
       "  0.999456   0.99931    1.0        0.999532   0.792405  -0.375691\n",
       "  0.999031   0.999553   0.999532   1.0        0.792282  -0.369762\n",
       "  0.790543   0.790346   0.792405   0.792282   1.0       -0.112175\n",
       " -0.368891  -0.364181  -0.375691  -0.369762  -0.112175   1.0"
      ]
     },
     "execution_count": 77,
     "metadata": {},
     "output_type": "execute_result"
    }
   ],
   "source": [
    "cor_matrix = cor(Matrix(data1))"
   ]
  },
  {
   "cell_type": "markdown",
   "metadata": {},
   "source": [
    "**Correlation matrix** between the trading volume and all other price variables shows a negative, but weak linear relationship. This comes as no surprise and follows our basic economic intuition.  \n",
    "Price variables have very high (0.99) correlation coefficients between eachother, indicating strong positive relationships, as we would expect.  \n",
    "Adjusted Close price still exhibits a strong positive correlation to other price variables, but slightly lower as it is adjusted for splits and dividends which may reduce the correlation with the unadjusted variables."
   ]
  },
  {
   "cell_type": "code",
   "execution_count": 110,
   "metadata": {},
   "outputs": [
    {
     "name": "stderr",
     "output_type": "stream",
     "text": [
      "\u001b[32m\u001b[1m   Resolving\u001b[22m\u001b[39m package versions...\n",
      "\u001b[32m\u001b[1m  No Changes\u001b[22m\u001b[39m to `C:\\Users\\Korisnik\\Documents\\GitHub\\Project-1\\Project.toml`\n",
      "\u001b[32m\u001b[1m  No Changes\u001b[22m\u001b[39m to `C:\\Users\\Korisnik\\Documents\\GitHub\\Project-1\\Manifest.toml`\n",
      "\u001b[32m\u001b[1mPrecompiling\u001b[22m\u001b[39m project...\n",
      "\u001b[91m  ✗ \u001b[39m\u001b[90mZipFile\u001b[39m\n",
      "\u001b[91m  ✗ \u001b[39m\u001b[90mDualNumbers\u001b[39m\n",
      "\u001b[91m  ✗ \u001b[39m\u001b[90mForwardDiff\u001b[39m\n",
      "\u001b[91m  ✗ \u001b[39m\u001b[90mPNGFiles\u001b[39m\n",
      "\u001b[91m  ✗ \u001b[39m\u001b[90mColorVectorSpace\u001b[39m\n",
      "\u001b[91m  ✗ \u001b[39m\u001b[90mStatsModels\u001b[39m\n",
      "\u001b[91m  ✗ \u001b[39m\u001b[90mQuaternions\u001b[39m\n",
      "\u001b[91m  ✗ \u001b[39mFlux\n",
      "\u001b[91m  ✗ \u001b[39m\u001b[90mNLSolversBase\u001b[39m\n",
      "\u001b[91m  ✗ \u001b[39m\u001b[90mRoots → RootsForwardDiffExt\u001b[39m\n",
      "\u001b[91m  ✗ \u001b[39m\u001b[90mImageMorphology\u001b[39m\n",
      "\u001b[91m  ✗ \u001b[39m\u001b[90mImageMetadata\u001b[39m\n",
      "\u001b[91m  ✗ \u001b[39m\u001b[90mNetpbm\u001b[39m\n",
      "\u001b[91m  ✗ \u001b[39m\u001b[90mImageFiltering\u001b[39m\n",
      "\u001b[91m  ✗ \u001b[39m\u001b[90mMathOptInterface\u001b[39m\n",
      "\u001b[91m  ✗ \u001b[39mGLM\n",
      "\u001b[91m  ✗ \u001b[39m\u001b[90mRotations\u001b[39m\n",
      "\u001b[91m  ✗ \u001b[39m\u001b[90mLineSearches\u001b[39m\n",
      "\u001b[91m  ✗ \u001b[39m\u001b[90mHypothesisTests\u001b[39m\n",
      "\u001b[91m  ✗ \u001b[39m\u001b[90mImageDistances\u001b[39m\n",
      "\u001b[91m  ✗ \u001b[39mOptim\n",
      "\u001b[91m  ✗ \u001b[39m\u001b[90mImageTransformations\u001b[39m\n",
      "\u001b[91m  ✗ \u001b[39m\u001b[90mImageQualityIndexes\u001b[39m\n",
      "\u001b[91m  ✗ \u001b[39m\u001b[90mOptim → OptimMOIExt\u001b[39m\n",
      "\u001b[91m  ✗ \u001b[39m\u001b[90mImageContrastAdjustment\u001b[39m\n",
      "\u001b[91m  ✗ \u001b[39mARCHModels\n",
      "\u001b[91m  ✗ \u001b[39mImages\n",
      "\u001b[91m  ✗ \u001b[39m\u001b[90mNLopt\u001b[39m\n",
      "\u001b[91m  ✗ \u001b[39mGARCH\n",
      "  0 dependencies successfully precompiled in 478 seconds. 226 already precompiled. 6 skipped during auto due to previous errors.\n",
      "  \u001b[91m29\u001b[39m dependencies errored.\n",
      "  For a report of the errors see `julia> err`. To retry use `pkg> precompile`\n",
      "\u001b[32m\u001b[1m   Resolving\u001b[22m\u001b[39m package versions...\n",
      "\u001b[32m\u001b[1m  No Changes\u001b[22m\u001b[39m to `C:\\Users\\Korisnik\\Documents\\GitHub\\Project-1\\Project.toml`\n",
      "\u001b[32m\u001b[1m  No Changes\u001b[22m\u001b[39m to `C:\\Users\\Korisnik\\Documents\\GitHub\\Project-1\\Manifest.toml`\n"
     ]
    }
   ],
   "source": [
    "Pkg.add(\"GR\")\n",
    "Pkg.add([\"Flux\",\"GLM\"])"
   ]
  },
  {
   "cell_type": "code",
   "execution_count": 109,
   "metadata": {},
   "outputs": [
    {
     "ename": "ErrorException",
     "evalue": "could not load library \"libGR.dll\"\nThe specified module could not be found. ",
     "output_type": "error",
     "traceback": [
      "could not load library \"libGR.dll\"\nThe specified module could not be found. ",
      "",
      "Stacktrace:",
      "  [1] setcharheight",
      "    @ C:\\Users\\Korisnik\\.julia\\packages\\GR\\yMV3y\\src\\GR.jl:1273 [inlined]",
      "  [2] gr_set_font(f::Plots.Font; halign::Symbol, valign::Symbol, color::RGB{FixedPointNumbers.N0f8}, rotation::Int64)",
      "    @ Plots C:\\Users\\Korisnik\\.julia\\packages\\Plots\\8GUYs\\src\\backends\\gr.jl:394",
      "  [3] gr_set_xticks_font(sp::Plots.Subplot{Plots.GRBackend})",
      "    @ Plots C:\\Users\\Korisnik\\.julia\\packages\\Plots\\8GUYs\\src\\backends\\gr.jl:733",
      "  [4] _update_min_padding!(sp::Plots.Subplot{Plots.GRBackend})",
      "    @ Plots C:\\Users\\Korisnik\\.julia\\packages\\Plots\\8GUYs\\src\\backends\\gr.jl:928",
      "  [5] iterate",
      "    @ .\\generator.jl:47 [inlined]",
      "  [6] _collect(c::Matrix{AbstractLayout}, itr::Base.Generator{Matrix{AbstractLayout}, typeof(Plots._update_min_padding!)}, ::Base.EltypeUnknown, isz::Base.HasShape{2})",
      "    @ Base .\\array.jl:854",
      "  [7] collect_similar",
      "    @ .\\array.jl:763 [inlined]",
      "  [8] map",
      "    @ .\\abstractarray.jl:3285 [inlined]",
      "  [9] _update_min_padding!(layout::Plots.GridLayout)",
      "    @ Plots C:\\Users\\Korisnik\\.julia\\packages\\Plots\\8GUYs\\src\\layouts.jl:310",
      " [10] prepare_output(plt::Plots.Plot{Plots.GRBackend})",
      "    @ Plots C:\\Users\\Korisnik\\.julia\\packages\\Plots\\8GUYs\\src\\plot.jl:184",
      " [11] show(io::IOBuffer, m::MIME{Symbol(\"image/svg+xml\")}, plt::Plots.Plot{Plots.GRBackend})",
      "    @ Plots C:\\Users\\Korisnik\\.julia\\packages\\Plots\\8GUYs\\src\\output.jl:214",
      " [12] sprint(::Function, ::MIME{Symbol(\"image/svg+xml\")}, ::Vararg{Any}; context::Nothing, sizehint::Int64)",
      "    @ Base .\\strings\\io.jl:114",
      " [13] sprint",
      "    @ .\\strings\\io.jl:107 [inlined]",
      " [14] _ijulia_display_dict(plt::Plots.Plot{Plots.GRBackend})",
      "    @ Plots C:\\Users\\Korisnik\\.julia\\packages\\Plots\\8GUYs\\src\\ijulia.jl:53",
      " [15] display_dict(plt::Plots.Plot{Plots.GRBackend})",
      "    @ Plots C:\\Users\\Korisnik\\.julia\\packages\\Plots\\8GUYs\\src\\init.jl:81",
      " [16] #invokelatest#2",
      "    @ .\\essentials.jl:892 [inlined]",
      " [17] invokelatest",
      "    @ .\\essentials.jl:889 [inlined]",
      " [18] execute_request(socket::ZMQ.Socket, msg::IJulia.Msg)",
      "    @ IJulia C:\\Users\\Korisnik\\.julia\\packages\\IJulia\\bHdNn\\src\\execute_request.jl:112",
      " [19] #invokelatest#2",
      "    @ .\\essentials.jl:892 [inlined]",
      " [20] invokelatest",
      "    @ .\\essentials.jl:889 [inlined]",
      " [21] eventloop(socket::ZMQ.Socket)",
      "    @ IJulia C:\\Users\\Korisnik\\.julia\\packages\\IJulia\\bHdNn\\src\\eventloop.jl:8",
      " [22] (::IJulia.var\"#15#18\")()",
      "    @ IJulia C:\\Users\\Korisnik\\.julia\\packages\\IJulia\\bHdNn\\src\\eventloop.jl:38"
     ]
    }
   ],
   "source": [
    "#Adjust Close Price histogram\n",
    "hist1 = histogram(adjclose_col, bins = 50, framestyle=:box,  label = \"Adjusted Close Price\",grid = true, legend = true, ylabel = \"Count\", color = \"firebrick\", linecolor = \"white\")\n",
    "# alpha = 0.2; with this you can set transparency of the colours"
   ]
  }
 ],
 "metadata": {
  "kernelspec": {
   "display_name": "Julia 1.10.5",
   "language": "julia",
   "name": "julia-1.10"
  },
  "language_info": {
   "file_extension": ".jl",
   "mimetype": "application/julia",
   "name": "julia",
   "version": "1.10.5"
  }
 },
 "nbformat": 4,
 "nbformat_minor": 2
}
